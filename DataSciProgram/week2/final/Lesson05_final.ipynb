{
  "cells": [
    {
      "cell_type": "markdown",
      "metadata": {
        "id": "xv_TLtW6gb4p"
      },
      "source": [
        "# Lesson 05 Functions and Modules"
      ]
    },
    {
      "cell_type": "markdown",
      "metadata": {
        "id": "U8LxIp5Ogb4t"
      },
      "source": [
        "# Functions\n",
        "\n",
        "- A **Function** is a named sequence of statements which accomplish a task. They promote modularity, making our code less complex, easier to understand and encourage code-reuse.\n",
        "- When you “run” a defined function it’s known as a **function call**. Functions are designed to be ***written once***, but ***called many times***.\n",
        "- We've seen functions before:  "
      ]
    },
    {
      "cell_type": "code",
      "execution_count": null,
      "metadata": {
        "id": "Nh3fR2Jegb4u"
      },
      "outputs": [],
      "source": [
        "# input(). random.randint(), and int() are all functions!\n",
        "import random\n",
        "x = input(\"Enter Name: \")\n",
        "y = random.randint(1,10)  #random is the module, randint() is the function\n",
        "z = int(\"9\")"
      ]
    },
    {
      "cell_type": "markdown",
      "metadata": {
        "id": "Q6WbuIlrgb4w"
      },
      "source": [
        "# Functions, continued\n",
        "\n",
        "- Functions are like their own little programs. They take input, which we call the **function arguments (or parameters)** and give us back output that we refer to as **return values**.\n",
        "\n",
        "![image.png](data:image/png;base64,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)"
      ]
    },
    {
      "cell_type": "markdown",
      "metadata": {
        "id": "3g8RFX3wgb4x"
      },
      "source": [
        "# Functions & Python Modules\n",
        "\n",
        "- Python **modules** are separate files of Python functions.\n",
        "- In an object-oriented context functions are called **Methods**. Methods are functions attached to a Python object variable.\n",
        "- When you **import** a module, Python executes the and all the variables and methods/ functions module become available to your program.\n",
        "- In this example:\n",
        "  - `random` is the Python object variable\n",
        "  - `randint` is the Python method function for object variable `random`\n",
        "  - `print()` is a Python function"
      ]
    },
    {
      "cell_type": "code",
      "execution_count": null,
      "metadata": {
        "id": "kIlv1fTPgb4x"
      },
      "outputs": [],
      "source": [
        "import random\n",
        "x = random.randint(1,10)\n",
        "print(x)"
      ]
    },
    {
      "cell_type": "markdown",
      "metadata": {
        "id": "hIC6pA6Jgb4y"
      },
      "source": [
        "# dir() and help() built-in functions\n",
        "\n",
        "- The **dir()** function will display the names defined by the module. This will help you find the method functions.\n",
        "- You can get **help()** on any function name to see how to use it.\n"
      ]
    },
    {
      "cell_type": "code",
      "execution_count": null,
      "metadata": {
        "id": "uedBdBin-sbQ"
      },
      "outputs": [],
      "source": [
        "import random\n",
        "dir(random)"
      ]
    },
    {
      "cell_type": "code",
      "execution_count": null,
      "metadata": {
        "id": "2zGudgyo_ufE"
      },
      "outputs": [],
      "source": [
        "help(random.randint)"
      ]
    },
    {
      "cell_type": "markdown",
      "metadata": {
        "id": "BEthDFfSgb4z"
      },
      "source": [
        "# Example 1\n",
        "\n",
        "Import Modules:\n",
        "- Import sys, math and random\n",
        "- dir()\n",
        "- help()\n",
        "\n"
      ]
    },
    {
      "cell_type": "code",
      "execution_count": null,
      "metadata": {
        "id": "cWzHwu3yjJAR"
      },
      "outputs": [],
      "source": [
        "# Let's import the math module from the Python standard library\n",
        "import math"
      ]
    },
    {
      "cell_type": "code",
      "execution_count": null,
      "metadata": {
        "id": "vcqOhJQjjLP0"
      },
      "outputs": [],
      "source": [
        "# what can we do with math? use the dir() function to investigate\n",
        "dir(math)"
      ]
    },
    {
      "cell_type": "code",
      "execution_count": null,
      "metadata": {
        "id": "Bw3252oujUIs"
      },
      "outputs": [],
      "source": [
        "# let's supose I want to use factorial... how do I get help?\n",
        "help(math.factorial)"
      ]
    },
    {
      "cell_type": "code",
      "execution_count": null,
      "metadata": {
        "id": "TsozxxEqjhEW"
      },
      "outputs": [],
      "source": [
        "# okay let's try it:\n",
        "math.factorial(5)"
      ]
    },
    {
      "cell_type": "code",
      "execution_count": null,
      "metadata": {
        "id": "VgnuGjP8j2x5"
      },
      "outputs": [],
      "source": [
        "# how about another one?\n",
        "help(math.gcd)"
      ]
    },
    {
      "cell_type": "code",
      "execution_count": null,
      "metadata": {
        "id": "84nz0J5jkAKk"
      },
      "outputs": [],
      "source": [
        "# trying it out\n",
        "result = math.gcd(24,32)\n",
        "print (result)"
      ]
    },
    {
      "cell_type": "markdown",
      "metadata": {
        "id": "uQpJBsz4gb4z"
      },
      "source": [
        "# Built in Modules vs. External\n",
        "\n",
        "- The Python language has several modules which are included with the base language: **Python Standard Library** https://docs.python.org/3/library/\n",
        "- In addition you can import other libraries found on the Internet.\n",
        "- The Python Package Index is a website which allows you to search for other code avaialbe for use. https://pypi.org/\n",
        "- Once you know which package you want, you can install it with the `pip` command from the terminal.\n",
        "- example: `pip install <name-of-package>`"
      ]
    },
    {
      "cell_type": "markdown",
      "metadata": {
        "id": "jq1RXT4Agb4z"
      },
      "source": [
        "# Importing Modules\n",
        "\n",
        "Modules which are not built-in must be imported with the `import` command.\n",
        "\n",
        "\n",
        "- `import foo` imports all code from module `foo`\n",
        "- `from foo import bar,baz` only imports the `bar` and `baz` functions from module `foo`\n",
        "- `import foo as f` imports all code from module `foo` and renames it to `f` (usually to avoid naming conflicts)"
      ]
    },
    {
      "cell_type": "markdown",
      "metadata": {
        "id": "BhQ73pYygb4z"
      },
      "source": [
        "# Installing Modules you Don't have\n",
        "\n",
        "- Find code modules at the Python Package Index [https://pypi.org](https://pypi.org)\n",
        "- Other people's code published as a package you can download and install.\n",
        "- Use the package installer, `pip` to install in your own Python environment.\n",
        "- In notebook cell `!pip install <modulename>`\n"
      ]
    },
    {
      "cell_type": "markdown",
      "metadata": {
        "id": "8TBfIWa9gb41"
      },
      "source": [
        "# User-Defined Functions\n",
        "\n",
        "- We can create out own functions with Python's  **def** statement.\n",
        "- Function are like little programs with inputs and outputs.\n",
        "- function inputs go in the `()` after the function name. These are called the **arguments** of the function.\n",
        "- Functions outputs are specified in a `return` statement within your function code."
      ]
    },
    {
      "cell_type": "code",
      "execution_count": null,
      "metadata": {
        "id": "rMP1a-oOgb42"
      },
      "outputs": [],
      "source": [
        "# arguments are input into the function\n",
        "# return is the output\n",
        "def my_function_name(input_arguments):\n",
        "      statements-in-function\n",
        "      return output_expression"
      ]
    },
    {
      "cell_type": "markdown",
      "metadata": {
        "id": "5q2tbJ0cF7t0"
      },
      "source": [
        "# Example 2"
      ]
    },
    {
      "cell_type": "code",
      "execution_count": null,
      "metadata": {
        "id": "xlK7LaR-F6vE"
      },
      "outputs": [],
      "source": [
        "## Function: rectangle_area\n",
        "## Arguments (inputs): length and Width\n",
        "## Returns (output): area\n",
        "\n",
        "def rectangle_area(length, width):\n",
        "    area = length * width\n",
        "    return area"
      ]
    },
    {
      "cell_type": "code",
      "execution_count": null,
      "metadata": {
        "id": "r-42pHjLGt04"
      },
      "outputs": [],
      "source": [
        "result = rectangle_area(10,5)\n",
        "print(result)"
      ]
    },
    {
      "cell_type": "code",
      "execution_count": null,
      "metadata": {
        "id": "T8Ra12YAG6Rc"
      },
      "outputs": [],
      "source": [
        "# named arguments example\n",
        "side = 10\n",
        "area_of_a_square = rectangle_area(length=side, width=side)\n",
        "print (area_of_a_square)"
      ]
    },
    {
      "cell_type": "code",
      "execution_count": null,
      "metadata": {
        "id": "KdLcVocVHO8G"
      },
      "outputs": [],
      "source": [
        "## Function: rectangle_perimeter\n",
        "## Arguments (inputs): length and Width\n",
        "## Returns (output): perimeter\n",
        "\n",
        "def rectangle_perimeter(length, width):\n",
        "    perm = 2 * (length + width)\n",
        "    return perm"
      ]
    },
    {
      "cell_type": "code",
      "execution_count": null,
      "metadata": {
        "id": "4pq4TShNHbe9"
      },
      "outputs": [],
      "source": [
        "fence_length = rectangle_perimeter(width=100,length=50)\n",
        "print (fence_length)"
      ]
    },
    {
      "cell_type": "markdown",
      "metadata": {
        "id": "ttTY_d3NH3G9"
      },
      "source": [
        "### Let's Do Text to Speech in Python!\n",
        "\n",
        "- use Pypi https://pypi.org/ to find a Python package... gTTS\n",
        "- import the Python package into our environment using `pip`\n",
        "- demonstrate different ways you can use `import` to bring in the code we need.\n",
        "- use `dir()` and `help()` to figure things out.\n"
      ]
    },
    {
      "cell_type": "markdown",
      "metadata": {
        "id": "q1LAtIB1JaPp"
      },
      "source": [
        "### User defined text to speech function\n",
        "\n",
        "- Functions make code readable and promote re-use!\n",
        "- Concept: Named Arguments for language or accent\n"
      ]
    },
    {
      "cell_type": "code",
      "execution_count": null,
      "metadata": {
        "colab": {
          "base_uri": "https://localhost:8080/"
        },
        "id": "_lwJhQ8zIIBh",
        "outputId": "f6a41c81-f41a-4f88-b6fe-2ee3a0e4fd3b"
      },
      "outputs": [],
      "source": [
        "! pip install gtts"
      ]
    },
    {
      "cell_type": "code",
      "execution_count": null,
      "metadata": {
        "id": "lrArYVWYIJu5"
      },
      "outputs": [],
      "source": [
        "import gtts\n",
        "from IPython.display import display, Audio"
      ]
    },
    {
      "cell_type": "code",
      "execution_count": null,
      "metadata": {
        "id": "PuP28TZ7IXqz"
      },
      "outputs": [],
      "source": [
        "def speak(text, lang='en', autoplay=True, echo=False):\n",
        "    '''\n",
        "    This will use gTTS to take your text and speak it.\n",
        "\n",
        "    Example:\n",
        "\n",
        "    speak(\"Hello!\")\n",
        "    '''\n",
        "    speech = gtts.gTTS(text, slow=False, lang=lang)\n",
        "    speech.save(\"demo.mp3\")\n",
        "    if echo:\n",
        "        print(text)\n",
        "    return Audio(\"demo.mp3\",autoplay=autoplay)"
      ]
    },
    {
      "cell_type": "code",
      "execution_count": null,
      "metadata": {
        "colab": {
          "base_uri": "https://localhost:8080/",
          "height": 75
        },
        "id": "ONRQM4AzIg8T",
        "outputId": "58d3b7d3-677d-4b69-d139-8ee633dc6329"
      },
      "outputs": [],
      "source": [
        "speak('This is a fun example of Python')"
      ]
    },
    {
      "cell_type": "markdown",
      "metadata": {
        "id": "UO3W0GmzlGXN"
      },
      "source": [
        "# Docstrings\n",
        "\n",
        "A Docstring is a multi-line comment which explains what the function does to the function caller."
      ]
    },
    {
      "cell_type": "markdown",
      "metadata": {
        "id": "YqI1rpPfgb43"
      },
      "source": [
        "# Function Variable Scope\n",
        "\n",
        "- Variables defined outside any function are **Global Variables**. These  are accessible ***from everywhere*** including inside function definitions.\n",
        "- Variables defined inside a function are **Local Variables**, and are only accessible inside the function definition.\n",
        "- Local variables with the same name take precedence over global variables\n",
        "- **Best Practice: <font color='green'> Avoid Global Variable Use In Functions!!! </font>**\n"
      ]
    },
    {
      "cell_type": "markdown",
      "metadata": {
        "id": "vE7hyMZFgb43"
      },
      "source": [
        "# Scope Example\n",
        "\n",
        "- `a` = local to function `x()`\n",
        "- `b` = global scope\n",
        "- `c` = value of \"d\" in function `x()` value of \"t\" globally"
      ]
    },
    {
      "cell_type": "code",
      "execution_count": null,
      "metadata": {
        "id": "9vWH5_1Zgb44"
      },
      "outputs": [],
      "source": [
        "b = \"a\"\n",
        "c = \"t\"\n",
        "def x(a):\n",
        "    c = \"d\"\n",
        "    return a+b+c\n",
        "print(x(\"p\"))\n",
        "print(c)"
      ]
    },
    {
      "cell_type": "markdown",
      "metadata": {
        "id": "6fuCP_2-J0HF"
      },
      "source": [
        "# Example 3"
      ]
    },
    {
      "cell_type": "code",
      "execution_count": null,
      "metadata": {
        "id": "trpNVyX-KpE4"
      },
      "outputs": [],
      "source": [
        "def area_incorrect():\n",
        "    area = length * width # these are in the global scope!!!!\n",
        "    return area"
      ]
    },
    {
      "cell_type": "code",
      "execution_count": null,
      "metadata": {
        "id": "gHVdq_R5KtX4"
      },
      "outputs": [],
      "source": [
        "## Always pass in arguments from the global scope!\n",
        "\n",
        "def area_correct(length, width):\n",
        "    area = length * width # these are local copies from the global scope...\n",
        "    length = 0\n",
        "    width = 0 # what happens here, stays here!\n",
        "    return area"
      ]
    },
    {
      "cell_type": "code",
      "execution_count": null,
      "metadata": {
        "id": "nc-_CqlFK1qX"
      },
      "outputs": [],
      "source": [
        "# in the global scope\n",
        "length = 5\n",
        "width = 10\n",
        "area = area_correct(length,width)\n",
        "print (\"length=\",length, \"width=\",width, \"area=\",area)"
      ]
    },
    {
      "cell_type": "markdown",
      "metadata": {
        "id": "AxA91Elkgb44"
      },
      "source": [
        "# IPython display and interact\n",
        "\n",
        "- Now that we covered functions we can write programs with better input/output!\n",
        "- `IPython.display` for output\n",
        "- `ipywdgets.interact` and `interact_manual` for better input.\n",
        "- Write a function to do something\n",
        "- decorate with `interact_manual()`"
      ]
    },
    {
      "cell_type": "markdown",
      "metadata": {
        "id": "scyWWihLgb44"
      },
      "source": [
        "# Example 4\n",
        "\n",
        "### IPython Interactive\n",
        "\n",
        "- Write a function call the `speak()` function we wrote.\n",
        "- call with `@interact_manual` so arguments can be entered at run time.\n"
      ]
    },
    {
      "cell_type": "code",
      "execution_count": null,
      "metadata": {
        "id": "HfCv661SLSa-"
      },
      "outputs": [],
      "source": [
        "!pip install gtts"
      ]
    },
    {
      "cell_type": "code",
      "execution_count": null,
      "metadata": {
        "id": "ypfK1T2fLply"
      },
      "outputs": [],
      "source": [
        "import gtts\n",
        "from IPython.display import display, Audio\n",
        "from ipywidgets import interact, interact_manual\n",
        "from time import sleep"
      ]
    },
    {
      "cell_type": "code",
      "execution_count": null,
      "metadata": {
        "id": "H0QdLBMLLyaU"
      },
      "outputs": [],
      "source": [
        "def speak(text, lang='en' ,autoplay=True, slow=False, echo=False):\n",
        "    '''\n",
        "    This will use gTTS to take your text and speak it.\n",
        "\n",
        "    Example:\n",
        "\n",
        "    speak(\"Hello!\")\n",
        "    '''\n",
        "    speech = gtts.gTTS(text, lang = lang, slow=slow)\n",
        "    speech.save(\"demo.mp3\")\n",
        "    if echo:\n",
        "        print(text)\n",
        "    return Audio(\"demo.mp3\", autoplay=autoplay)"
      ]
    },
    {
      "cell_type": "code",
      "execution_count": null,
      "metadata": {
        "colab": {
          "base_uri": "https://localhost:8080/",
          "height": 285,
          "referenced_widgets": [
            "31eee41cbea64bfa8e9daf6e678f7e06",
            "768f302213484ece8623998c99ebd541",
            "279fd949b3ad4da18a6107bb8bd49480",
            "c429d28ca9124988b5086d10c06b9317",
            "7e64741bbd4a449ea2e9ac97feb62022",
            "6697293957164a9babb1772217c32ab6",
            "6aa85140a91146558e290b5f349a0a4b",
            "dabc7b546d0748fe881426d4e5feff8d",
            "783316b4c36e4b3e83137c971d0640d3",
            "e1bdaca5ec574576ab06018c04c438e0",
            "98f17d4b6bf24a04b767addccb87b6c0",
            "2990d1b45412474cabd5cacfa5167410",
            "1be4a8d78fc34bb3a6dd0641093aaf3b",
            "cb2a142eb370433a877166f180bba86c",
            "6756d88951ff474fb09d327c2a27aa5a",
            "a91dd188ca9b4a58a3c97d08e2b921e1",
            "effe7d5b5707480dbdd825217dc7325a",
            "0c59cc355c0949e2828d65d12283abc9",
            "e8a0f54a3d06417a951b881657313ec4",
            "62d8938ced8946a5af329af0fffde4ab",
            "e382117d81a5446ebc0135439f0956ad",
            "4e5ede1098f0490384c1eac2c0ea00d5"
          ]
        },
        "id": "o9GkkshAL9ol",
        "outputId": "1be85e5e-8fa3-423c-cc2c-f792a5e43338"
      },
      "outputs": [],
      "source": [
        "@interact_manual(text=\"hello there\", lang=\"en\", slow=False, autoplay=True, echo=True)\n",
        "def say_it_on_click(text, lang, slow, autoplay, echo):\n",
        "    speech = speak(text, lang, autoplay=autoplay, slow=slow, echo=echo)\n",
        "    display(speech)"
      ]
    },
    {
      "cell_type": "markdown",
      "metadata": {
        "id": "oGv-GGrQgb45"
      },
      "source": [
        "# Exercise 1\n",
        "\n",
        "\n",
        "What is the value printed on the last line?\n"
      ]
    },
    {
      "cell_type": "code",
      "execution_count": null,
      "metadata": {
        "colab": {
          "base_uri": "https://localhost:8080/"
        },
        "id": "Ubpu85e9gb45",
        "outputId": "a0b06b7e-23ba-4eb7-c092-8fc6791405b0"
      },
      "outputs": [],
      "source": [
        "def myfunc(y):\n",
        "    x = 1\n",
        "    z = x + y + a\n",
        "    return z\n",
        "\n",
        "a = 2\n",
        "b = myfunc(2)\n",
        "print(b)"
      ]
    },
    {
      "cell_type": "markdown",
      "metadata": {
        "id": "2orOnYdr_dqW"
      },
      "source": [
        "Answer : 5"
      ]
    },
    {
      "cell_type": "markdown",
      "metadata": {
        "id": "J5VMLj7zbuyR"
      },
      "source": [
        "# Exercise 2\n",
        "Write a function called average which takes a list of numbers as input then outputs the average of the numbers sum / count\n",
        "\n",
        "Call your function with an arbitrary list of numbers you create."
      ]
    },
    {
      "cell_type": "code",
      "execution_count": null,
      "metadata": {
        "colab": {
          "base_uri": "https://localhost:8080/"
        },
        "id": "Ge1QZ91vcS69",
        "outputId": "1dca8d0e-a1ea-4e8c-b5ea-6016cf8afddf"
      },
      "outputs": [],
      "source": [
        "# your code\n",
        "save = []\n",
        "\n",
        "def average():\n",
        "    x = 0\n",
        "    for i in range(len(save)):\n",
        "        # print(save[i],type(int(save[i])))\n",
        "        x =  x + int(save[i])\n",
        "    # print(x)\n",
        "    # print(len(save))\n",
        "    # print(type(len(save)))\n",
        "    answer_avg = x / len(save)\n",
        "    return answer_avg\n",
        "\n",
        "\n",
        "while True:\n",
        "    data = input(\"Data input ('stop' for end): \")\n",
        "    if data.isdigit():\n",
        "        save.append(data)\n",
        "        # print(save)\n",
        "    elif data == \"stop\":\n",
        "        break\n",
        "result = average()\n",
        "print(f\"Answer : {result}\")"
      ]
    }
  ],
  "metadata": {
    "celltoolbar": "Slideshow",
    "colab": {
      "provenance": []
    },
    "kernelspec": {
      "display_name": "Python 3 (ipykernel)",
      "language": "python",
      "name": "python3"
    },
    "language_info": {
      "codemirror_mode": {
        "name": "ipython",
        "version": 3
      },
      "file_extension": ".py",
      "mimetype": "text/x-python",
      "name": "python",
      "nbconvert_exporter": "python",
      "pygments_lexer": "ipython3",
      "version": "3.11.7"
    },
    "toc": {
      "base_numbering": 1,
      "nav_menu": {},
      "number_sections": false,
      "sideBar": false,
      "skip_h1_title": false,
      "title_cell": "Table of Contents",
      "title_sidebar": "Contents",
      "toc_cell": false,
      "toc_position": {},
      "toc_section_display": false,
      "toc_window_display": false
    },
    "varInspector": {
      "cols": {
        "lenName": 16,
        "lenType": 16,
        "lenVar": 40
      },
      "kernels_config": {
        "python": {
          "delete_cmd_postfix": "",
          "delete_cmd_prefix": "del ",
          "library": "var_list.py",
          "varRefreshCmd": "print(var_dic_list())"
        },
        "r": {
          "delete_cmd_postfix": ") ",
          "delete_cmd_prefix": "rm(",
          "library": "var_list.r",
          "varRefreshCmd": "cat(var_dic_list()) "
        }
      },
      "types_to_exclude": [
        "module",
        "function",
        "builtin_function_or_method",
        "instance",
        "_Feature"
      ],
      "window_display": false
    },
    "widgets": {
      "application/vnd.jupyter.widget-state+json": {
        "0c59cc355c0949e2828d65d12283abc9": {
          "model_module": "@jupyter-widgets/base",
          "model_module_version": "1.2.0",
          "model_name": "LayoutModel",
          "state": {
            "_model_module": "@jupyter-widgets/base",
            "_model_module_version": "1.2.0",
            "_model_name": "LayoutModel",
            "_view_count": null,
            "_view_module": "@jupyter-widgets/base",
            "_view_module_version": "1.2.0",
            "_view_name": "LayoutView",
            "align_content": null,
            "align_items": null,
            "align_self": null,
            "border": null,
            "bottom": null,
            "display": null,
            "flex": null,
            "flex_flow": null,
            "grid_area": null,
            "grid_auto_columns": null,
            "grid_auto_flow": null,
            "grid_auto_rows": null,
            "grid_column": null,
            "grid_gap": null,
            "grid_row": null,
            "grid_template_areas": null,
            "grid_template_columns": null,
            "grid_template_rows": null,
            "height": null,
            "justify_content": null,
            "justify_items": null,
            "left": null,
            "margin": null,
            "max_height": null,
            "max_width": null,
            "min_height": null,
            "min_width": null,
            "object_fit": null,
            "object_position": null,
            "order": null,
            "overflow": null,
            "overflow_x": null,
            "overflow_y": null,
            "padding": null,
            "right": null,
            "top": null,
            "visibility": null,
            "width": null
          }
        },
        "1be4a8d78fc34bb3a6dd0641093aaf3b": {
          "model_module": "@jupyter-widgets/controls",
          "model_module_version": "1.5.0",
          "model_name": "DescriptionStyleModel",
          "state": {
            "_model_module": "@jupyter-widgets/controls",
            "_model_module_version": "1.5.0",
            "_model_name": "DescriptionStyleModel",
            "_view_count": null,
            "_view_module": "@jupyter-widgets/base",
            "_view_module_version": "1.2.0",
            "_view_name": "StyleView",
            "description_width": ""
          }
        },
        "279fd949b3ad4da18a6107bb8bd49480": {
          "model_module": "@jupyter-widgets/controls",
          "model_module_version": "1.5.0",
          "model_name": "TextModel",
          "state": {
            "_dom_classes": [],
            "_model_module": "@jupyter-widgets/controls",
            "_model_module_version": "1.5.0",
            "_model_name": "TextModel",
            "_view_count": null,
            "_view_module": "@jupyter-widgets/controls",
            "_view_module_version": "1.5.0",
            "_view_name": "TextView",
            "continuous_update": true,
            "description": "lang",
            "description_tooltip": null,
            "disabled": false,
            "layout": "IPY_MODEL_2990d1b45412474cabd5cacfa5167410",
            "placeholder": "​",
            "style": "IPY_MODEL_1be4a8d78fc34bb3a6dd0641093aaf3b",
            "value": "en"
          }
        },
        "2990d1b45412474cabd5cacfa5167410": {
          "model_module": "@jupyter-widgets/base",
          "model_module_version": "1.2.0",
          "model_name": "LayoutModel",
          "state": {
            "_model_module": "@jupyter-widgets/base",
            "_model_module_version": "1.2.0",
            "_model_name": "LayoutModel",
            "_view_count": null,
            "_view_module": "@jupyter-widgets/base",
            "_view_module_version": "1.2.0",
            "_view_name": "LayoutView",
            "align_content": null,
            "align_items": null,
            "align_self": null,
            "border": null,
            "bottom": null,
            "display": null,
            "flex": null,
            "flex_flow": null,
            "grid_area": null,
            "grid_auto_columns": null,
            "grid_auto_flow": null,
            "grid_auto_rows": null,
            "grid_column": null,
            "grid_gap": null,
            "grid_row": null,
            "grid_template_areas": null,
            "grid_template_columns": null,
            "grid_template_rows": null,
            "height": null,
            "justify_content": null,
            "justify_items": null,
            "left": null,
            "margin": null,
            "max_height": null,
            "max_width": null,
            "min_height": null,
            "min_width": null,
            "object_fit": null,
            "object_position": null,
            "order": null,
            "overflow": null,
            "overflow_x": null,
            "overflow_y": null,
            "padding": null,
            "right": null,
            "top": null,
            "visibility": null,
            "width": null
          }
        },
        "31eee41cbea64bfa8e9daf6e678f7e06": {
          "model_module": "@jupyter-widgets/controls",
          "model_module_version": "1.5.0",
          "model_name": "VBoxModel",
          "state": {
            "_dom_classes": [
              "widget-interact"
            ],
            "_model_module": "@jupyter-widgets/controls",
            "_model_module_version": "1.5.0",
            "_model_name": "VBoxModel",
            "_view_count": null,
            "_view_module": "@jupyter-widgets/controls",
            "_view_module_version": "1.5.0",
            "_view_name": "VBoxView",
            "box_style": "",
            "children": [
              "IPY_MODEL_768f302213484ece8623998c99ebd541",
              "IPY_MODEL_279fd949b3ad4da18a6107bb8bd49480",
              "IPY_MODEL_c429d28ca9124988b5086d10c06b9317",
              "IPY_MODEL_7e64741bbd4a449ea2e9ac97feb62022",
              "IPY_MODEL_6697293957164a9babb1772217c32ab6",
              "IPY_MODEL_6aa85140a91146558e290b5f349a0a4b",
              "IPY_MODEL_dabc7b546d0748fe881426d4e5feff8d"
            ],
            "layout": "IPY_MODEL_783316b4c36e4b3e83137c971d0640d3"
          }
        },
        "4e5ede1098f0490384c1eac2c0ea00d5": {
          "model_module": "@jupyter-widgets/base",
          "model_module_version": "1.2.0",
          "model_name": "LayoutModel",
          "state": {
            "_model_module": "@jupyter-widgets/base",
            "_model_module_version": "1.2.0",
            "_model_name": "LayoutModel",
            "_view_count": null,
            "_view_module": "@jupyter-widgets/base",
            "_view_module_version": "1.2.0",
            "_view_name": "LayoutView",
            "align_content": null,
            "align_items": null,
            "align_self": null,
            "border": null,
            "bottom": null,
            "display": null,
            "flex": null,
            "flex_flow": null,
            "grid_area": null,
            "grid_auto_columns": null,
            "grid_auto_flow": null,
            "grid_auto_rows": null,
            "grid_column": null,
            "grid_gap": null,
            "grid_row": null,
            "grid_template_areas": null,
            "grid_template_columns": null,
            "grid_template_rows": null,
            "height": null,
            "justify_content": null,
            "justify_items": null,
            "left": null,
            "margin": null,
            "max_height": null,
            "max_width": null,
            "min_height": null,
            "min_width": null,
            "object_fit": null,
            "object_position": null,
            "order": null,
            "overflow": null,
            "overflow_x": null,
            "overflow_y": null,
            "padding": null,
            "right": null,
            "top": null,
            "visibility": null,
            "width": null
          }
        },
        "62d8938ced8946a5af329af0fffde4ab": {
          "model_module": "@jupyter-widgets/base",
          "model_module_version": "1.2.0",
          "model_name": "LayoutModel",
          "state": {
            "_model_module": "@jupyter-widgets/base",
            "_model_module_version": "1.2.0",
            "_model_name": "LayoutModel",
            "_view_count": null,
            "_view_module": "@jupyter-widgets/base",
            "_view_module_version": "1.2.0",
            "_view_name": "LayoutView",
            "align_content": null,
            "align_items": null,
            "align_self": null,
            "border": null,
            "bottom": null,
            "display": null,
            "flex": null,
            "flex_flow": null,
            "grid_area": null,
            "grid_auto_columns": null,
            "grid_auto_flow": null,
            "grid_auto_rows": null,
            "grid_column": null,
            "grid_gap": null,
            "grid_row": null,
            "grid_template_areas": null,
            "grid_template_columns": null,
            "grid_template_rows": null,
            "height": null,
            "justify_content": null,
            "justify_items": null,
            "left": null,
            "margin": null,
            "max_height": null,
            "max_width": null,
            "min_height": null,
            "min_width": null,
            "object_fit": null,
            "object_position": null,
            "order": null,
            "overflow": null,
            "overflow_x": null,
            "overflow_y": null,
            "padding": null,
            "right": null,
            "top": null,
            "visibility": null,
            "width": null
          }
        },
        "6697293957164a9babb1772217c32ab6": {
          "model_module": "@jupyter-widgets/controls",
          "model_module_version": "1.5.0",
          "model_name": "CheckboxModel",
          "state": {
            "_dom_classes": [],
            "_model_module": "@jupyter-widgets/controls",
            "_model_module_version": "1.5.0",
            "_model_name": "CheckboxModel",
            "_view_count": null,
            "_view_module": "@jupyter-widgets/controls",
            "_view_module_version": "1.5.0",
            "_view_name": "CheckboxView",
            "description": "echo",
            "description_tooltip": null,
            "disabled": false,
            "indent": true,
            "layout": "IPY_MODEL_0c59cc355c0949e2828d65d12283abc9",
            "style": "IPY_MODEL_e8a0f54a3d06417a951b881657313ec4",
            "value": true
          }
        },
        "6756d88951ff474fb09d327c2a27aa5a": {
          "model_module": "@jupyter-widgets/controls",
          "model_module_version": "1.5.0",
          "model_name": "DescriptionStyleModel",
          "state": {
            "_model_module": "@jupyter-widgets/controls",
            "_model_module_version": "1.5.0",
            "_model_name": "DescriptionStyleModel",
            "_view_count": null,
            "_view_module": "@jupyter-widgets/base",
            "_view_module_version": "1.2.0",
            "_view_name": "StyleView",
            "description_width": ""
          }
        },
        "6aa85140a91146558e290b5f349a0a4b": {
          "model_module": "@jupyter-widgets/controls",
          "model_module_version": "1.5.0",
          "model_name": "ButtonModel",
          "state": {
            "_dom_classes": [],
            "_model_module": "@jupyter-widgets/controls",
            "_model_module_version": "1.5.0",
            "_model_name": "ButtonModel",
            "_view_count": null,
            "_view_module": "@jupyter-widgets/controls",
            "_view_module_version": "1.5.0",
            "_view_name": "ButtonView",
            "button_style": "",
            "description": "Run Interact",
            "disabled": false,
            "icon": "",
            "layout": "IPY_MODEL_62d8938ced8946a5af329af0fffde4ab",
            "style": "IPY_MODEL_e382117d81a5446ebc0135439f0956ad",
            "tooltip": ""
          }
        },
        "768f302213484ece8623998c99ebd541": {
          "model_module": "@jupyter-widgets/controls",
          "model_module_version": "1.5.0",
          "model_name": "TextModel",
          "state": {
            "_dom_classes": [],
            "_model_module": "@jupyter-widgets/controls",
            "_model_module_version": "1.5.0",
            "_model_name": "TextModel",
            "_view_count": null,
            "_view_module": "@jupyter-widgets/controls",
            "_view_module_version": "1.5.0",
            "_view_name": "TextView",
            "continuous_update": true,
            "description": "text",
            "description_tooltip": null,
            "disabled": false,
            "layout": "IPY_MODEL_e1bdaca5ec574576ab06018c04c438e0",
            "placeholder": "​",
            "style": "IPY_MODEL_98f17d4b6bf24a04b767addccb87b6c0",
            "value": "aaaaaaaaaaaa"
          }
        },
        "783316b4c36e4b3e83137c971d0640d3": {
          "model_module": "@jupyter-widgets/base",
          "model_module_version": "1.2.0",
          "model_name": "LayoutModel",
          "state": {
            "_model_module": "@jupyter-widgets/base",
            "_model_module_version": "1.2.0",
            "_model_name": "LayoutModel",
            "_view_count": null,
            "_view_module": "@jupyter-widgets/base",
            "_view_module_version": "1.2.0",
            "_view_name": "LayoutView",
            "align_content": null,
            "align_items": null,
            "align_self": null,
            "border": null,
            "bottom": null,
            "display": null,
            "flex": null,
            "flex_flow": null,
            "grid_area": null,
            "grid_auto_columns": null,
            "grid_auto_flow": null,
            "grid_auto_rows": null,
            "grid_column": null,
            "grid_gap": null,
            "grid_row": null,
            "grid_template_areas": null,
            "grid_template_columns": null,
            "grid_template_rows": null,
            "height": null,
            "justify_content": null,
            "justify_items": null,
            "left": null,
            "margin": null,
            "max_height": null,
            "max_width": null,
            "min_height": null,
            "min_width": null,
            "object_fit": null,
            "object_position": null,
            "order": null,
            "overflow": null,
            "overflow_x": null,
            "overflow_y": null,
            "padding": null,
            "right": null,
            "top": null,
            "visibility": null,
            "width": null
          }
        },
        "7e64741bbd4a449ea2e9ac97feb62022": {
          "model_module": "@jupyter-widgets/controls",
          "model_module_version": "1.5.0",
          "model_name": "CheckboxModel",
          "state": {
            "_dom_classes": [],
            "_model_module": "@jupyter-widgets/controls",
            "_model_module_version": "1.5.0",
            "_model_name": "CheckboxModel",
            "_view_count": null,
            "_view_module": "@jupyter-widgets/controls",
            "_view_module_version": "1.5.0",
            "_view_name": "CheckboxView",
            "description": "autoplay",
            "description_tooltip": null,
            "disabled": false,
            "indent": true,
            "layout": "IPY_MODEL_a91dd188ca9b4a58a3c97d08e2b921e1",
            "style": "IPY_MODEL_effe7d5b5707480dbdd825217dc7325a",
            "value": true
          }
        },
        "98f17d4b6bf24a04b767addccb87b6c0": {
          "model_module": "@jupyter-widgets/controls",
          "model_module_version": "1.5.0",
          "model_name": "DescriptionStyleModel",
          "state": {
            "_model_module": "@jupyter-widgets/controls",
            "_model_module_version": "1.5.0",
            "_model_name": "DescriptionStyleModel",
            "_view_count": null,
            "_view_module": "@jupyter-widgets/base",
            "_view_module_version": "1.2.0",
            "_view_name": "StyleView",
            "description_width": ""
          }
        },
        "a91dd188ca9b4a58a3c97d08e2b921e1": {
          "model_module": "@jupyter-widgets/base",
          "model_module_version": "1.2.0",
          "model_name": "LayoutModel",
          "state": {
            "_model_module": "@jupyter-widgets/base",
            "_model_module_version": "1.2.0",
            "_model_name": "LayoutModel",
            "_view_count": null,
            "_view_module": "@jupyter-widgets/base",
            "_view_module_version": "1.2.0",
            "_view_name": "LayoutView",
            "align_content": null,
            "align_items": null,
            "align_self": null,
            "border": null,
            "bottom": null,
            "display": null,
            "flex": null,
            "flex_flow": null,
            "grid_area": null,
            "grid_auto_columns": null,
            "grid_auto_flow": null,
            "grid_auto_rows": null,
            "grid_column": null,
            "grid_gap": null,
            "grid_row": null,
            "grid_template_areas": null,
            "grid_template_columns": null,
            "grid_template_rows": null,
            "height": null,
            "justify_content": null,
            "justify_items": null,
            "left": null,
            "margin": null,
            "max_height": null,
            "max_width": null,
            "min_height": null,
            "min_width": null,
            "object_fit": null,
            "object_position": null,
            "order": null,
            "overflow": null,
            "overflow_x": null,
            "overflow_y": null,
            "padding": null,
            "right": null,
            "top": null,
            "visibility": null,
            "width": null
          }
        },
        "c429d28ca9124988b5086d10c06b9317": {
          "model_module": "@jupyter-widgets/controls",
          "model_module_version": "1.5.0",
          "model_name": "CheckboxModel",
          "state": {
            "_dom_classes": [],
            "_model_module": "@jupyter-widgets/controls",
            "_model_module_version": "1.5.0",
            "_model_name": "CheckboxModel",
            "_view_count": null,
            "_view_module": "@jupyter-widgets/controls",
            "_view_module_version": "1.5.0",
            "_view_name": "CheckboxView",
            "description": "slow",
            "description_tooltip": null,
            "disabled": false,
            "indent": true,
            "layout": "IPY_MODEL_cb2a142eb370433a877166f180bba86c",
            "style": "IPY_MODEL_6756d88951ff474fb09d327c2a27aa5a",
            "value": false
          }
        },
        "cb2a142eb370433a877166f180bba86c": {
          "model_module": "@jupyter-widgets/base",
          "model_module_version": "1.2.0",
          "model_name": "LayoutModel",
          "state": {
            "_model_module": "@jupyter-widgets/base",
            "_model_module_version": "1.2.0",
            "_model_name": "LayoutModel",
            "_view_count": null,
            "_view_module": "@jupyter-widgets/base",
            "_view_module_version": "1.2.0",
            "_view_name": "LayoutView",
            "align_content": null,
            "align_items": null,
            "align_self": null,
            "border": null,
            "bottom": null,
            "display": null,
            "flex": null,
            "flex_flow": null,
            "grid_area": null,
            "grid_auto_columns": null,
            "grid_auto_flow": null,
            "grid_auto_rows": null,
            "grid_column": null,
            "grid_gap": null,
            "grid_row": null,
            "grid_template_areas": null,
            "grid_template_columns": null,
            "grid_template_rows": null,
            "height": null,
            "justify_content": null,
            "justify_items": null,
            "left": null,
            "margin": null,
            "max_height": null,
            "max_width": null,
            "min_height": null,
            "min_width": null,
            "object_fit": null,
            "object_position": null,
            "order": null,
            "overflow": null,
            "overflow_x": null,
            "overflow_y": null,
            "padding": null,
            "right": null,
            "top": null,
            "visibility": null,
            "width": null
          }
        },
        "dabc7b546d0748fe881426d4e5feff8d": {
          "model_module": "@jupyter-widgets/output",
          "model_module_version": "1.0.0",
          "model_name": "OutputModel",
          "state": {
            "_dom_classes": [],
            "_model_module": "@jupyter-widgets/output",
            "_model_module_version": "1.0.0",
            "_model_name": "OutputModel",
            "_view_count": null,
            "_view_module": "@jupyter-widgets/output",
            "_view_module_version": "1.0.0",
            "_view_name": "OutputView",
            "layout": "IPY_MODEL_4e5ede1098f0490384c1eac2c0ea00d5",
            "msg_id": "",
            "outputs": [
              {
                "name": "stdout",
                "output_type": "stream",
                "text": [
                  "aaaaaaaaaaaa\n"
                ]
              },
              {
                "data": {
                  "text/html": "\n                <audio  controls=\"controls\" autoplay=\"autoplay\">\n                    <source src=\"data:audio/mpeg;base64,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\" type=\"audio/mpeg\" />\n                    Your browser does not support the audio element.\n                </audio>\n              ",
                  "text/plain": "<IPython.lib.display.Audio object>"
                },
                "metadata": {},
                "output_type": "display_data"
              }
            ]
          }
        },
        "e1bdaca5ec574576ab06018c04c438e0": {
          "model_module": "@jupyter-widgets/base",
          "model_module_version": "1.2.0",
          "model_name": "LayoutModel",
          "state": {
            "_model_module": "@jupyter-widgets/base",
            "_model_module_version": "1.2.0",
            "_model_name": "LayoutModel",
            "_view_count": null,
            "_view_module": "@jupyter-widgets/base",
            "_view_module_version": "1.2.0",
            "_view_name": "LayoutView",
            "align_content": null,
            "align_items": null,
            "align_self": null,
            "border": null,
            "bottom": null,
            "display": null,
            "flex": null,
            "flex_flow": null,
            "grid_area": null,
            "grid_auto_columns": null,
            "grid_auto_flow": null,
            "grid_auto_rows": null,
            "grid_column": null,
            "grid_gap": null,
            "grid_row": null,
            "grid_template_areas": null,
            "grid_template_columns": null,
            "grid_template_rows": null,
            "height": null,
            "justify_content": null,
            "justify_items": null,
            "left": null,
            "margin": null,
            "max_height": null,
            "max_width": null,
            "min_height": null,
            "min_width": null,
            "object_fit": null,
            "object_position": null,
            "order": null,
            "overflow": null,
            "overflow_x": null,
            "overflow_y": null,
            "padding": null,
            "right": null,
            "top": null,
            "visibility": null,
            "width": null
          }
        },
        "e382117d81a5446ebc0135439f0956ad": {
          "model_module": "@jupyter-widgets/controls",
          "model_module_version": "1.5.0",
          "model_name": "ButtonStyleModel",
          "state": {
            "_model_module": "@jupyter-widgets/controls",
            "_model_module_version": "1.5.0",
            "_model_name": "ButtonStyleModel",
            "_view_count": null,
            "_view_module": "@jupyter-widgets/base",
            "_view_module_version": "1.2.0",
            "_view_name": "StyleView",
            "button_color": null,
            "font_weight": ""
          }
        },
        "e8a0f54a3d06417a951b881657313ec4": {
          "model_module": "@jupyter-widgets/controls",
          "model_module_version": "1.5.0",
          "model_name": "DescriptionStyleModel",
          "state": {
            "_model_module": "@jupyter-widgets/controls",
            "_model_module_version": "1.5.0",
            "_model_name": "DescriptionStyleModel",
            "_view_count": null,
            "_view_module": "@jupyter-widgets/base",
            "_view_module_version": "1.2.0",
            "_view_name": "StyleView",
            "description_width": ""
          }
        },
        "effe7d5b5707480dbdd825217dc7325a": {
          "model_module": "@jupyter-widgets/controls",
          "model_module_version": "1.5.0",
          "model_name": "DescriptionStyleModel",
          "state": {
            "_model_module": "@jupyter-widgets/controls",
            "_model_module_version": "1.5.0",
            "_model_name": "DescriptionStyleModel",
            "_view_count": null,
            "_view_module": "@jupyter-widgets/base",
            "_view_module_version": "1.2.0",
            "_view_name": "StyleView",
            "description_width": ""
          }
        }
      }
    }
  },
  "nbformat": 4,
  "nbformat_minor": 0
}
