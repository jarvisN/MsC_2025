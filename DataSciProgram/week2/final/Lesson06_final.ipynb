{
  "cells": [
    {
      "cell_type": "markdown",
      "metadata": {
        "id": "oMJokrzqOUTu"
      },
      "source": [
        "# Lesson 06 Strings\n"
      ]
    },
    {
      "cell_type": "markdown",
      "metadata": {
        "id": "iUKHg_iAOUT3"
      },
      "source": [
        "# Strings are Sequences of Characters\n",
        "\n",
        "- **Strings** are index able sequences of characters.\n",
        "- The characters inside the string are **immutable**.\n",
        "![image.png](data:image/png;base64,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)\n",
        "\n",
        "- **Example:**\n",
        "    - **<font color='green'> Name = 'Fudge'</font>**\n",
        "- Immutable means we can’t change part of it:\n",
        "    "
      ]
    },
    {
      "cell_type": "code",
      "execution_count": null,
      "metadata": {
        "id": "koFwfTiZM9xN"
      },
      "outputs": [],
      "source": [
        "Name = 'Fudge'\n",
        "len(Name)"
      ]
    },
    {
      "cell_type": "code",
      "execution_count": null,
      "metadata": {
        "id": "VhlBAZ_jNi5v"
      },
      "outputs": [],
      "source": [
        "Name[1]"
      ]
    },
    {
      "cell_type": "code",
      "execution_count": null,
      "metadata": {
        "id": "9065VFcQN_Ch"
      },
      "outputs": [],
      "source": [
        "Name[1]== 'u'"
      ]
    },
    {
      "cell_type": "code",
      "execution_count": null,
      "metadata": {
        "id": "sovJs4z2Nrkb"
      },
      "outputs": [],
      "source": [
        "Name[1] = 'a'"
      ]
    },
    {
      "cell_type": "markdown",
      "metadata": {
        "id": "aYjMXZFYOUT3"
      },
      "source": [
        "# Slice Notation\n",
        "\n",
        "- **Slice Notation** is used to extract a substring.\n",
        "\n",
        "![image.png](data:image/png;base64,iVBORw0KGgoAAAANSUhEUgAAAOwAAABPCAYAAADoWylUAAAAAXNSR0IArs4c6QAAAERlWElmTU0AKgAAAAgAAYdpAAQAAAABAAAAGgAAAAAAA6ABAAMAAAABAAEAAKACAAQAAAABAAAA7KADAAQAAAABAAAATwAAAADFNkQiAAAIkUlEQVR4Ae2dMWhbRxjHP5dCShZnCEkJJpaDgih4izIV1MHBQ9TRWWqwcTN48mBPISaooqRkUgZNhibBAXWJs9UZTD1E4KnKUgxBiXHkYEpjMtRLSCf3+97TSU/PZ9mW9e5Ofv8X5Pfevae7//3uvnfffadIfXu8ETYQAIGeIPBFT6iESBAAAY8ADBYdAQR6iAAMtocaC1JBAAaLPgACPUQABttDjQWpIPClQpDP59Uh9iAAAo4QyOVyLUoaBiup4Ystd+IEBEDAKAHdIAqX2GgToDAQOBkBGOzJ+OHdIGCUAAzWKG4UBgInIwCDPRk/vBsEjBKAwRrFjcJA4GQEYLAn44d3g4BRAi3LOu1K1oWY290f1TW19AQ9esLgo+eiUl3lo/Qdtj+ywUpGqrKHZRrV9bCRQk8rafBp5RE+c51PWK/uHC6xjgrSQMBRAjBYRxsGskBARwAGq6OCNBBwlIARgy3n0pRO11/ji1RzAkaZculxWrQuRnQE+KRzVLbKp0aL40094/YBNWnUFmncdpt5Gpp8vH5tsE9HbrC1xXGa25ihpUqFKpUlmqEijeXsdknpAeXcHC03u4KlIzFW1pEtMBvhU6FCdpnmDHaAcMXLuTEqJpWeAiWLY+SG0fKDZL5I1bBg0+fvN6maUv3Zb7NKaZIShnREbLBlelKsUnZaVShBk9NZouVVi6OIP6LN2bdWfmqs8kMjRTNTmUZzZ6ZmKFVdoZe1RpK5Ax49FpaDejI0NZOi6spL615RbXGeH/Up/md3q73bIEoOGTPQcG2jNdjaO9pgxFcuB4rNjFCWu+mqrUFWjERGtCU2jIAsK4eZPI+qJZpMWCl9f6GJSSq5pEcp5AfJfDFJhfujKsXa/v1mlVItHdqslGgNVtwHStJQwmyl2pYmRpJvjmht77VwsfyE3b7UKH2XsFD4viLDHtK+Gwwk+K5wspAn+61WplXxzFbmmzEZwzGHY31woputs/GuRpRJdDPLns/Lm++LS7qkphC2qiSBJ57LyoRR5msWLcVzhWVOLRpqtnjUy/U8Rj4evU+VUsJP9IJQ/K0QFTMPlGhH2Ho9dbvkUEKXHNs0MdYxme8XXHCROdZQqgdUpjdpzPAo0ugEyhV2xSPypgwVKk0G+m5iiH1Ic1O8aA328hWeJ26QDKbYDiYgy15jReKRtUKu9M2GWosxh9rLFZ5ScdRcLXsxpCr/K46lyYGFhgYikwfRGqz39KnS5vtAlbzIaJZGLLpZATXWD303OEsFF4I95RzPzWyvAzebJDFZaix3ecteXqBQpgyWHmwH8gkFVptV6PpRtAbLYYIRWcVZWKxPP3hutMCz9uyIAwGErrM8foaeyycjq5n5z6ECM1M0kwq5d/KA5XlsYOXp0GxO7Q0H8jEXJIw86JTJ84cBxOVLs88nmyypOOf3+dJM//VdPnby2MWr02lIyBZsjCIyd13igBN/kmeuLkWCTgY/GNAA4OSB8Cn4n0xT+gzzidxgpV5itBxEc2vzAgiTVjV5Lp9dCZr6+wEn52SJUgfajHsz5fkTaba6c8QusaY/IAkEQKBjAjDYjtHhjSBgngAM1jxzlAgCHROAwXaMDm8EAfMEYLDmmaNEEOiYwLGixOEvseq41C69EXragwSf3uLTXq1/tW+PNzmUxrX9LYRHEYx7QCAuBHQ2CZc4Lq2Pep4KAkd2iV1xr5QXAD36/gc+ei4q1VU+St9h+yMbrGT0/d8/HZZfpNd/v9RaPvS04gafVh7hM9f5hPXqzuES66ggDQQcJQCDdbRhIAsEdARgsDoqSAMBRwnAYB1tGMgCAR0BGKyOCtJAwFECMFhHGwayQEBH4FjLOroM2qf9SMmFR9R/wE27T/toY+2Ai7FNVsxe0Bb/SsLH2HJAxXUEMMLqqCANBBwlEPEIq2qN0UKRwB4ETkIgZiOsuJt7dI2/ufF8g5ourXHRwEGaBn4WTf4r+a2BItsWEdTzhgYGbfMhOnvrTYOPcLLPqC3ASC8aGmFv0iCDHgxWZf02vSo+DqbE8FiM40+6eKFZ9f6JR80T40dhPVfp4l2beojOz3C/GW4F0T+xR8OXrtP6s0rrhRicxWyEdaxFB3+gc56xvqUPv/TRq2l+PX1hT6RGz+s/3lrUU6CvxVh3HtJrYeO9btMuJ525kQ94SfYkmi7Z0AiLOay2YQdSdEYurD+g7a36HWvPaXfi5oGRdW0+3UrU6Pn07AHt3jg40t+torX5KD0XZumbhdnQLVfpK3HZFLfQ1dN6ihH2tLbsqa8XG+zAqa/kvgrG1GBv0rl6cOfsrTt2RjNpiu0q/Sf74Tsc3JEDCbBAj0+C/yo+JB6acomb+ziu4RtyiRtNYPngL/q8Q9TP80YJXFybsCxn6zf6d2eWg04S3Nmji5blkE7PzlvvoeK57qb1bc3RP+uzHHTSBC1lXntvjj6Z1mS5vJiNsBXa/vWhP6rVwe8+9YMYdtqB9dy7Th/4IaI2+3qCPHhku/eAPitxFvYfi320tR4qOKbGKhQiHmEf08a0Y0s3/NRen1a/9FTvCGs2NYrR9tF2sE9a1RNqs0GO1Aa1WTgWo8VHNH3wERushdZFkZ0TYOMcvjvrR67Duaw/h9GEmVg4j5lLbIFwLxUp3oduHVhc0Nh/yMWNhsQI60Y7uKNiLUuv8D+o3GmPkBKMsCEgOAUBlwnAYF1uHWgDgRABGGwICE5BwGUCMFiXWwfaQCBE4FhBp/A3p4fyMn4KPe2Rg09v8Wmv1r+KX687CiXcAwIWCODX6yxAR5Eg0E0CmMN2kybyAoGICcBgIwaM7EGgmwRgsN2kibxAIGICMNiIASN7EOgmARhsN2kiLxCImEDLOqyEkbGBAAi4S6CxDuuuRCgDARBQBOASKxLYg0APEIDB9kAjQSIIKAIwWEUCexDoAQL/AwfbmgoefCu7AAAAAElFTkSuQmCC)\n",
        "\n",
        "\n",
        "\n"
      ]
    },
    {
      "cell_type": "code",
      "execution_count": null,
      "metadata": {
        "id": "RZcLIPobOuvG"
      },
      "outputs": [],
      "source": [
        "Name[0:2]"
      ]
    },
    {
      "cell_type": "code",
      "execution_count": null,
      "metadata": {
        "id": "wiv7tffKPNGk"
      },
      "outputs": [],
      "source": [
        "Name[2:5]"
      ]
    },
    {
      "cell_type": "code",
      "execution_count": null,
      "metadata": {
        "id": "EEbSc22uPR0Z"
      },
      "outputs": [],
      "source": [
        "Name[:4]"
      ]
    },
    {
      "cell_type": "code",
      "execution_count": null,
      "metadata": {
        "id": "T3l6vABUPoyE"
      },
      "outputs": [],
      "source": [
        "Name[:]"
      ]
    },
    {
      "cell_type": "code",
      "execution_count": null,
      "metadata": {
        "id": "iyScUEUGPuDT"
      },
      "outputs": [],
      "source": [
        "Name"
      ]
    },
    {
      "cell_type": "code",
      "execution_count": null,
      "metadata": {
        "id": "c4okQ0ALPyvj"
      },
      "outputs": [],
      "source": [
        "# index 1 to length-1 (exclusive)\n",
        "Name[1:-1]"
      ]
    },
    {
      "cell_type": "markdown",
      "metadata": {
        "id": "5TfiMiXFOUT3"
      },
      "source": [
        "# Exercise 1\n",
        "\n",
        "####  Determine the string slice x[1:6] for this string:\n",
        " &nbsp;&nbsp;&nbsp;&nbsp;&nbsp;&nbsp;&nbsp;&nbsp;&nbsp;&nbsp;&nbsp;&nbsp;&nbsp;&nbsp;&nbsp;&nbsp;&nbsp;&nbsp;`x ='orange'`\n",
        "\n"
      ]
    },
    {
      "cell_type": "markdown",
      "metadata": {
        "id": "Y7oTarBgOUT3"
      },
      "source": [
        "# Exercise 2\n",
        "\n",
        "####  Determine the string slice x[1:6] for this string:\n",
        "&nbsp;&nbsp;&nbsp;&nbsp;&nbsp;&nbsp;&nbsp;&nbsp;&nbsp;&nbsp;&nbsp;&nbsp;&nbsp;&nbsp;&nbsp;&nbsp;&nbsp;&nbsp;`x ='orange'`\n",
        "\n",
        "    "
      ]
    },
    {
      "cell_type": "markdown",
      "metadata": {
        "id": "O6liQ09YOUT4"
      },
      "source": [
        "# String functions:\n",
        "\n",
        "- **Built In** String Functions:\n",
        "    https://docs.python.org/3/library/stdtypes.html#text-sequence-type-str\n",
        "    - `dir(str)`\n",
        "    - `help(str.upper)`\n",
        "- The Python String Library:\n",
        "    https://docs.python.org/3/library/string.html\n",
        "    - You must `import String` before you can use them."
      ]
    },
    {
      "cell_type": "markdown",
      "metadata": {
        "id": "fZkPT4ieOUT4"
      },
      "source": [
        "# Example 1\n",
        "\n",
        "### Yes or No?\n",
        "- Write a function to accept a variety of inputs as \"yes\" or \"no\"\n",
        "- **<font color='green'> \"yes\" <span>&#8594;</span>  \"y\", \"Y\", \"YES\", \"Yes\" etc… </font>**\n",
        "- **<font color='green'>\"no\" <span>&#8594;</span> \"n\", \"N\", \"NO\", \"No\", etc…</font>**\n"
      ]
    },
    {
      "cell_type": "code",
      "execution_count": null,
      "metadata": {
        "id": "eIJ68naouvni"
      },
      "outputs": [],
      "source": [
        "dir(str)"
      ]
    },
    {
      "cell_type": "code",
      "execution_count": null,
      "metadata": {
        "id": "b8YoET-6vAHh"
      },
      "outputs": [],
      "source": [
        "help(str.lower)"
      ]
    },
    {
      "cell_type": "code",
      "execution_count": null,
      "metadata": {
        "id": "a38PzSMJvC-W"
      },
      "outputs": [],
      "source": [
        "x = \"KDAI\"\n",
        "x.lower()"
      ]
    },
    {
      "cell_type": "code",
      "execution_count": null,
      "metadata": {
        "id": "1TXNc_irvq_k"
      },
      "outputs": [],
      "source": [
        "def YesOrNo(text):\n",
        "    first_char = text[0]\n",
        "    first_char = first_char.lower()\n",
        "    if \"y\" == first_char:\n",
        "        return True\n",
        "    elif \"n\" == first_char:\n",
        "        return False\n",
        "    else:\n",
        "        return None\n",
        "\n",
        "x = input(\"Please enter y/n, or yes/no\")\n",
        "result = YesOrNo(x)\n",
        "if result is None:\n",
        "    print(\"Please enter a y/n\")\n",
        "elif result:\n",
        "    print(\"You entered Yes\")\n",
        "elif not result:\n",
        "    print(\"You entered No\")"
      ]
    },
    {
      "cell_type": "markdown",
      "metadata": {
        "id": "n9p-18K9OUT4"
      },
      "source": [
        "# Exercise 3\n",
        "\n",
        "What is the value of the variable y on line 2?"
      ]
    },
    {
      "cell_type": "code",
      "execution_count": 4,
      "metadata": {
        "colab": {
          "base_uri": "https://localhost:8080/",
          "height": 35
        },
        "id": "528WCVD2OUT4",
        "outputId": "a27a8565-f579-4dba-c723-d6bd6e2fb9f6"
      },
      "outputs": [
        {
          "data": {
            "application/vnd.google.colaboratory.intrinsic+json": {
              "type": "string"
            },
            "text/plain": [
              "'MKKE'"
            ]
          },
          "execution_count": 4,
          "metadata": {},
          "output_type": "execute_result"
        }
      ],
      "source": [
        "x = \"Mike\"\n",
        "y = x.upper().replace(\"I\",\"K\")\n",
        "y"
      ]
    },
    {
      "cell_type": "markdown",
      "metadata": {},
      "source": [
        "Answer : 'MKKE'"
      ]
    },
    {
      "cell_type": "markdown",
      "metadata": {
        "id": "c12M6jGbOUT4"
      },
      "source": [
        "# String Tokenization and Parsing\n",
        "\n",
        "- **Tokenization**  is the process of breaking up a string into words, phrases, or symbols.\n",
        "    - Tokenize a sentence into words.\n",
        "    - `\"mike is here\"` becomes the iterable  `['mike','is','here']`\n",
        "- **Parsing** is the process of extracting meaning from a string.\n",
        "    - Parse text to a numerical value or date.\n",
        "    - `int('45')` becomes `45`\n",
        "\n",
        "\n"
      ]
    },
    {
      "cell_type": "markdown",
      "metadata": {
        "id": "PI8pb5GVOUT5"
      },
      "source": [
        "# Example 2\n",
        "\n",
        "Given a string of digits: e.g. `'12 45 90'`\n",
        "1. Tokenize into individual strings\n",
        "2. Parse into integers\n",
        "3. Add them up!\n"
      ]
    },
    {
      "cell_type": "code",
      "execution_count": 2,
      "metadata": {
        "colab": {
          "base_uri": "https://localhost:8080/"
        },
        "id": "uWfFiH7CwuKV",
        "outputId": "8031ef7d-c308-4217-ee44-e511d2d7ad9e"
      },
      "outputs": [
        {
          "data": {
            "text/plain": [
              "str"
            ]
          },
          "execution_count": 2,
          "metadata": {},
          "output_type": "execute_result"
        }
      ],
      "source": [
        "# what exactly is the type of a space-separated list of numbers?\n",
        "raw = \"12 45 90\"\n",
        "type(raw)"
      ]
    },
    {
      "cell_type": "code",
      "execution_count": 3,
      "metadata": {
        "colab": {
          "base_uri": "https://localhost:8080/"
        },
        "id": "vKPDwkFAxCwk",
        "outputId": "04b77082-15ab-4ef3-8932-234c5bb5eb65"
      },
      "outputs": [
        {
          "name": "stdout",
          "output_type": "stream",
          "text": [
            "You total is: \n",
            "147\n"
          ]
        }
      ],
      "source": [
        "tokens = raw.split(\" \")\n",
        "total = 0\n",
        "for token in tokens:\n",
        "    total = total + int(token)\n",
        "\n",
        "print(\"You total is: \")\n",
        "print(total)"
      ]
    },
    {
      "cell_type": "markdown",
      "metadata": {
        "id": "T4Ra0arwOUT5"
      },
      "source": [
        "\n",
        "\n",
        "```\n",
        "```\n",
        "\n",
        "# Exercise 4\n",
        "\n",
        "What is the output of this program?"
      ]
    },
    {
      "cell_type": "code",
      "execution_count": 1,
      "metadata": {
        "colab": {
          "base_uri": "https://localhost:8080/"
        },
        "id": "-7axFgW9OUT5",
        "outputId": "f9e0a00e-32ac-4338-b831-0ec40c66e8a8"
      },
      "outputs": [
        {
          "name": "stdout",
          "output_type": "stream",
          "text": [
            "ceyn"
          ]
        }
      ],
      "source": [
        "text = \"Welcome Home Ally, Thanks!\"\n",
        "for word in text.split():\n",
        "    print(word[3], end='')"
      ]
    },
    {
      "cell_type": "markdown",
      "metadata": {},
      "source": [
        "Answer : ceyn"
      ]
    }
  ],
  "metadata": {
    "celltoolbar": "Slideshow",
    "colab": {
      "provenance": []
    },
    "kernelspec": {
      "display_name": "Python 3 (ipykernel)",
      "language": "python",
      "name": "python3"
    },
    "language_info": {
      "codemirror_mode": {
        "name": "ipython",
        "version": 3
      },
      "file_extension": ".py",
      "mimetype": "text/x-python",
      "name": "python",
      "nbconvert_exporter": "python",
      "pygments_lexer": "ipython3",
      "version": "3.11.7"
    },
    "toc": {
      "base_numbering": 1,
      "nav_menu": {},
      "number_sections": false,
      "sideBar": false,
      "skip_h1_title": false,
      "title_cell": "Table of Contents",
      "title_sidebar": "Contents",
      "toc_cell": false,
      "toc_position": {},
      "toc_section_display": false,
      "toc_window_display": false
    },
    "varInspector": {
      "cols": {
        "lenName": 16,
        "lenType": 16,
        "lenVar": 40
      },
      "kernels_config": {
        "python": {
          "delete_cmd_postfix": "",
          "delete_cmd_prefix": "del ",
          "library": "var_list.py",
          "varRefreshCmd": "print(var_dic_list())"
        },
        "r": {
          "delete_cmd_postfix": ") ",
          "delete_cmd_prefix": "rm(",
          "library": "var_list.r",
          "varRefreshCmd": "cat(var_dic_list()) "
        }
      },
      "types_to_exclude": [
        "module",
        "function",
        "builtin_function_or_method",
        "instance",
        "_Feature"
      ],
      "window_display": false
    }
  },
  "nbformat": 4,
  "nbformat_minor": 0
}
