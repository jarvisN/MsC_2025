{
  "cells": [
    {
      "cell_type": "markdown",
      "metadata": {
        "id": "hCaUYgC3bqCP"
      },
      "source": [
        "# Lesson 04 Iterations\n"
      ]
    },
    {
      "cell_type": "markdown",
      "metadata": {
        "id": "6PTy6sjWbqCZ"
      },
      "source": [
        "# Increment and Decrement\n",
        "\n",
        "- **Increment** means to add a value to a variable.  \n",
        "  `X = X + 1`\n",
        "- **Decrement** means to subtract a value from a variable.  \n",
        "  `X = X - 1`\n",
        "- These are common patterns in iteration statements which you will see today.\n"
      ]
    },
    {
      "cell_type": "markdown",
      "metadata": {
        "id": "F4T8ramabqCZ"
      },
      "source": [
        "# Anatomy of a loop\n",
        "\n",
        "- A **Loop** is a sequence of code that repeats as long as a Boolean expression is <font color=\"green\">True </font>.\n"
      ]
    },
    {
      "cell_type": "code",
      "execution_count": null,
      "metadata": {
        "id": "_EkWE-wcbqCa"
      },
      "outputs": [],
      "source": [
        "x = 5\n",
        "while x <= 7:\n",
        "    print(x)\n",
        "    x = x + 1\n",
        "print(\"done!\")"
      ]
    },
    {
      "cell_type": "markdown",
      "metadata": {
        "id": "tX_VxywqbqCa"
      },
      "source": [
        "- The sequence of code that repeats is known as the **Body**.\n",
        "- The Boolean expression which is tested is known as the **Test Condition** or **Exit Condition**.\n",
        "- Variables which are part of the Test condition are called **Loop Control Variables** or **Iteration Variables**.\n",
        "- Our goal is to make the Test condition False so that the loop stops. This is accomplished through changing the loop control variable within the body of the loop."
      ]
    },
    {
      "cell_type": "markdown",
      "metadata": {
        "id": "l6-vfBSTbqCb"
      },
      "source": [
        "# Example 1\n",
        "\n",
        "  ## Say My Name:\n",
        "- This program will say you name a number of times.\n",
        "- This is an example of a **Definite loop** because the number of iterations are pre-determined.\n"
      ]
    },
    {
      "cell_type": "markdown",
      "metadata": {
        "id": "yFtTsHYAcdcP"
      },
      "source": [
        "This program will say your name a number of times."
      ]
    },
    {
      "cell_type": "code",
      "execution_count": null,
      "metadata": {
        "id": "DBpyNribcTya"
      },
      "outputs": [],
      "source": [
        "name = input(\"What is your name? \")\n",
        "times = int(input(\"How many times would you like me to say your name %s? \" % name))\n",
        "\n",
        "i = 1\n",
        "while i <=times:\n",
        "    print(name)\n",
        "    i = i + 1"
      ]
    },
    {
      "cell_type": "markdown",
      "metadata": {
        "id": "2GgxpRM4bqCb"
      },
      "source": [
        "# Exercise 1\n",
        "\n",
        "on which line is the test / exit condition?"
      ]
    },
    {
      "cell_type": "code",
      "execution_count": 2,
      "metadata": {
        "id": "zXjTihjHbqCc"
      },
      "outputs": [
        {
          "name": "stdout",
          "output_type": "stream",
          "text": [
            "1 2 3 4\n"
          ]
        }
      ],
      "source": [
        "x = 1\n",
        "while True:\n",
        "    if x ==4:\n",
        "        break\n",
        "    print(x, end=\" \")\n",
        "    x = x + 1\n",
        "\n",
        "print(x)"
      ]
    },
    {
      "cell_type": "markdown",
      "metadata": {},
      "source": [
        "answer : 1 2 3 4"
      ]
    },
    {
      "cell_type": "markdown",
      "metadata": {
        "id": "Ptnf2szPbqCc"
      },
      "source": [
        "# For Loop\n",
        "\n",
        "- The **For Loop** iterates over a python list, string, or range of numbers.\n",
        "- It is the preferred statement for **Definite loops**, where the number of iterations are pre-determined. Definite loops do not require an exit condition.\n",
        "- The for loop uses an **iterator** to select each item from the list or range and take action in the loop body.\n",
        "- The **range()** function is useful for getting an iterator of numbers.\n",
        "- The for loop and iterate over any iterable.\n"
      ]
    },
    {
      "cell_type": "code",
      "execution_count": null,
      "metadata": {
        "id": "wyY_NCgNbqCd"
      },
      "outputs": [],
      "source": [
        "for i in range(3):\n",
        "    print(\"Hello \")\n",
        "\n",
        "for char in \"mike\":\n",
        "    print (char)"
      ]
    },
    {
      "cell_type": "markdown",
      "metadata": {
        "id": "e6Y0xh5wbqCd"
      },
      "source": [
        "# Range\n",
        "\n",
        "- The `range()` function returns an iterable.\n",
        "- `range(n)` returns `n` iterations from `0` to `n-1`"
      ]
    },
    {
      "cell_type": "code",
      "execution_count": null,
      "metadata": {
        "id": "Z2mHaTcPbqCd"
      },
      "outputs": [],
      "source": [
        "print(\"range(10) =>\", list(range(10)) )\n",
        "print(\"range(1,10) =>\", list(range(1,10)) )\n",
        "print(\"range(1,10,2) =>\",list(range(1,10,2)) )"
      ]
    },
    {
      "cell_type": "markdown",
      "metadata": {
        "id": "HOwog1_7bqCe"
      },
      "source": [
        "# Example 2\n",
        "\n",
        "## Say My Name:\n",
        "\n",
        "- Range() function\n",
        "- ***Refactored*** as a For Loop.\n"
      ]
    },
    {
      "cell_type": "code",
      "execution_count": null,
      "metadata": {
        "id": "t42BJrMYdoUw"
      },
      "outputs": [],
      "source": [
        "name = input(\"What is your name? \")\n",
        "times = int(input(\"How many times would you like me to say your name %s? \" % name))\n",
        "for i in range(times):\n",
        "    print(name)"
      ]
    },
    {
      "cell_type": "markdown",
      "metadata": {
        "id": "BHJxjtAPbqCe"
      },
      "source": [
        "# Exercise 2\n",
        "\n",
        "How many iterations are in this loop?"
      ]
    },
    {
      "cell_type": "code",
      "execution_count": null,
      "metadata": {
        "id": "2dFKCvrJbqCe"
      },
      "outputs": [],
      "source": [
        "k = 0\n",
        "j = 10\n",
        "for j in range(5):\n",
        "    k = k + j\n",
        "    print(k)"
      ]
    },
    {
      "cell_type": "markdown",
      "metadata": {},
      "source": [
        "5 times"
      ]
    },
    {
      "cell_type": "markdown",
      "metadata": {
        "id": "OIrzlFElbqCf"
      },
      "source": [
        "# Exercise 3\n",
        "\n",
        "What is the value of k on line 4?\n"
      ]
    },
    {
      "cell_type": "code",
      "execution_count": 1,
      "metadata": {
        "id": "ljx-Owg6bqCf"
      },
      "outputs": [
        {
          "name": "stdout",
          "output_type": "stream",
          "text": [
            "k=0,j=0,k+j=0\n",
            "k=0,j=1,k+j=1\n",
            "k=1,j=2,k+j=3\n",
            "k=3,j=3,k+j=6\n",
            "k=6,j=4,k+j=10\n",
            "10\n"
          ]
        }
      ],
      "source": [
        "k = 0\n",
        "for j in range(5):\n",
        "    print(f\"k={k},j={j},k+j={k+j}\")\n",
        "    k = k + j\n",
        "print(k)"
      ]
    },
    {
      "cell_type": "markdown",
      "metadata": {},
      "source": [
        "answer :\n",
        "\n",
        "0  \n",
        "1  \n",
        "3  \n",
        "6  \n",
        "10"
      ]
    },
    {
      "cell_type": "markdown",
      "metadata": {
        "id": "NrT_mYYabqCg"
      },
      "source": [
        "# Example 3\n",
        "\n",
        "## Count the \"i\"'s\n",
        "- Definite Loop\n"
      ]
    },
    {
      "cell_type": "markdown",
      "metadata": {
        "id": "K4DoVQdweYqv"
      },
      "source": [
        "This program will count the number of i's in the input word."
      ]
    },
    {
      "cell_type": "code",
      "execution_count": null,
      "metadata": {
        "id": "35ei03nTeNYg"
      },
      "outputs": [],
      "source": [
        "word = input(\"Enter a word: \")\n",
        "count = 0\n",
        "for letter in word:\n",
        "    if letter== 'i':\n",
        "        count = count + 1\n",
        "\n",
        "print(\"There are %d i's in the word %s\" % (count,word))"
      ]
    },
    {
      "cell_type": "markdown",
      "metadata": {
        "id": "OdlS4kprbqCg"
      },
      "source": [
        "# Indefinite,Infinite Loops and Break\n",
        "\n",
        "- The **Indefinite Loop** has no pre-determined exit condition. There are no guarantees an indefinite loop will end, as it is typically based on user input.\n",
        "- **Infinite Loops** are loops which can never reach their exit condition. These should be avoided at all costs.\n",
        "- The **break** statement is used to exit a loop immediately.It is often used to force an exit condition in the body of the loop.\n"
      ]
    },
    {
      "cell_type": "markdown",
      "metadata": {
        "id": "TSGcPrOtbqCg"
      },
      "source": [
        "# Indefinite Loops The Easy Way\n",
        "\n",
        "1. Determine the code to repeat\n",
        "2. Determine the loop control variables & exit conditions\n",
        "3. Write exit conditions as **if** statements with **break**\n",
        "4. Wrap the code in a **while True:** loop!\n"
      ]
    },
    {
      "cell_type": "markdown",
      "metadata": {
        "id": "QTMJuKyGbqCg"
      },
      "source": [
        "# Example 4\n",
        "\n",
        "## Guess My Name:\n",
        "- This program will execute until you guess my name.\n",
        "- Uses the indefinite loop approach."
      ]
    },
    {
      "cell_type": "markdown",
      "metadata": {
        "id": "Wy22Kxa6e4-a"
      },
      "source": [
        "This program will execute until you guess my name."
      ]
    },
    {
      "cell_type": "code",
      "execution_count": null,
      "metadata": {
        "id": "cQp7t0IPe8i5"
      },
      "outputs": [],
      "source": [
        "name = \"Mike\"\n",
        "guess = \"\"\n",
        "while True:\n",
        "    guess = input(\"Guess my name? \")\n",
        "    if guess== name:\n",
        "        print(\"You guessed it, finally!\")\n",
        "        break\n",
        "    print(\"Nope...not it!\")"
      ]
    },
    {
      "cell_type": "markdown",
      "metadata": {
        "id": "myZF7b65bqCi"
      },
      "source": [
        "# Exercise 4\n",
        "\n",
        "This program will output?\n"
      ]
    },
    {
      "cell_type": "code",
      "execution_count": null,
      "metadata": {
        "id": "zaikduKfbqCi"
      },
      "outputs": [],
      "source": [
        "for x in 'mike':\n",
        "    if x == 'k':\n",
        "        print('x', end=\"\")\n",
        "    else:\n",
        "        print('o', end=\"\")"
      ]
    },
    {
      "cell_type": "markdown",
      "metadata": {},
      "source": [
        "output is : ooxo"
      ]
    },
    {
      "cell_type": "markdown",
      "metadata": {
        "id": "PT8chZ7BsDq-"
      },
      "source": [
        "# Exercise 5\n",
        "\n",
        "Write a program to accept a password as input. If the password input is \"secret\" display \"access granted\" else say \"invalid password\"\n",
        "\n",
        "repeat the above up to 5 times. when the correct password is entered, stop looping when 5 loops have exhaused print \"you are locked out\""
      ]
    },
    {
      "cell_type": "code",
      "execution_count": null,
      "metadata": {
        "id": "-l13_LLXsVa4"
      },
      "outputs": [
        {
          "name": "stdout",
          "output_type": "stream",
          "text": [
            "invalid password\n",
            "round input: 1\n",
            "invalid password\n",
            "round input: 2\n",
            "invalid password\n",
            "round input: 3\n",
            "invalid password\n",
            "round input: 4\n",
            "invalid password\n",
            "round input: 5\n",
            "you are locked out\n"
          ]
        }
      ],
      "source": [
        "# your code\n",
        "password_key = \"secret\"\n",
        "\n",
        "for i in range(1, 6):\n",
        "    password = input(\"Enter your password: \")\n",
        "    if password == password_key:\n",
        "        print(\"access granted\")\n",
        "        break\n",
        "    else:\n",
        "        print(f\"invalid password , error round : {i}\")\n",
        "else:\n",
        "    print(\"you are locked out\")\n"
      ]
    },
    {
      "cell_type": "markdown",
      "metadata": {
        "id": "F_AWb3oTsuh6"
      },
      "source": [
        "# Exercise 6\n",
        "Write a program to accept numbers until the user enters: 0\n",
        "\n",
        "The program should count the number of positive and negative numbers entered, and print those values after the 0 is entered."
      ]
    },
    {
      "cell_type": "code",
      "execution_count": null,
      "metadata": {
        "id": "ZLXPYRJEtTKY"
      },
      "outputs": [],
      "source": [
        "# your code\n",
        "count = 0\n",
        "positive_time = 0\n",
        "negative_time = 0\n",
        "while True :\n",
        "    i = int(input(\"Enter a number (0 to stop): \"))\n",
        "    if i == 0:\n",
        "        break\n",
        "    if i > 0:\n",
        "        positive_time += 1\n",
        "    else:\n",
        "        negative_time += 1\n",
        "    count +=1\n",
        "print(f\"Total Numbers : {count}\")\n",
        "print(f\"Total positive numbers : {positive_time}\")\n",
        "print(f\"Total negative numbers : {negative_time}\")"
      ]
    },
    {
      "cell_type": "code",
      "execution_count": null,
      "metadata": {},
      "outputs": [],
      "source": []
    }
  ],
  "metadata": {
    "celltoolbar": "Slideshow",
    "colab": {
      "provenance": []
    },
    "kernelspec": {
      "display_name": "Python 3",
      "language": "python",
      "name": "python3"
    },
    "language_info": {
      "codemirror_mode": {
        "name": "ipython",
        "version": 3
      },
      "file_extension": ".py",
      "mimetype": "text/x-python",
      "name": "python",
      "nbconvert_exporter": "python",
      "pygments_lexer": "ipython3",
      "version": "3.12.4"
    },
    "toc": {
      "base_numbering": 1,
      "nav_menu": {},
      "number_sections": false,
      "sideBar": true,
      "skip_h1_title": false,
      "title_cell": "Table of Contents",
      "title_sidebar": "Contents",
      "toc_cell": false,
      "toc_position": {
        "height": "calc(100% - 180px)",
        "left": "10px",
        "top": "150px",
        "width": "212px"
      },
      "toc_section_display": true,
      "toc_window_display": false
    },
    "varInspector": {
      "cols": {
        "lenName": 16,
        "lenType": 16,
        "lenVar": 40
      },
      "kernels_config": {
        "python": {
          "delete_cmd_postfix": "",
          "delete_cmd_prefix": "del ",
          "library": "var_list.py",
          "varRefreshCmd": "print(var_dic_list())"
        },
        "r": {
          "delete_cmd_postfix": ") ",
          "delete_cmd_prefix": "rm(",
          "library": "var_list.r",
          "varRefreshCmd": "cat(var_dic_list()) "
        }
      },
      "position": {
        "height": "144.5px",
        "left": "557.5px",
        "right": "20px",
        "top": "122px",
        "width": "350px"
      },
      "types_to_exclude": [
        "module",
        "function",
        "builtin_function_or_method",
        "instance",
        "_Feature"
      ],
      "window_display": false
    }
  },
  "nbformat": 4,
  "nbformat_minor": 0
}
