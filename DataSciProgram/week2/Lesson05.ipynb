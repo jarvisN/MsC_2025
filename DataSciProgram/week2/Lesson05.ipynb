{
  "cells": [
    {
      "cell_type": "markdown",
      "metadata": {
        "id": "xv_TLtW6gb4p"
      },
      "source": [
        "# Lesson 05 Functions and Modules"
      ]
    },
    {
      "cell_type": "markdown",
      "metadata": {
        "id": "U8LxIp5Ogb4t"
      },
      "source": [
        "# Functions\n",
        "\n",
        "- A **Function** is a named sequence of statements which accomplish a task. They promote modularity, making our code less complex, easier to understand and encourage code-reuse.\n",
        "- When you “run” a defined function it’s known as a **function call**. Functions are designed to be ***written once***, but ***called many times***.\n",
        "- We've seen functions before:  "
      ]
    },
    {
      "cell_type": "code",
      "execution_count": null,
      "metadata": {
        "id": "Nh3fR2Jegb4u"
      },
      "outputs": [],
      "source": [
        "# input(). random.randint(), and int() are all functions!\n",
        "import random\n",
        "x = input(\"Enter Name: \")\n",
        "y = random.randint(1,10)  #random is the module, randint() is the function\n",
        "z = int(\"9\")"
      ]
    },
    {
      "cell_type": "markdown",
      "metadata": {
        "id": "Q6WbuIlrgb4w"
      },
      "source": [
        "# Functions, continued\n",
        "\n",
        "- Functions are like their own little programs. They take input, which we call the **function arguments (or parameters)** and give us back output that we refer to as **return values**.\n",
        "\n",
        "![image.png](data:image/png;base64,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)"
      ]
    },
    {
      "cell_type": "markdown",
      "metadata": {
        "id": "3g8RFX3wgb4x"
      },
      "source": [
        "# Functions & Python Modules\n",
        "\n",
        "- Python **modules** are separate files of Python functions.\n",
        "- In an object-oriented context functions are called **Methods**. Methods are functions attached to a Python object variable.\n",
        "- When you **import** a module, Python executes the and all the variables and methods/ functions module become available to your program.\n",
        "- In this example:\n",
        "  - `random` is the Python object variable\n",
        "  - `randint` is the Python method function for object variable `random`\n",
        "  - `print()` is a Python function"
      ]
    },
    {
      "cell_type": "code",
      "execution_count": null,
      "metadata": {
        "id": "kIlv1fTPgb4x"
      },
      "outputs": [],
      "source": [
        "import random\n",
        "x = random.randint(1,10)\n",
        "print(x)"
      ]
    },
    {
      "cell_type": "markdown",
      "metadata": {
        "id": "hIC6pA6Jgb4y"
      },
      "source": [
        "# dir() and help() built-in functions\n",
        "\n",
        "- The **dir()** function will display the names defined by the module. This will help you find the method functions.\n",
        "- You can get **help()** on any function name to see how to use it.\n"
      ]
    },
    {
      "cell_type": "code",
      "source": [
        "import random\n",
        "dir(random)"
      ],
      "metadata": {
        "id": "uedBdBin-sbQ"
      },
      "execution_count": null,
      "outputs": []
    },
    {
      "cell_type": "code",
      "source": [
        "help(random.randint)"
      ],
      "metadata": {
        "id": "2zGudgyo_ufE"
      },
      "execution_count": null,
      "outputs": []
    },
    {
      "cell_type": "markdown",
      "metadata": {
        "id": "BEthDFfSgb4z"
      },
      "source": [
        "# Example 1\n",
        "\n",
        "Import Modules:\n",
        "- Import sys, math and random\n",
        "- dir()\n",
        "- help()\n",
        "\n"
      ]
    },
    {
      "cell_type": "code",
      "source": [
        "# Let's import the math module from the Python standard library\n",
        "import math"
      ],
      "metadata": {
        "id": "cWzHwu3yjJAR"
      },
      "execution_count": null,
      "outputs": []
    },
    {
      "cell_type": "code",
      "source": [
        "# what can we do with math? use the dir() function to investigate\n",
        "dir(math)"
      ],
      "metadata": {
        "id": "vcqOhJQjjLP0"
      },
      "execution_count": null,
      "outputs": []
    },
    {
      "cell_type": "code",
      "source": [
        "# let's supose I want to use factorial... how do I get help?\n",
        "help(math.factorial)"
      ],
      "metadata": {
        "id": "Bw3252oujUIs"
      },
      "execution_count": null,
      "outputs": []
    },
    {
      "cell_type": "code",
      "source": [
        "# okay let's try it:\n",
        "math.factorial(5)"
      ],
      "metadata": {
        "id": "TsozxxEqjhEW"
      },
      "execution_count": null,
      "outputs": []
    },
    {
      "cell_type": "code",
      "source": [
        "# how about another one?\n",
        "help(math.gcd)"
      ],
      "metadata": {
        "id": "VgnuGjP8j2x5"
      },
      "execution_count": null,
      "outputs": []
    },
    {
      "cell_type": "code",
      "source": [
        "# trying it out\n",
        "result = math.gcd(24,32)\n",
        "print (result)"
      ],
      "metadata": {
        "id": "84nz0J5jkAKk"
      },
      "execution_count": null,
      "outputs": []
    },
    {
      "cell_type": "markdown",
      "metadata": {
        "id": "uQpJBsz4gb4z"
      },
      "source": [
        "# Built in Modules vs. External\n",
        "\n",
        "- The Python language has several modules which are included with the base language: **Python Standard Library** https://docs.python.org/3/library/\n",
        "- In addition you can import other libraries found on the Internet.\n",
        "- The Python Package Index is a website which allows you to search for other code avaialbe for use. https://pypi.org/\n",
        "- Once you know which package you want, you can install it with the `pip` command from the terminal.\n",
        "- example: `pip install <name-of-package>`"
      ]
    },
    {
      "cell_type": "markdown",
      "metadata": {
        "id": "jq1RXT4Agb4z"
      },
      "source": [
        "# Importing Modules\n",
        "\n",
        "Modules which are not built-in must be imported with the `import` command.\n",
        "\n",
        "\n",
        "- `import foo` imports all code from module `foo`\n",
        "- `from foo import bar,baz` only imports the `bar` and `baz` functions from module `foo`\n",
        "- `import foo as f` imports all code from module `foo` and renames it to `f` (usually to avoid naming conflicts)"
      ]
    },
    {
      "cell_type": "markdown",
      "metadata": {
        "id": "BhQ73pYygb4z"
      },
      "source": [
        "# Installing Modules you Don't have\n",
        "\n",
        "- Find code modules at the Python Package Index [https://pypi.org](https://pypi.org)\n",
        "- Other people's code published as a package you can download and install.\n",
        "- Use the package installer, `pip` to install in your own Python environment.\n",
        "- In notebook cell `!pip install <modulename>`\n"
      ]
    },
    {
      "cell_type": "markdown",
      "metadata": {
        "id": "8TBfIWa9gb41"
      },
      "source": [
        "# User-Defined Functions\n",
        "\n",
        "- We can create out own functions with Python's  **def** statement.\n",
        "- Function are like little programs with inputs and outputs.\n",
        "- function inputs go in the `()` after the function name. These are called the **arguments** of the function.\n",
        "- Functions outputs are specified in a `return` statement within your function code."
      ]
    },
    {
      "cell_type": "code",
      "execution_count": null,
      "metadata": {
        "id": "rMP1a-oOgb42"
      },
      "outputs": [],
      "source": [
        "# arguments are input into the function\n",
        "# return is the output\n",
        "def my_function_name(input_arguments):\n",
        "      statements-in-function\n",
        "      return output_expression"
      ]
    },
    {
      "cell_type": "markdown",
      "source": [
        "# Example 2"
      ],
      "metadata": {
        "id": "5q2tbJ0cF7t0"
      }
    },
    {
      "cell_type": "code",
      "source": [
        "## Function: rectangle_area\n",
        "## Arguments (inputs): length and Width\n",
        "## Returns (output): area\n",
        "\n",
        "def rectangle_area(length, width):\n",
        "    area = length * width\n",
        "    return area"
      ],
      "metadata": {
        "id": "xlK7LaR-F6vE"
      },
      "execution_count": null,
      "outputs": []
    },
    {
      "cell_type": "code",
      "source": [
        "result = rectangle_area(10,5)\n",
        "print(result)"
      ],
      "metadata": {
        "id": "r-42pHjLGt04"
      },
      "execution_count": null,
      "outputs": []
    },
    {
      "cell_type": "code",
      "source": [
        "# named arguments example\n",
        "side = 10\n",
        "area_of_a_square = rectangle_area(length=side, width=side)\n",
        "print (area_of_a_square)"
      ],
      "metadata": {
        "id": "T8Ra12YAG6Rc"
      },
      "execution_count": null,
      "outputs": []
    },
    {
      "cell_type": "code",
      "source": [
        "## Function: rectangle_perimeter\n",
        "## Arguments (inputs): length and Width\n",
        "## Returns (output): perimeter\n",
        "\n",
        "def rectangle_perimeter(length, width):\n",
        "    perm = 2 * (length + width)\n",
        "    return perm"
      ],
      "metadata": {
        "id": "KdLcVocVHO8G"
      },
      "execution_count": null,
      "outputs": []
    },
    {
      "cell_type": "code",
      "source": [
        "fence_length = rectangle_perimeter(width=100,length=50)\n",
        "print (fence_length)"
      ],
      "metadata": {
        "id": "4pq4TShNHbe9"
      },
      "execution_count": null,
      "outputs": []
    },
    {
      "cell_type": "markdown",
      "source": [
        "### Let's Do Text to Speech in Python!\n",
        "\n",
        "- use Pypi https://pypi.org/ to find a Python package... gTTS\n",
        "- import the Python package into our environment using `pip`\n",
        "- demonstrate different ways you can use `import` to bring in the code we need.\n",
        "- use `dir()` and `help()` to figure things out.\n"
      ],
      "metadata": {
        "id": "ttTY_d3NH3G9"
      }
    },
    {
      "cell_type": "markdown",
      "source": [
        "### User defined text to speech function\n",
        "\n",
        "- Functions make code readable and promote re-use!\n",
        "- Concept: Named Arguments for language or accent\n"
      ],
      "metadata": {
        "id": "q1LAtIB1JaPp"
      }
    },
    {
      "cell_type": "code",
      "source": [
        "! pip install gtts"
      ],
      "metadata": {
        "id": "_lwJhQ8zIIBh"
      },
      "execution_count": null,
      "outputs": []
    },
    {
      "cell_type": "code",
      "source": [
        "import gtts\n",
        "from IPython.display import display, Audio"
      ],
      "metadata": {
        "id": "lrArYVWYIJu5"
      },
      "execution_count": null,
      "outputs": []
    },
    {
      "cell_type": "code",
      "source": [
        "def speak(text, lang='en', autoplay=True, echo=False):\n",
        "    '''\n",
        "    This will use gTTS to take your text and speak it.\n",
        "\n",
        "    Example:\n",
        "\n",
        "    speak(\"Hello!\")\n",
        "    '''\n",
        "    speech = gtts.gTTS(text, slow=False, lang=lang)\n",
        "    speech.save(\"demo.mp3\")\n",
        "    if echo:\n",
        "        print(text)\n",
        "    return Audio(\"demo.mp3\",autoplay=autoplay)"
      ],
      "metadata": {
        "id": "PuP28TZ7IXqz"
      },
      "execution_count": null,
      "outputs": []
    },
    {
      "cell_type": "code",
      "source": [
        "speak('This is a fun example of Python')"
      ],
      "metadata": {
        "id": "ONRQM4AzIg8T"
      },
      "execution_count": null,
      "outputs": []
    },
    {
      "cell_type": "markdown",
      "source": [
        "# Docstrings\n",
        "\n",
        "A Docstring is a multi-line comment which explains what the function does to the function caller."
      ],
      "metadata": {
        "id": "UO3W0GmzlGXN"
      }
    },
    {
      "cell_type": "markdown",
      "metadata": {
        "id": "YqI1rpPfgb43"
      },
      "source": [
        "# Function Variable Scope\n",
        "\n",
        "- Variables defined outside any function are **Global Variables**. These  are accessible ***from everywhere*** including inside function definitions.\n",
        "- Variables defined inside a function are **Local Variables**, and are only accessible inside the function definition.\n",
        "- Local variables with the same name take precedence over global variables\n",
        "- **Best Practice: <font color='green'> Avoid Global Variable Use In Functions!!! </font>**\n"
      ]
    },
    {
      "cell_type": "markdown",
      "metadata": {
        "id": "vE7hyMZFgb43"
      },
      "source": [
        "# Scope Example\n",
        "\n",
        "- `a` = local to function `x()`\n",
        "- `b` = global scope\n",
        "- `c` = value of \"d\" in function `x()` value of \"t\" globally"
      ]
    },
    {
      "cell_type": "code",
      "execution_count": null,
      "metadata": {
        "id": "9vWH5_1Zgb44"
      },
      "outputs": [],
      "source": [
        "b = \"a\"\n",
        "c = \"t\"\n",
        "def x(a):\n",
        "    c = \"d\"\n",
        "    return a+b+c\n",
        "print(x(\"p\"))\n",
        "print(c)"
      ]
    },
    {
      "cell_type": "markdown",
      "source": [
        "# Example 3"
      ],
      "metadata": {
        "id": "6fuCP_2-J0HF"
      }
    },
    {
      "cell_type": "code",
      "source": [
        "def area_incorrect():\n",
        "    area = length * width # these are in the global scope!!!!\n",
        "    return area"
      ],
      "metadata": {
        "id": "trpNVyX-KpE4"
      },
      "execution_count": null,
      "outputs": []
    },
    {
      "cell_type": "code",
      "source": [
        "## Always pass in arguments from the global scope!\n",
        "\n",
        "def area_correct(length, width):\n",
        "    area = length * width # these are local copies from the global scope...\n",
        "    length = 0\n",
        "    width = 0 # what happens here, stays here!\n",
        "    return area"
      ],
      "metadata": {
        "id": "gHVdq_R5KtX4"
      },
      "execution_count": null,
      "outputs": []
    },
    {
      "cell_type": "code",
      "source": [
        "# in the global scope\n",
        "length = 5\n",
        "width = 10\n",
        "area = area_correct(length,width)\n",
        "print (\"length=\",length, \"width=\",width, \"area=\",area)"
      ],
      "metadata": {
        "id": "nc-_CqlFK1qX"
      },
      "execution_count": null,
      "outputs": []
    },
    {
      "cell_type": "markdown",
      "metadata": {
        "id": "AxA91Elkgb44"
      },
      "source": [
        "# IPython display and interact\n",
        "\n",
        "- Now that we covered functions we can write programs with better input/output!\n",
        "- `IPython.display` for output\n",
        "- `ipywdgets.interact` and `interact_manual` for better input.\n",
        "- Write a function to do something\n",
        "- decorate with `interact_manual()`"
      ]
    },
    {
      "cell_type": "markdown",
      "metadata": {
        "id": "scyWWihLgb44"
      },
      "source": [
        "# Example 4\n",
        "\n",
        "### IPython Interactive\n",
        "\n",
        "- Write a function call the `speak()` function we wrote.\n",
        "- call with `@interact_manual` so arguments can be entered at run time.\n"
      ]
    },
    {
      "cell_type": "code",
      "source": [
        "!pip install gtts"
      ],
      "metadata": {
        "id": "HfCv661SLSa-"
      },
      "execution_count": null,
      "outputs": []
    },
    {
      "cell_type": "code",
      "source": [
        "import gtts\n",
        "from IPython.display import display, Audio\n",
        "from ipywidgets import interact, interact_manual\n",
        "from time import sleep"
      ],
      "metadata": {
        "id": "ypfK1T2fLply"
      },
      "execution_count": null,
      "outputs": []
    },
    {
      "cell_type": "code",
      "source": [
        "def speak(text, lang='en' ,autoplay=True, slow=False, echo=False):\n",
        "    '''\n",
        "    This will use gTTS to take your text and speak it.\n",
        "\n",
        "    Example:\n",
        "\n",
        "    speak(\"Hello!\")\n",
        "    '''\n",
        "    speech = gtts.gTTS(text, lang = lang, slow=slow)\n",
        "    speech.save(\"demo.mp3\")\n",
        "    if echo:\n",
        "        print(text)\n",
        "    return Audio(\"demo.mp3\", autoplay=autoplay)"
      ],
      "metadata": {
        "id": "H0QdLBMLLyaU"
      },
      "execution_count": null,
      "outputs": []
    },
    {
      "cell_type": "code",
      "source": [
        "@interact_manual(text=\"hello there\", lang=\"en\", slow=False, autoplay=True, echo=True)\n",
        "def say_it_on_click(text, lang, slow, autoplay, echo):\n",
        "    speech = speak(text, lang, autoplay=autoplay, slow=slow, echo=echo)\n",
        "    display(speech)"
      ],
      "metadata": {
        "id": "o9GkkshAL9ol"
      },
      "execution_count": null,
      "outputs": []
    },
    {
      "cell_type": "markdown",
      "metadata": {
        "id": "oGv-GGrQgb45"
      },
      "source": [
        "# Exercise 1\n",
        "\n",
        "\n",
        "What is the value printed on the last line?\n"
      ]
    },
    {
      "cell_type": "code",
      "execution_count": null,
      "metadata": {
        "id": "Ubpu85e9gb45"
      },
      "outputs": [],
      "source": [
        "def myfunc(y):\n",
        "    x = 1\n",
        "    z = x + y + a\n",
        "    return z\n",
        "\n",
        "a = 2\n",
        "b = myfunc(2)\n",
        "print(b)"
      ]
    },
    {
      "cell_type": "markdown",
      "source": [
        "# Exercise 2\n",
        "Write a function called average which takes a list of numbers as input then outputs the average of the numbers sum / count\n",
        "\n",
        "Call your function with an arbitrary list of numbers you create."
      ],
      "metadata": {
        "id": "J5VMLj7zbuyR"
      }
    },
    {
      "cell_type": "code",
      "source": [
        "# your code\n"
      ],
      "metadata": {
        "id": "Ge1QZ91vcS69"
      },
      "execution_count": null,
      "outputs": []
    }
  ],
  "metadata": {
    "celltoolbar": "Slideshow",
    "kernelspec": {
      "display_name": "Python 3 (ipykernel)",
      "language": "python",
      "name": "python3"
    },
    "language_info": {
      "codemirror_mode": {
        "name": "ipython",
        "version": 3
      },
      "file_extension": ".py",
      "mimetype": "text/x-python",
      "name": "python",
      "nbconvert_exporter": "python",
      "pygments_lexer": "ipython3",
      "version": "3.11.7"
    },
    "toc": {
      "base_numbering": 1,
      "nav_menu": {},
      "number_sections": false,
      "sideBar": false,
      "skip_h1_title": false,
      "title_cell": "Table of Contents",
      "title_sidebar": "Contents",
      "toc_cell": false,
      "toc_position": {},
      "toc_section_display": false,
      "toc_window_display": false
    },
    "varInspector": {
      "cols": {
        "lenName": 16,
        "lenType": 16,
        "lenVar": 40
      },
      "kernels_config": {
        "python": {
          "delete_cmd_postfix": "",
          "delete_cmd_prefix": "del ",
          "library": "var_list.py",
          "varRefreshCmd": "print(var_dic_list())"
        },
        "r": {
          "delete_cmd_postfix": ") ",
          "delete_cmd_prefix": "rm(",
          "library": "var_list.r",
          "varRefreshCmd": "cat(var_dic_list()) "
        }
      },
      "types_to_exclude": [
        "module",
        "function",
        "builtin_function_or_method",
        "instance",
        "_Feature"
      ],
      "window_display": false
    },
    "colab": {
      "provenance": []
    }
  },
  "nbformat": 4,
  "nbformat_minor": 0
}