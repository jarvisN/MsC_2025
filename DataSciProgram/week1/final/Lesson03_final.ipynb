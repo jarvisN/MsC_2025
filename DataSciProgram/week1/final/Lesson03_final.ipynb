{
  "cells": [
    {
      "cell_type": "markdown",
      "metadata": {
        "id": "zZ4E-ArxU3gV"
      },
      "source": [
        "# Lesson 03 Conditionals\n"
      ]
    },
    {
      "cell_type": "markdown",
      "metadata": {
        "id": "Id9WluOGU3gg"
      },
      "source": [
        "# What is a Boolean Expression?\n",
        "\n",
        "- A **Boolean expression** evaluates to a **Boolean value** of <font color='red'> True </font> or <font color='green'> False </font>.\n",
        "\n",
        "- Boolean expressions ask questions.  \n",
        "   - GPA >3.2  <span>&#8594;</span>  Is GPA greater than 3.2?  \n",
        "   \n",
        "- The result of which is <font color='red'> True </font> or <font color='green'> False </font> based on the evaluation of the expression:  \n",
        "   - GPA = 4.0 <span>&#8594;</span>  GPA > 3.2  <span>&#8594;</span>  <font color='red'> True </font>  \n",
        "   - GPA = 2.0 <span>&#8594;</span>  GPA > 3.2  <span>&#8594;</span>  <font color='green'> False </font>\n"
      ]
    },
    {
      "cell_type": "markdown",
      "metadata": {
        "id": "ym8GrPOtU3gh"
      },
      "source": [
        "# Program Flow Control with IF\n",
        "\n",
        "- The **IF** statement is used to branch your code based on a Boolean expression.  \n",
        "  "
      ]
    },
    {
      "cell_type": "code",
      "execution_count": null,
      "metadata": {
        "id": "I1-BUtm4U3gi"
      },
      "outputs": [],
      "source": [
        "if boolean-expression:\n",
        "    statements-when-true\n",
        "else:\n",
        "    statemrnts-when-false"
      ]
    },
    {
      "cell_type": "markdown",
      "metadata": {
        "tags": [],
        "id": "Dcc7yblHU3gk"
      },
      "source": [
        "[![](https://mermaid.ink/img/pako:eNplULsOwjAM_JXIE0jND3RAghYmWICNMJjGpZXapEpcAar676QvCQlP9p0fd-4gs5oghryyr6xAx-J4VkaE2K5WYr2e8t3NMzLVZNjLV0FGsmvpPpHJH5lj5Rc27R7WVoRG0rtx5H1pTT9R-58LWyHlRqTzTCjENVwYMLH7AQ_D5hFNZmXj3H5WshQQQU2uxlIHa91AKuAiSFQQh1RTjm3FCpTpQyu2bC8fk0E8uIqgbXTwk5b4dFhDPLqJgHTJ1p2md41f67-9_WBU?type=png)](https://mermaid.live/edit#pako:eNplULsOwjAM_JXIE0jND3RAghYmWICNMJjGpZXapEpcAar676QvCQlP9p0fd-4gs5oghryyr6xAx-J4VkaE2K5WYr2e8t3NMzLVZNjLV0FGsmvpPpHJH5lj5Rc27R7WVoRG0rtx5H1pTT9R-58LWyHlRqTzTCjENVwYMLH7AQ_D5hFNZmXj3H5WshQQQU2uxlIHa91AKuAiSFQQh1RTjm3FCpTpQyu2bC8fk0E8uIqgbXTwk5b4dFhDPLqJgHTJ1p2md41f67-9_WBU)"
      ]
    },
    {
      "cell_type": "markdown",
      "metadata": {
        "id": "0-MBt_F1U3gl"
      },
      "source": [
        "# Python’s Relational Operators\n",
        "\n",
        "<table style=\"font-size:1.2em;\">\n",
        "    <thead><tr>\n",
        "        <th>Operator</th>\n",
        "        <th>What it does</th>\n",
        "        <th>Examples</th>\n",
        "    </tr></thead>\n",
        "    <tbody>\n",
        "    <tr>\n",
        "        <td><code> > </code></td>\n",
        "        <td> Greater than </td>\n",
        "        <td> 4>2 (True)</td>\n",
        "    </tr>\n",
        "    <tr>\n",
        "        <td><code> < </code></td>\n",
        "        <td> Less than </td>\n",
        "        <td> 4<2 (False)</td>\n",
        "    </tr>\n",
        "    <tr>\n",
        "        <td><code> == </code></td>\n",
        "        <td> Equal To </td>\n",
        "        <td> 4==2 (False)</td>\n",
        "    </tr>\n",
        "    <tr>\n",
        "        <td><code> != </code></td>\n",
        "        <td> Not Equal To </td>\n",
        "        <td> 4!=2 (True)</td>\n",
        "    </tr>\n",
        "    <tr>\n",
        "        <td><code> >= </code></td>\n",
        "        <td> Greater Than or Equal To </td>\n",
        "        <td> 4>=2 (True)</td>\n",
        "    <tr>\n",
        "        <td><code> <= </code></td>\n",
        "        <td> Less Than or Equal To </td>\n",
        "        <td> 4<=2 (True)</td>\n",
        "    </tr>\n",
        "  </tbody>\n",
        "</table>\n",
        "\n",
        "Expressions consisting of relational operators evaluate to a **Boolean** value\n"
      ]
    },
    {
      "cell_type": "markdown",
      "metadata": {
        "id": "iiRBxQcZU3gm"
      },
      "source": [
        "# Example 1\n"
      ]
    },
    {
      "cell_type": "markdown",
      "source": [
        "My family requires a gallon of milk at all times!\n",
        "\n"
      ],
      "metadata": {
        "id": "b7vuYQs_WoSi"
      }
    },
    {
      "cell_type": "code",
      "source": [
        "milk = float(input(\"How many gallons of milk do you have? \"))\n",
        "if milk < 1:\n",
        "    print(\"Buy more milk!\")\n",
        "else:\n",
        "    print(\"You're good for now!\")"
      ],
      "metadata": {
        "id": "xdkkoOCfWSXo",
        "colab": {
          "base_uri": "https://localhost:8080/"
        },
        "outputId": "871be610-8258-4c6e-ab86-e1f2674c7634"
      },
      "execution_count": null,
      "outputs": [
        {
          "output_type": "stream",
          "name": "stdout",
          "text": [
            "How many gallons of milk do you have? 0.5\n",
            "Buy more milk!\n"
          ]
        }
      ]
    },
    {
      "cell_type": "markdown",
      "source": [
        "I only go to the store when I need both diapers and beer!\n"
      ],
      "metadata": {
        "id": "DLy7B7DIW4pn"
      }
    },
    {
      "cell_type": "code",
      "source": [
        "diapers = input(\"do you need diapers? \")\n",
        "beer = input(\"do you need beer? \")\n",
        "if diapers == 'yes' and beer=='yes':\n",
        "    print(\"You'd better get to the store, ASAP!\")\n",
        "else:\n",
        "    print(\"No need to go to the store yet!\")"
      ],
      "metadata": {
        "id": "wvNlL09NW81A",
        "colab": {
          "base_uri": "https://localhost:8080/"
        },
        "outputId": "bf43b016-10d6-4f8e-e593-1136a654095e"
      },
      "execution_count": null,
      "outputs": [
        {
          "output_type": "stream",
          "name": "stdout",
          "text": [
            "do you need diapers? yes\n",
            "do you need beer? yes\n",
            "You'd better get to the store, ASAP!\n"
          ]
        }
      ]
    },
    {
      "cell_type": "markdown",
      "metadata": {
        "id": "SIfoq-grU3go"
      },
      "source": [
        "# Python’s Logical Operators\n",
        "\n",
        "<table style=\"font-size:1.2em;\">\n",
        "    <thead><tr>\n",
        "        <th>Operator</th>\n",
        "        <th>What it does</th>\n",
        "        <th>Examples</th>\n",
        "    </tr></thead>\n",
        "    <tbody>\n",
        "    <tr>\n",
        "        <td><code> and </code></td>\n",
        "        <td> True only when both are True </td>\n",
        "        <td> 4>2 and 4<5 (True)</td>\n",
        "    </tr>\n",
        "    <tr>\n",
        "        <td><code> or </code></td>\n",
        "        <td> False only when both are False </td>\n",
        "        <td> 4<2 or 4==4 (True)</td>\n",
        "    </tr>\n",
        "    <tr>\n",
        "        <td><code> not </code></td>\n",
        "        <td> Negation(Opposite) </td>\n",
        "        <td> not 4==2 (True)</td>\n",
        "    </tr>\n",
        "    <tr>\n",
        "        <td><code> in </code></td>\n",
        "        <td> Set operator </td>\n",
        "        <td> 4 in [2,4,7] (True)</td>\n",
        "    </tr>\n",
        "  </tbody>\n",
        "</table>\n",
        "\n"
      ]
    },
    {
      "cell_type": "markdown",
      "metadata": {
        "id": "3L76AoVzU3gq"
      },
      "source": [
        "# Multiple Decisions: IF ladder\n",
        "\n",
        "Use elif to make more than one decision in your if statement. Only one code block within the ladder is executed."
      ]
    },
    {
      "cell_type": "code",
      "execution_count": null,
      "metadata": {
        "id": "YkCnSQWMU3gq"
      },
      "outputs": [],
      "source": [
        "if boolean-expression1:\n",
        "    statements-when-exp1-true\n",
        "elif boolean-expression2:\n",
        "    statements-when-exp2-true\n",
        "elif boolean-expression3:\n",
        "    statements-when-exp3-true\n",
        "else:\n",
        "    statements-none-are-true"
      ]
    },
    {
      "cell_type": "markdown",
      "metadata": {
        "tags": [],
        "id": "uPl88-InU3gq"
      },
      "source": [
        "[![](https://mermaid.ink/img/pako:eNptkk9PxCAQxb8KmdNuUg6FnnowWWM96UW9WQ9YprZJCxtKs5qm3136hw3ocpr58TLwHkxQaYmQQ93pS9UIY8nTS6mIW6fDgRyPW32fTp9adygUxe-zoem8cxZz5jmPOd95kb4PVljsUdmBXhr086g1I37sInZbxCIRvy3ikSj7J1J604WqwOiJUHrn7HrbriWPohtwwc6ut_2Hc2874kUWjnlzJ640DYdcKQtHXCn3ua33KnxAUcejLvMdJNCj6UUr3fNOy24JtnFZlJC7UmItxs6WUKrZScVo9euPqiBfkklgPEsX3EMrvozoIa8XTwmgbK02z9uXWX_O_AsXZalz?type=png)](https://mermaid.live/edit#pako:eNptkk9PxCAQxb8KmdNuUg6FnnowWWM96UW9WQ9YprZJCxtKs5qm3136hw3ocpr58TLwHkxQaYmQQ93pS9UIY8nTS6mIW6fDgRyPW32fTp9adygUxe-zoem8cxZz5jmPOd95kb4PVljsUdmBXhr086g1I37sInZbxCIRvy3ikSj7J1J604WqwOiJUHrn7HrbriWPohtwwc6ut_2Hc2874kUWjnlzJ640DYdcKQtHXCn3ua33KnxAUcejLvMdJNCj6UUr3fNOy24JtnFZlJC7UmItxs6WUKrZScVo9euPqiBfkklgPEsX3EMrvozoIa8XTwmgbK02z9uXWX_O_AsXZalz)"
      ]
    },
    {
      "cell_type": "markdown",
      "metadata": {
        "id": "h0yUUSYVU3gr"
      },
      "source": [
        "# elif versus a series of if statements\n"
      ]
    },
    {
      "cell_type": "code",
      "execution_count": null,
      "metadata": {
        "id": "Oie835LDU3gr",
        "colab": {
          "base_uri": "https://localhost:8080/"
        },
        "outputId": "5478af54-55e5-41e9-d3e5-981d4bd6a95c"
      },
      "outputs": [
        {
          "output_type": "stream",
          "name": "stdout",
          "text": [
            "enter an integer20\n",
            "A:bigger than 10\n",
            "B:bigger than 10\n"
          ]
        }
      ],
      "source": [
        "x = int(input(\"enter an integer\"))\n",
        "# one single statement. only one block executes\n",
        "if x>10:\n",
        "    print(\"A:bigger than 10\")\n",
        "elif x>20:\n",
        "    print(\"A:bigger than 20\")\n",
        "# Independent if's, each True Boolean executes a block\n",
        "if x>10:\n",
        "    print(\"B:bigger than 10\")\n",
        "if x>20:\n",
        "    print(\"B:bigger than 20\")"
      ]
    },
    {
      "cell_type": "markdown",
      "metadata": {
        "id": "Aop0SQZSU3gr"
      },
      "source": [
        "# Exercise 1\n",
        "\n",
        "Assuming values ` x = 25 and y = 6` what value is printed?"
      ]
    },
    {
      "cell_type": "code",
      "execution_count": null,
      "metadata": {
        "id": "dcVg3OEyU3gs"
      },
      "outputs": [],
      "source": [
        "if x > 20:\n",
        "    if y == 4:\n",
        "        print(\"One\")\n",
        "    elif y > 4:\n",
        "        print(\"Two\")\n",
        "    else:\n",
        "        print(\"Three\")\n",
        "else:\n",
        "    print(\"Four\")"
      ]
    },
    {
      "cell_type": "markdown",
      "source": [
        "Two"
      ],
      "metadata": {
        "id": "IwZDf7zPg-4W"
      }
    },
    {
      "cell_type": "markdown",
      "metadata": {
        "id": "oz5xK0S7U3gs"
      },
      "source": [
        "# Handle Bad Input with Exceptions\n",
        "\n",
        "- **Exceptions** represent a class of errors which occur at **run-time**.\n",
        "- We’ve seen these before when run a program and it crashes due to **bad input**. And we get a **TypeError** or **ValueError**.\n",
        "- Python provides a mechanism **try .. except** to catch these errors at run-time and prevent your program from crashing.\n",
        "- **Exceptions are <i>exceptional</i>**. They should ONLY be used to handle unforeseen errors in program input.\n"
      ]
    },
    {
      "cell_type": "markdown",
      "metadata": {
        "id": "3CqdNTE9U3gt"
      },
      "source": [
        "# Try…Except…Finally\n",
        "\n",
        "The Try... Except statement is used to handle exceptions. Remember that exceptions catch **run-time** errors!"
      ]
    },
    {
      "cell_type": "code",
      "execution_count": null,
      "metadata": {
        "id": "sicwwrEHU3gu"
      },
      "outputs": [],
      "source": [
        "try:\n",
        "    statements-which\n",
        "    might-throw-an-error\n",
        "except errorType1:\n",
        "    code-when-Type1-happens\n",
        "except errorType2:\n",
        "    code-when-Type2-happens\n",
        "finally:\n",
        "    code-happens-regardless\n"
      ]
    },
    {
      "cell_type": "markdown",
      "metadata": {
        "id": "4UCs5seeU3gu"
      },
      "source": [
        "# Example 2\n",
        "\n",
        "The need for an exception handling:\n",
        "- Bad input\n",
        "- try except finally\n",
        "- Good practice of catching the specific error\n"
      ]
    },
    {
      "cell_type": "markdown",
      "source": [
        "This demonstrates the need for exception handling.\n"
      ],
      "metadata": {
        "id": "m5DMhRvpYkEo"
      }
    },
    {
      "cell_type": "code",
      "source": [
        "# this generates a run-time error when you enter a non-number\n",
        "\n",
        "# for example enter \"heavy\" and you get a ValueError\n",
        "weight = float(input(\"Enter product weight in Kg: \"))"
      ],
      "metadata": {
        "id": "OElq8byKYaXt",
        "colab": {
          "base_uri": "https://localhost:8080/"
        },
        "outputId": "20e80960-0104-42af-c7ad-6cbb16a91cca"
      },
      "execution_count": 13,
      "outputs": [
        {
          "name": "stdout",
          "output_type": "stream",
          "text": [
            "Enter product weight in Kg: 30.0\n"
          ]
        }
      ]
    },
    {
      "cell_type": "code",
      "source": [
        "# This example uses try..except to catch the ValueError\n",
        "try:\n",
        "    weight = float(input(\"Enter product weight in Kg: \"))\n",
        "    print (\"Weight is:\", weight)\n",
        "except ValueError:\n",
        "    print(\"You did not enter a number! \")"
      ],
      "metadata": {
        "id": "9sTLBIH_YvFX",
        "colab": {
          "base_uri": "https://localhost:8080/"
        },
        "outputId": "802be0ee-03ce-4e1d-fc59-b54467d03b77"
      },
      "execution_count": 17,
      "outputs": [
        {
          "output_type": "stream",
          "name": "stdout",
          "text": [
            "Enter product weight in Kg: t\n",
            "You did not enter a number! \n"
          ]
        }
      ]
    },
    {
      "cell_type": "markdown",
      "metadata": {
        "id": "dm1c4bJ7U3gu"
      },
      "source": [
        "## Exercise 2\n",
        "\n",
        "What prints on line 9 when you input the value **'-45s'**?"
      ]
    },
    {
      "cell_type": "code",
      "execution_count": 18,
      "metadata": {
        "id": "R3MLGaHLU3gv",
        "colab": {
          "base_uri": "https://localhost:8080/"
        },
        "outputId": "adcfa6c2-d23d-4f0c-f9ec-a999e4c587f6"
      },
      "outputs": [
        {
          "output_type": "stream",
          "name": "stdout",
          "text": [
            "Enter a number: -45c\n",
            "c\n"
          ]
        }
      ],
      "source": [
        "try:\n",
        "    x = float(input(\"Enter a number: \"))\n",
        "    if x > 0:\n",
        "        y =  \"a\"\n",
        "    else:\n",
        "        y = \"b\"\n",
        "except ValueError:\n",
        "    y = \"c\"\n",
        "print(y)"
      ]
    },
    {
      "cell_type": "markdown",
      "source": [
        "c"
      ],
      "metadata": {
        "id": "PTrJ0WQhipnS"
      }
    },
    {
      "cell_type": "markdown",
      "metadata": {
        "id": "KLczbKYxU3gw"
      },
      "source": [
        "# Exercise 3\n",
        "\n",
        "When <font color='green'>x = 12, y = 20</font>   \n",
        "What is the value of this Boolean expression?   \n",
        "<font color='green'>x < y and not y==20</font>\n"
      ]
    },
    {
      "cell_type": "code",
      "source": [
        "x = 12\n",
        "y = 20\n",
        "print(x < y and not y == 20 )"
      ],
      "metadata": {
        "colab": {
          "base_uri": "https://localhost:8080/"
        },
        "id": "MXfMFLZ3l2Dy",
        "outputId": "7eb3fa2d-bdbe-44c3-ac03-e321dcb6163c"
      },
      "execution_count": 21,
      "outputs": [
        {
          "output_type": "stream",
          "name": "stdout",
          "text": [
            "False\n"
          ]
        }
      ]
    },
    {
      "cell_type": "markdown",
      "source": [
        "False"
      ],
      "metadata": {
        "id": "RaOB2fpdjNqZ"
      }
    },
    {
      "cell_type": "markdown",
      "source": [
        "# Exercise 4\n",
        "Number to Letter grade\n",
        "Letter grades in a college class are computed as follows:\n",
        "*   95 and above is an A\n",
        "*   75 and above, but below 95 is a B\n",
        "*   50 and above, but below 75 is a C\n",
        "*   below 50 is F\n",
        "Write a program to input the number grade and calculate the letter grade\n",
        "\n",
        "Re-write to account for \"bad\" grades > 120 or < 0"
      ],
      "metadata": {
        "id": "IQDV6oL_nvQ9"
      }
    },
    {
      "cell_type": "code",
      "source": [
        "# Enter your code here\n",
        "try:\n",
        "    grade = float(input(\"Enter your number grade (0-120): \"))\n",
        "\n",
        "    if grade < 0 or grade > 120:\n",
        "        print(\"❌ Invalid grade. Please enter a value between 0 and 120.\")\n",
        "    elif grade >= 95 and grade <= 120:\n",
        "        print(\"Your letter grade is A\")\n",
        "    elif grade >= 75 and grade < 95:\n",
        "        print(\"Your letter grade is B\")\n",
        "    elif grade >= 50 and grade < 75:\n",
        "        print(\"Your letter grade is C\")\n",
        "    elif grade >= 0 and grade < 50:\n",
        "        print(\"Your letter grade is F\")\n",
        "\n",
        "except ValueError:\n",
        "    print(\"❌ Please enter a numeric value.\")\n"
      ],
      "metadata": {
        "id": "rh1tg6gGpDVL",
        "colab": {
          "base_uri": "https://localhost:8080/"
        },
        "outputId": "1359cf10-c2ff-4e4f-d3f1-8ef7c19286c1"
      },
      "execution_count": 12,
      "outputs": [
        {
          "output_type": "stream",
          "name": "stdout",
          "text": [
            "Enter your number grade (0-120): 120\n",
            "Your letter grade is A\n"
          ]
        }
      ]
    },
    {
      "cell_type": "code",
      "source": [],
      "metadata": {
        "id": "Wnne_JmAlQRz"
      },
      "execution_count": null,
      "outputs": []
    }
  ],
  "metadata": {
    "celltoolbar": "Slideshow",
    "kernelspec": {
      "display_name": "Python 3 (ipykernel)",
      "language": "python",
      "name": "python3"
    },
    "language_info": {
      "codemirror_mode": {
        "name": "ipython",
        "version": 3
      },
      "file_extension": ".py",
      "mimetype": "text/x-python",
      "name": "python",
      "nbconvert_exporter": "python",
      "pygments_lexer": "ipython3",
      "version": "3.11.7"
    },
    "toc": {
      "base_numbering": 1,
      "nav_menu": {},
      "number_sections": false,
      "sideBar": false,
      "skip_h1_title": false,
      "title_cell": "Table of Contents",
      "title_sidebar": "Contents",
      "toc_cell": false,
      "toc_position": {},
      "toc_section_display": false,
      "toc_window_display": false
    },
    "varInspector": {
      "cols": {
        "lenName": 16,
        "lenType": 16,
        "lenVar": 40
      },
      "kernels_config": {
        "python": {
          "delete_cmd_postfix": "",
          "delete_cmd_prefix": "del ",
          "library": "var_list.py",
          "varRefreshCmd": "print(var_dic_list())"
        },
        "r": {
          "delete_cmd_postfix": ") ",
          "delete_cmd_prefix": "rm(",
          "library": "var_list.r",
          "varRefreshCmd": "cat(var_dic_list()) "
        }
      },
      "types_to_exclude": [
        "module",
        "function",
        "builtin_function_or_method",
        "instance",
        "_Feature"
      ],
      "window_display": false
    },
    "colab": {
      "provenance": []
    }
  },
  "nbformat": 4,
  "nbformat_minor": 0
}