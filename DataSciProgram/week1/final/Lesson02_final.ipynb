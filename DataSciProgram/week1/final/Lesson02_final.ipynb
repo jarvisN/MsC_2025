{
  "cells": [
    {
      "cell_type": "markdown",
      "metadata": {
        "id": "lJylo1E1KHXB"
      },
      "source": [
        "# Lesson 02 Variables and Types\n",
        "\n"
      ]
    },
    {
      "cell_type": "markdown",
      "metadata": {
        "id": "Vc8N8K8JKHXH"
      },
      "source": [
        "# Variables\n",
        "\n",
        "- **Variables** are named areas of computer memory for storing data.\n",
        "- The **name** can be anything but should make symbolic sense to the programmer.\n",
        "- We **write** to the variable’s memory location with the assignment statement (=)\n",
        "- We **read** from the variable by calling its name.\n",
        "- Variable names must begin with a letter or _ and must only contain letters, numbers or _.\n"
      ]
    },
    {
      "cell_type": "markdown",
      "metadata": {
        "id": "D-5YrmUWKHXI"
      },
      "source": [
        "# Variables, Types and Assignment\n",
        "\n",
        "\n",
        "![](https://i.imgur.com/TtTNDFx.png)\n"
      ]
    },
    {
      "cell_type": "markdown",
      "metadata": {
        "id": "xp6JZ7MsKHXI"
      },
      "source": [
        "# Variables are of a Specific Type\n",
        "\n",
        "<table style=\"font-size:1.2em;\">\n",
        "    <thead><tr>\n",
        "        <th>Type</th>\n",
        "        <th>Purpose</th>\n",
        "        <th>Examples</th>\n",
        "    </tr></thead>\n",
        "    <tbody>\n",
        "    <tr>\n",
        "        <td><code>int</code></td>\n",
        "        <td>Numeric type for integers only</td>\n",
        "        <td>45, -10</td>\n",
        "    </tr>\n",
        "    <tr>\n",
        "        <td><code>float</code></td>\n",
        "        <td>Numeric type floating point numbers</td>\n",
        "        <td>45, -10</td>\n",
        "    </tr>\n",
        "    <tr>\n",
        "        <td><code>bool</code></td>\n",
        "        <td>True or False values</td>\n",
        "        <td>True, False</td>\n",
        "    </tr>\n",
        "    <tr>\n",
        "        <td><code>str</code></td>\n",
        "        <td>Characters and text</td>\n",
        "        <td>\"A\", 'Mike'</td>\n",
        "    </tr>\n",
        "  </tbody>\n",
        "</table>"
      ]
    },
    {
      "cell_type": "markdown",
      "metadata": {
        "id": "VMAJRhbMKHXI"
      },
      "source": [
        "# Type Detection and Conversion\n",
        "\n",
        "<table style=\"font-size:1.2em;\">\n",
        "    <thead><tr>\n",
        "        <th>Python Function</th>\n",
        "        <th>What It Does</th>\n",
        "        <th>Example of Use</th>\n",
        "    </tr></thead>\n",
        "    <tbody>\n",
        "    <tr>\n",
        "        <td><code>type(<em>n</em>)</code></td>\n",
        "        <td>Returns the current type of <em>n</em></td>\n",
        "        <td><code>type(13) == int</code></td>\n",
        "    </tr>\n",
        "    <tr>\n",
        "        <td><code>int(<em>n</em>)</code></td>\n",
        "        <td>Converts <em>n</em> to type <b>int</b></td>\n",
        "        <td><code>int(\"45\") == 45</code></td>\n",
        "    </tr>\n",
        "    <tr>\n",
        "        <td><code>float(<em>n</em>)</code></td>\n",
        "        <td>Converts <em>n</em> to type <b>float</b></td>\n",
        "        <td><code>float(45) == 45.0</code></td>\n",
        "    </tr>\n",
        "    <tr>\n",
        "        <td><code>str(<em>n</em>)</code></td>\n",
        "        <td>Converts <em>n</em> to type <b>str</b></td>\n",
        "        <td><code>str(4.0) == '4.0'</code></td>\n",
        "    </tr>\n",
        "  </tbody>\n",
        "</table>"
      ]
    },
    {
      "cell_type": "markdown",
      "metadata": {
        "id": "cGJw31krKHXJ"
      },
      "source": [
        "# Example 1\n",
        "\n",
        "### Understanding Variables and Types !\n",
        "\n",
        "- Assignment\n",
        "- Variables of Different Types\n",
        "- Switching Types, Type Conversion\n",
        "- Checking types with `type()`\n",
        "- Combining `input()` with `int()`, or `float()`"
      ]
    },
    {
      "cell_type": "code",
      "source": [
        "name = \"Veera\"\n",
        "age = 25\n",
        "wage = 25.5\n",
        "happy_employee = True"
      ],
      "metadata": {
        "id": "Y4Q8Xo2EK9AF"
      },
      "execution_count": 4,
      "outputs": []
    },
    {
      "cell_type": "code",
      "source": [
        "#what is the type of name?\n",
        "type(name)"
      ],
      "metadata": {
        "id": "F9CEtf4jLgBk",
        "colab": {
          "base_uri": "https://localhost:8080/"
        },
        "outputId": "125492d3-8038-41a8-a26a-a439949d76c2"
      },
      "execution_count": 5,
      "outputs": [
        {
          "output_type": "execute_result",
          "data": {
            "text/plain": [
              "str"
            ]
          },
          "metadata": {},
          "execution_count": 5
        }
      ]
    },
    {
      "cell_type": "code",
      "source": [
        "#what is the type  of age?\n",
        "type(age)"
      ],
      "metadata": {
        "id": "qQ4mbNpuL3aB",
        "colab": {
          "base_uri": "https://localhost:8080/"
        },
        "outputId": "fdc1280b-6121-4c92-f9c1-81c1bf2829a3"
      },
      "execution_count": 6,
      "outputs": [
        {
          "output_type": "execute_result",
          "data": {
            "text/plain": [
              "int"
            ]
          },
          "metadata": {},
          "execution_count": 6
        }
      ]
    },
    {
      "cell_type": "code",
      "source": [
        "# convert age to float\n",
        "float(age)"
      ],
      "metadata": {
        "id": "CV6KsW_OL5gd",
        "colab": {
          "base_uri": "https://localhost:8080/"
        },
        "outputId": "f9d583c2-a8a3-4236-c193-56e349b8fdf8"
      },
      "execution_count": 7,
      "outputs": [
        {
          "output_type": "execute_result",
          "data": {
            "text/plain": [
              "25.0"
            ]
          },
          "metadata": {},
          "execution_count": 7
        }
      ]
    },
    {
      "cell_type": "code",
      "source": [
        "# convert age to float then ask for type\n",
        "type(float(age))"
      ],
      "metadata": {
        "id": "5uvYv8GPMDPF",
        "colab": {
          "base_uri": "https://localhost:8080/"
        },
        "outputId": "77a52c73-e970-4afc-86bd-a699c765f4ca"
      },
      "execution_count": 8,
      "outputs": [
        {
          "output_type": "execute_result",
          "data": {
            "text/plain": [
              "float"
            ]
          },
          "metadata": {},
          "execution_count": 8
        }
      ]
    },
    {
      "cell_type": "code",
      "source": [
        "# from float to int, you lose decimal places\n",
        "lost_wage = int(wage)\n",
        "lost_wage"
      ],
      "metadata": {
        "id": "vLT13byWMTYL",
        "colab": {
          "base_uri": "https://localhost:8080/"
        },
        "outputId": "fcd0aad8-dfac-41f9-fbe4-ff5e90478d4f"
      },
      "execution_count": 9,
      "outputs": [
        {
          "output_type": "execute_result",
          "data": {
            "text/plain": [
              "25"
            ]
          },
          "metadata": {},
          "execution_count": 9
        }
      ]
    },
    {
      "cell_type": "code",
      "source": [
        "# switching types from str to int\n",
        "name = 99\n",
        "type(name)"
      ],
      "metadata": {
        "id": "0_GKciEVMVH9",
        "colab": {
          "base_uri": "https://localhost:8080/"
        },
        "outputId": "65deed6a-c18c-4c56-9c8e-caa843d60f64"
      },
      "execution_count": 10,
      "outputs": [
        {
          "output_type": "execute_result",
          "data": {
            "text/plain": [
              "int"
            ]
          },
          "metadata": {},
          "execution_count": 10
        }
      ]
    },
    {
      "cell_type": "code",
      "source": [
        "# ValueError because you cannot convert \"Tony\" to float\n",
        "name = \"Tony\"\n",
        "float(name)"
      ],
      "metadata": {
        "id": "xDfEJsD4MetX",
        "colab": {
          "base_uri": "https://localhost:8080/",
          "height": 180
        },
        "outputId": "d2d7fe4e-0bea-4b65-e462-4f0d94274fd3"
      },
      "execution_count": 11,
      "outputs": [
        {
          "output_type": "error",
          "ename": "ValueError",
          "evalue": "could not convert string to float: 'Tony'",
          "traceback": [
            "\u001b[0;31m---------------------------------------------------------------------------\u001b[0m",
            "\u001b[0;31mValueError\u001b[0m                                Traceback (most recent call last)",
            "\u001b[0;32m/tmp/ipython-input-11-4106219847.py\u001b[0m in \u001b[0;36m<cell line: 0>\u001b[0;34m()\u001b[0m\n\u001b[1;32m      1\u001b[0m \u001b[0;31m# ValueError because you cannot convert \"Tony\" to float\u001b[0m\u001b[0;34m\u001b[0m\u001b[0;34m\u001b[0m\u001b[0m\n\u001b[1;32m      2\u001b[0m \u001b[0mname\u001b[0m \u001b[0;34m=\u001b[0m \u001b[0;34m\"Tony\"\u001b[0m\u001b[0;34m\u001b[0m\u001b[0;34m\u001b[0m\u001b[0m\n\u001b[0;32m----> 3\u001b[0;31m \u001b[0mfloat\u001b[0m\u001b[0;34m(\u001b[0m\u001b[0mname\u001b[0m\u001b[0;34m)\u001b[0m\u001b[0;34m\u001b[0m\u001b[0;34m\u001b[0m\u001b[0m\n\u001b[0m",
            "\u001b[0;31mValueError\u001b[0m: could not convert string to float: 'Tony'"
          ]
        }
      ]
    },
    {
      "cell_type": "code",
      "source": [
        "float(\"45\")"
      ],
      "metadata": {
        "id": "Vfie3qQeMmje",
        "colab": {
          "base_uri": "https://localhost:8080/"
        },
        "outputId": "733440e1-281d-4e31-b018-235e0e80619c"
      },
      "execution_count": 12,
      "outputs": [
        {
          "output_type": "execute_result",
          "data": {
            "text/plain": [
              "45.0"
            ]
          },
          "metadata": {},
          "execution_count": 12
        }
      ]
    },
    {
      "cell_type": "code",
      "source": [
        "int(\"10\")/2"
      ],
      "metadata": {
        "id": "zFHtsTphMtDg",
        "colab": {
          "base_uri": "https://localhost:8080/"
        },
        "outputId": "a5e5fefb-f4a3-45e2-dd22-443d6585e870"
      },
      "execution_count": 13,
      "outputs": [
        {
          "output_type": "execute_result",
          "data": {
            "text/plain": [
              "5.0"
            ]
          },
          "metadata": {},
          "execution_count": 13
        }
      ]
    },
    {
      "cell_type": "code",
      "source": [
        "int(\"Mike\") + \"f\""
      ],
      "metadata": {
        "id": "_s36DE2-M8vc",
        "colab": {
          "base_uri": "https://localhost:8080/",
          "height": 144
        },
        "outputId": "13e3506c-c78b-4d6d-e3aa-3bef7c0edc42"
      },
      "execution_count": 14,
      "outputs": [
        {
          "output_type": "error",
          "ename": "ValueError",
          "evalue": "invalid literal for int() with base 10: 'Mike'",
          "traceback": [
            "\u001b[0;31m---------------------------------------------------------------------------\u001b[0m",
            "\u001b[0;31mValueError\u001b[0m                                Traceback (most recent call last)",
            "\u001b[0;32m/tmp/ipython-input-14-2007204727.py\u001b[0m in \u001b[0;36m<cell line: 0>\u001b[0;34m()\u001b[0m\n\u001b[0;32m----> 1\u001b[0;31m \u001b[0mint\u001b[0m\u001b[0;34m(\u001b[0m\u001b[0;34m\"Mike\"\u001b[0m\u001b[0;34m)\u001b[0m \u001b[0;34m+\u001b[0m \u001b[0;34m\"f\"\u001b[0m\u001b[0;34m\u001b[0m\u001b[0;34m\u001b[0m\u001b[0m\n\u001b[0m",
            "\u001b[0;31mValueError\u001b[0m: invalid literal for int() with base 10: 'Mike'"
          ]
        }
      ]
    },
    {
      "cell_type": "markdown",
      "metadata": {
        "id": "IEEg_5SMKHXK"
      },
      "source": [
        "# Python String Formatting\n",
        "\n",
        "<table style=\"font-size:1.0em;\">\n",
        "    <thead><tr>\n",
        "        <th>Code</th>\n",
        "        <th>Type</th>\n",
        "        <th>Example</th>\n",
        "        <th>Output</th>\n",
        "    </tr></thead>\n",
        "    <tbody>\n",
        "    <tr>\n",
        "        <td><code>%d</code></td>\n",
        "        <td><code>int</code></td>\n",
        "        <td><code>print(\"%d\" % 50)</code></td>\n",
        "        <td><code>50</code></td>\n",
        "    </tr>\n",
        "    <tr>\n",
        "        <td><code>%f</code></td>\n",
        "        <td><code>int</code></td>\n",
        "        <td><code>print(\"%.2f\" % 4.5)</code></td>\n",
        "        <td><code>4.50</code></td>\n",
        "    </tr>\n",
        "    <tr>\n",
        "        <td><code>%d</code></td>\n",
        "        <td><code>str</code></td>\n",
        "        <td><code>print(\"[%s]\" % \"mike\")</code></td>\n",
        "        <td><code>[mike]</code></td>\n",
        "    </tr>\n",
        "  </tbody>\n",
        "</table>"
      ]
    },
    {
      "cell_type": "code",
      "execution_count": 15,
      "metadata": {
        "id": "5mq16P1hKHXK",
        "colab": {
          "base_uri": "https://localhost:8080/"
        },
        "outputId": "27662517-e9e6-4bcc-dc25-07ac29dd5081"
      },
      "outputs": [
        {
          "output_type": "stream",
          "name": "stdout",
          "text": [
            "Veera is 25 years old. He makes $25.50/hr\n"
          ]
        }
      ],
      "source": [
        "name = 'Veera'\n",
        "age = 25\n",
        "wage = 25.5\n",
        "print(\"%s is %d years old. He makes $%.2f/hr\" % (name, age, wage) )"
      ]
    },
    {
      "cell_type": "markdown",
      "metadata": {
        "id": "skSUAfwHKHXL"
      },
      "source": [
        "# Python F-String Interpolation\n",
        "\n",
        "The `f` in front of the `\"\"` tells Python to interpolate the `{}` in the string, replacing them with values of the variables."
      ]
    },
    {
      "cell_type": "code",
      "execution_count": 16,
      "metadata": {
        "id": "gEJSOqdpKHXL",
        "colab": {
          "base_uri": "https://localhost:8080/"
        },
        "outputId": "7c421b75-2f96-4220-f6be-9926c2de2f97"
      },
      "outputs": [
        {
          "output_type": "stream",
          "name": "stdout",
          "text": [
            "veera is 25 years old. He makes $25.50/hr\n",
            "veera is 25 years old. He makes $25.50/hr\n"
          ]
        }
      ],
      "source": [
        "name = 'veera'\n",
        "age = 25\n",
        "wage = 25.5\n",
        "\n",
        "print(\"%s is %d years old. He makes $%.2f/hr\" % (name, age, wage) )\n",
        "\n",
        "# f-string style\n",
        "print(f\"{name} is {age:d} years old. He makes ${wage:.2f}/hr\")"
      ]
    },
    {
      "cell_type": "markdown",
      "metadata": {
        "id": "f-LXXhU7KHXM"
      },
      "source": [
        "# Example 2\n",
        "\n",
        "### Python String Formatting with inputs\n",
        "\n",
        "- Inputs\n",
        "- F-strings\n",
        "- Formatting\n",
        "- Alignment\n"
      ]
    },
    {
      "cell_type": "code",
      "source": [
        "name = \"Jim\"\n",
        "age = 55\n",
        "salary = 15.75"
      ],
      "metadata": {
        "id": "1Y6ejpUbNslx"
      },
      "execution_count": 17,
      "outputs": []
    },
    {
      "cell_type": "code",
      "source": [
        "# string formatting\n",
        "print(\"Hello there %s. How are you? \" % (name))"
      ],
      "metadata": {
        "id": "mfweMMiVN9Rd",
        "colab": {
          "base_uri": "https://localhost:8080/"
        },
        "outputId": "784f8388-6ada-4e29-c244-315a1c592449"
      },
      "execution_count": 18,
      "outputs": [
        {
          "output_type": "stream",
          "name": "stdout",
          "text": [
            "Hello there Jim. How are you? \n"
          ]
        }
      ]
    },
    {
      "cell_type": "code",
      "source": [
        "# formatting redux\n",
        "print(\"%s makes %f per hour.\" % (name, salary))"
      ],
      "metadata": {
        "id": "453OhJQiOJi1",
        "colab": {
          "base_uri": "https://localhost:8080/"
        },
        "outputId": "3b39cf65-9d80-4d89-df80-73dd1e2757de"
      },
      "execution_count": 19,
      "outputs": [
        {
          "output_type": "stream",
          "name": "stdout",
          "text": [
            "Jim makes 15.750000 per hour.\n"
          ]
        }
      ]
    },
    {
      "cell_type": "code",
      "source": [
        "# let's use spacing\n",
        "print(\"%s makes %.2f per hour.\"  % (name, salary))"
      ],
      "metadata": {
        "id": "auAVJyP2OSGn",
        "colab": {
          "base_uri": "https://localhost:8080/"
        },
        "outputId": "c8378b75-e371-4d52-9c90-325031af8a0f"
      },
      "execution_count": 20,
      "outputs": [
        {
          "output_type": "stream",
          "name": "stdout",
          "text": [
            "Jim makes 15.75 per hour.\n"
          ]
        }
      ]
    },
    {
      "cell_type": "code",
      "source": [
        "# right alignment\n",
        "print(\"-\" * 10) # print 10 dashes\n",
        "print(\"%10d\" %(age))"
      ],
      "metadata": {
        "id": "Pxp2-2ySOZYx",
        "colab": {
          "base_uri": "https://localhost:8080/"
        },
        "outputId": "06035a6c-14ab-4aca-dde4-5f6554606e50"
      },
      "execution_count": 21,
      "outputs": [
        {
          "output_type": "stream",
          "name": "stdout",
          "text": [
            "----------\n",
            "        55\n"
          ]
        }
      ]
    },
    {
      "cell_type": "code",
      "source": [
        "# left alignment\n",
        "print(\"-\" * 10)\n",
        "print(\"%-10d\" % (age))"
      ],
      "metadata": {
        "id": "ct00FHW8OjYp",
        "colab": {
          "base_uri": "https://localhost:8080/"
        },
        "outputId": "cda8af78-10bc-44ac-a37d-1c535810156d"
      },
      "execution_count": 22,
      "outputs": [
        {
          "output_type": "stream",
          "name": "stdout",
          "text": [
            "----------\n",
            "55        \n"
          ]
        }
      ]
    },
    {
      "cell_type": "markdown",
      "metadata": {
        "id": "zXbl9W4sKHXM"
      },
      "source": [
        "# Programmatic Expressions\n",
        "\n",
        "Programmatic Expressions contain **operators** and **operands**. They evaluate to a value, preserving type:\n",
        "\n"
      ]
    },
    {
      "cell_type": "code",
      "execution_count": 23,
      "metadata": {
        "id": "Ok4qp8FIKHXN",
        "colab": {
          "base_uri": "https://localhost:8080/",
          "height": 233
        },
        "outputId": "5ff4a164-d153-4230-b3c6-0e6b0944acb5"
      },
      "outputs": [
        {
          "output_type": "stream",
          "name": "stdout",
          "text": [
            "4\n",
            "4.0\n",
            "ship\n"
          ]
        },
        {
          "output_type": "error",
          "ename": "TypeError",
          "evalue": "can only concatenate str (not \"int\") to str",
          "traceback": [
            "\u001b[0;31m---------------------------------------------------------------------------\u001b[0m",
            "\u001b[0;31mTypeError\u001b[0m                                 Traceback (most recent call last)",
            "\u001b[0;32m/tmp/ipython-input-23-1800394374.py\u001b[0m in \u001b[0;36m<cell line: 0>\u001b[0;34m()\u001b[0m\n\u001b[1;32m      2\u001b[0m \u001b[0mprint\u001b[0m\u001b[0;34m(\u001b[0m\u001b[0;36m2.0\u001b[0m \u001b[0;34m+\u001b[0m \u001b[0;36m2\u001b[0m\u001b[0;34m)\u001b[0m\u001b[0;34m\u001b[0m\u001b[0;34m\u001b[0m\u001b[0m\n\u001b[1;32m      3\u001b[0m \u001b[0mprint\u001b[0m\u001b[0;34m(\u001b[0m\u001b[0;34m\"sh\"\u001b[0m \u001b[0;34m+\u001b[0m \u001b[0;34m'ip'\u001b[0m\u001b[0;34m)\u001b[0m\u001b[0;34m\u001b[0m\u001b[0;34m\u001b[0m\u001b[0m\n\u001b[0;32m----> 4\u001b[0;31m \u001b[0mprint\u001b[0m\u001b[0;34m(\u001b[0m\u001b[0;34m'hi'\u001b[0m \u001b[0;34m+\u001b[0m \u001b[0;36m2\u001b[0m\u001b[0;34m)\u001b[0m\u001b[0;34m\u001b[0m\u001b[0;34m\u001b[0m\u001b[0m\n\u001b[0m",
            "\u001b[0;31mTypeError\u001b[0m: can only concatenate str (not \"int\") to str"
          ]
        }
      ],
      "source": [
        "print(2 + 2)\n",
        "print(2.0 + 2)\n",
        "print(\"sh\" + 'ip')\n",
        "print('hi' + 2)"
      ]
    },
    {
      "cell_type": "markdown",
      "metadata": {
        "id": "fGZ0AWkQKHXN"
      },
      "source": [
        "# Arithmetic Operators\n",
        "\n",
        "<table style=\"font-size:1.2em;\">\n",
        "    <thead><tr>\n",
        "        <th>Operator</th>\n",
        "        <th>What it Does</th>\n",
        "        <th>Example of Use</th>\n",
        "    </tr></thead>\n",
        "    <tbody>\n",
        "    <tr>\n",
        "        <td><code>+</code></td>\n",
        "        <td>Addition or string concenation</td>\n",
        "        <td><code>3 + 4 == 7</code></td>\n",
        "    </tr>\n",
        "    <tr>\n",
        "        <td><code>-</code></td>\n",
        "        <td>Subtraction</td>\n",
        "        <td><code>4 - 3 == 1</code></td>\n",
        "    </tr>\n",
        "    <tr>\n",
        "        <td><code>*</code></td>\n",
        "        <td>Multiplication</td>\n",
        "        <td><code>3 * 4 == 12</code></td>\n",
        "    </tr>\n",
        "    <tr>\n",
        "        <td><code>/</code></td>\n",
        "        <td>Division</td>\n",
        "        <td><code>4 / 3 == 1.33333</code></td>\n",
        "    </tr>\n",
        "    <tr>\n",
        "        <td><code>//</code></td>\n",
        "        <td>Intger division (quotent)</td>\n",
        "        <td><code>13 // 3 == 4</code></td>\n",
        "    </tr>\n",
        "    <tr>\n",
        "        <td><code>%</code></td>\n",
        "        <td>Modulo (remainder)</td>\n",
        "        <td><code>13 % 3 == 1</code></td>\n",
        "    </tr>\n",
        "    <tr>\n",
        "        <td><code>( )</code></td>\n",
        "        <td>Force an order of operations</td>\n",
        "        <td><code>2 * (3 + 4) == 14</code></td>\n",
        "    </tr>\n",
        "  </tbody>\n",
        "</table>"
      ]
    },
    {
      "cell_type": "markdown",
      "metadata": {
        "id": "FSet2EuVKHXO"
      },
      "source": [
        "\n",
        "\n",
        "\n",
        "# Exercise\n",
        "\n",
        "1. What is the output of the following python code?\n",
        "```\n",
        "a = 10\n",
        "b = 2\n",
        "c = 1 + (a/b)\n",
        "print(c)\n",
        "```"
      ]
    },
    {
      "cell_type": "markdown",
      "source": [
        "6.0"
      ],
      "metadata": {
        "id": "9KWnBhqcfJ3K"
      }
    },
    {
      "cell_type": "markdown",
      "source": [],
      "metadata": {
        "id": "IPCzkYNBfENa"
      }
    },
    {
      "cell_type": "markdown",
      "metadata": {
        "id": "mv9g84RUKHXO"
      },
      "source": [
        "\n",
        "2. What is the value of: `type(int(\"1\"+\"4\")/2)` ?"
      ]
    },
    {
      "cell_type": "markdown",
      "source": [
        "float"
      ],
      "metadata": {
        "id": "vPy0gXeLfYtD"
      }
    }
  ],
  "metadata": {
    "celltoolbar": "Slideshow",
    "kernelspec": {
      "display_name": "Python 3 (ipykernel)",
      "language": "python",
      "name": "python3"
    },
    "language_info": {
      "codemirror_mode": {
        "name": "ipython",
        "version": 3
      },
      "file_extension": ".py",
      "mimetype": "text/x-python",
      "name": "python",
      "nbconvert_exporter": "python",
      "pygments_lexer": "ipython3",
      "version": "3.11.7"
    },
    "toc": {
      "base_numbering": 1,
      "nav_menu": {},
      "number_sections": false,
      "sideBar": false,
      "skip_h1_title": false,
      "title_cell": "Table of Contents",
      "title_sidebar": "Contents",
      "toc_cell": false,
      "toc_position": {},
      "toc_section_display": false,
      "toc_window_display": false
    },
    "varInspector": {
      "cols": {
        "lenName": 16,
        "lenType": 16,
        "lenVar": 40
      },
      "kernels_config": {
        "python": {
          "delete_cmd_postfix": "",
          "delete_cmd_prefix": "del ",
          "library": "var_list.py",
          "varRefreshCmd": "print(var_dic_list())"
        },
        "r": {
          "delete_cmd_postfix": ") ",
          "delete_cmd_prefix": "rm(",
          "library": "var_list.r",
          "varRefreshCmd": "cat(var_dic_list()) "
        }
      },
      "types_to_exclude": [
        "module",
        "function",
        "builtin_function_or_method",
        "instance",
        "_Feature"
      ],
      "window_display": false
    },
    "colab": {
      "provenance": []
    }
  },
  "nbformat": 4,
  "nbformat_minor": 0
}