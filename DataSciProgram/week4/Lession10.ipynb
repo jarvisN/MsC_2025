{
  "cells": [
    {
      "cell_type": "markdown",
      "metadata": {
        "id": "jr058BBYovvO"
      },
      "source": [
        "# Lesson 10: Pandas Basics\n",
        "\n",
        "series, data frame, columns, index, numpy types, Nan, slicing\n"
      ]
    },
    {
      "cell_type": "markdown",
      "metadata": {
        "id": "-Qdh7N8uovvb"
      },
      "source": [
        "## What is Pandas?\n",
        "\n",
        "Pandas is a Python library for working with tabular data. Pandas is short for PANeled DAta.\n",
        "\n",
        "Pandas is like a programmable spreadheet. It is used by programmers to **wrangle** data (**sort**, **filter**, **clean**, **enhance**, etc.)"
      ]
    },
    {
      "cell_type": "markdown",
      "metadata": {
        "id": "D3iWxcJEovvd"
      },
      "source": [
        "## Pandas Series and DataFrame\n",
        "\n",
        "The two fundamental compoents of Pandas are the `Series` and `DataFrame`\n",
        "\n",
        "- a `Series` is a list of values with labels. This creates a **column** of data\n",
        "- a `DataFrame` is a collection of series. This creates a **table** of data\n",
        "\n",
        "### Null / No Value\n",
        "\n",
        "The constant `np.nan` is used to represent \"no value\""
      ]
    },
    {
      "cell_type": "code",
      "execution_count": null,
      "metadata": {
        "id": "tTghn_S5ovve"
      },
      "outputs": [],
      "source": [
        "import pandas as pd\n",
        "import numpy as np"
      ]
    },
    {
      "cell_type": "markdown",
      "metadata": {
        "id": "-iQmCgy4ovvh"
      },
      "source": [
        "## Series\n",
        "\n",
        "A `Series` is a named list of values.  \n",
        "\n",
        "The series has an index, too to reference each value. The default index is a zero based, similar to a python list."
      ]
    },
    {
      "cell_type": "code",
      "execution_count": null,
      "metadata": {
        "id": "R-f0Uiisovvj"
      },
      "outputs": [],
      "source": [
        "grades = pd.Series(data=[100,80,90,np.nan,100], name=\"Midterm Grades\")\n",
        "grades"
      ]
    },
    {
      "cell_type": "code",
      "execution_count": null,
      "metadata": {
        "id": "zO3m3AuJovvm"
      },
      "outputs": [],
      "source": [
        "# The the value at index 2\n",
        "grades[2]"
      ]
    },
    {
      "cell_type": "markdown",
      "metadata": {
        "id": "0VnwtnJDovvn"
      },
      "source": [
        "The index can be anyting . Here's the same grades with student names as the index."
      ]
    },
    {
      "cell_type": "code",
      "execution_count": null,
      "metadata": {
        "id": "obC-4aGNovvo"
      },
      "outputs": [],
      "source": [
        "grades2 = pd.Series( data=[100,80,90,np.nan,100],\n",
        "                    name=\"Midterm Grades\",\n",
        "                    index=[\"Alice\", \"Bob\", \"Charlie\", \"David\", \"Eve\"])\n",
        "grades2"
      ]
    },
    {
      "cell_type": "code",
      "execution_count": null,
      "metadata": {
        "id": "kWHhp91covvp"
      },
      "outputs": [],
      "source": [
        "# Get Charlie's grade\n",
        "grades2[\"Charlie\"]"
      ]
    },
    {
      "cell_type": "markdown",
      "metadata": {
        "id": "zKIaikjWovvq"
      },
      "source": [
        "#### Series Aggregate Functions\n",
        "\n",
        "The beauty of Pandas is that for most operations, you won't even need a loop! For example, we derive the `min()`, `max()`, `mean()`, `sum()` and `count()` of non `np.nan` values in a series without a for loop!!!\n",
        "\n",
        "We do this by calling those method functions on the series itself, for example:"
      ]
    },
    {
      "cell_type": "code",
      "execution_count": null,
      "metadata": {
        "id": "abqk0uawovvr"
      },
      "outputs": [],
      "source": [
        "print(\"Highest grade:\", grades.max())\n",
        "print(\"Average grade:\", grades.mean())\n",
        "print(\"lowest grade:\", grades.min())\n",
        "print(\"Sum of grades:\", grades.sum())\n",
        "print(\"Count of grades\", grades.count())"
      ]
    },
    {
      "cell_type": "markdown",
      "metadata": {
        "id": "Lzz52vVDovvs"
      },
      "source": [
        "#### Other Series Functions\n",
        "\n",
        "We use the `unique()` method function to return only the non-duplicate values from the series.\n",
        "\n",
        "The `value_counts()` method function adds up values, creating a new series where the index is the value and the value is the count.\n",
        "\n",
        " For example consider the following series:"
      ]
    },
    {
      "cell_type": "code",
      "execution_count": null,
      "metadata": {
        "id": "e49omDxsovvs"
      },
      "outputs": [],
      "source": [
        "votes = pd.Series(data=[ 'y','y','y','n','y',np.nan,'n','n','y'], name=\"Vote\")\n",
        "print(\"deduplicate the votes:\", votes.unique())\n",
        "print(\"counts by value:\", votes.value_counts())"
      ]
    },
    {
      "cell_type": "markdown",
      "metadata": {
        "id": "gZ0330Umovvt"
      },
      "source": [
        "## DataFrame\n",
        "\n",
        "The pandas **DataFrame** is a table representation of data. It is the primary use case for pandas itself. A dataframe is simply a collection of **Series** that share a common **Index**. I like to think of the DataFrame as a programmable spreadsheet. It has rows and columns which can be accessed and manipulated with Python.\n"
      ]
    },
    {
      "cell_type": "code",
      "execution_count": null,
      "metadata": {
        "id": "THLLf6xmovvt"
      },
      "outputs": [],
      "source": [
        "names = pd.Series( data = ['Allen','Bob','Chris','Dave','Ed','Frank','Gus'])\n",
        "gpas = pd.Series( data = [4.0, np.nan, 3.4, 2.8, 2.5, 3.8, 3.0])\n",
        "years = pd.Series( data = ['So', 'Fr', 'Fr', 'Jr', 'Sr', 'Sr', 'Fr'])\n",
        "series_dict = { 'Name':  names, 'GPA': gpas, 'Year' : years }  # dict of Series, keys are the series names\n",
        "students = pd.DataFrame( series_dict )\n",
        "students"
      ]
    },
    {
      "cell_type": "markdown",
      "metadata": {
        "id": "JcPNYmjvovvu"
      },
      "source": [
        "#### Other Ways to create dataframes:\n",
        "\n",
        "https://pandas.pydata.org/pandas-docs/stable/user_guide/dsintro.html#dataframe\n",
        "\n",
        "Lists of lists: `pd.DataFrame([['Tom', 7], ['Mike', 15], ['Tiffany', 3]])`\n",
        "\n",
        "Dictionary `pd.DataFrame({\"Name\": ['Tom', 'Mike', 'Tiffany'], \"Number\": [7, 15, 3]})`\n",
        "\n",
        "Series `pd.DataFrame({\"Name\": pd.Series(['Tom', 'Mike', 'Tiffany']), \"Number\": pd.Series([7, 15, 3])})`\n",
        "\n",
        "#### DataFrames share the index\n",
        "\n",
        "The dataframe is stitched together from values macthing on their index. For example:"
      ]
    },
    {
      "cell_type": "code",
      "execution_count": null,
      "metadata": {
        "id": "vAx00nOuovvu"
      },
      "outputs": [],
      "source": [
        "gpas = pd.Series(data=[4.0, np.nan, 3.4, 2.8, 2.5 ], index=['Allen','Bob','Chris','Ed', 'Frank'])\n",
        "yrs = pd.Series(data=['So', 'Fr', 'Jr', 'Sr'], index=['Allen','Bob','Dave', 'Frank'])\n",
        "students = pd.DataFrame( {'GPA': gpas, 'Year': yrs})\n",
        "students"
      ]
    },
    {
      "cell_type": "markdown",
      "metadata": {
        "id": "OicdoBYzovvv"
      },
      "source": [
        "#### Accessing elements with loc and iloc\n",
        "\n",
        "The `loc[index, col]` and `iloc[row_pos, col_pos]` properties allow you to slice the dataframe. `loc` uses the index and column names, while `iloc` uses ordinal positions starting at zero.\n",
        "\n",
        "Here are some examples, using `studentsn`"
      ]
    },
    {
      "cell_type": "code",
      "execution_count": null,
      "metadata": {
        "id": "nb3Qkqseovvw"
      },
      "outputs": [],
      "source": [
        "# Examples using loc\n",
        "print(\"loc: Get the Chris' GPA: \", students.loc['Chris', 'GPA'])\n",
        "print(\"loc: Get the Year of the last student (Frank): \", students.loc['Frank', 'Year'])"
      ]
    },
    {
      "cell_type": "code",
      "source": [
        "# Same examples using iloc\n",
        "print(\"iloc: Get the GPA of the student at row 2 (Chris): \", students.iloc[2, 0])\n",
        "print(\"iloc: Get the Year of the last student (Frank): \", students.iloc[-1, 1])"
      ],
      "metadata": {
        "id": "03cOVGeqvNUS"
      },
      "execution_count": null,
      "outputs": []
    },
    {
      "cell_type": "code",
      "execution_count": null,
      "metadata": {
        "id": "FuXte9eIovvw"
      },
      "outputs": [],
      "source": [
        "# You can also slice using loc and iloc\n",
        "print(\"loc: last two rows:\\n\", students.loc['Ed':, 'GPA':'Year'])\n",
        "print()\n",
        "print(\"iloc: last two rows:\\n\", students.iloc[-2:, 0:2])\n"
      ]
    },
    {
      "cell_type": "markdown",
      "metadata": {
        "id": "AiyrwLkuovvx"
      },
      "source": [
        "#### Null Checks\n",
        "\n",
        "use `isna()` to check for `np.nan`."
      ]
    },
    {
      "cell_type": "code",
      "execution_count": null,
      "metadata": {
        "id": "g_P4Dw37ovvx"
      },
      "outputs": [],
      "source": [
        "students[students.GPA.isna()]"
      ]
    },
    {
      "cell_type": "markdown",
      "metadata": {
        "id": "9RjhtAt7ovvy"
      },
      "source": [
        "## Exercise 1\n",
        "\n",
        "Create this dataframe:\n",
        "\n",
        "```\n",
        "   s1   s2 s3\n",
        "a   1  2.2  q\n",
        "b   2  NaN  q\n",
        "c   3  3.0  z\n",
        "d   4  1.5  z\n",
        "```\n",
        "Use series to create it to make sure the index is correct.\n",
        "`print()` the dataframe\n",
        "\n",
        "Then `print()` the first 2 rows and columns using loc or iloc"
      ]
    },
    {
      "cell_type": "code",
      "source": [
        "# Your Code\n",
        ""
      ],
      "metadata": {
        "id": "2-P-Vrqgv_Al"
      },
      "execution_count": null,
      "outputs": []
    },
    {
      "cell_type": "markdown",
      "metadata": {
        "id": "84njRRnQovvy"
      },
      "source": [
        "## Basic Dataframe operations\n",
        "\n",
        "- `info()` provide names of columns, counts of non-null values in each columns, and data types.\n",
        "- `describe()` for each numerical column provide some basic statistics (min, max, mean, and quartiles).\n",
        "- `head(n=5)` view the FIRST `n` rows in the dataframe (defaults to 5)\n",
        "- `tail(n=5)` view the LAST `n` rows in the dataframe (defaults to 5)\n",
        "- `sample(n=1)` view a random `n` rows from the dataframe (defautls to 1)\n",
        "- `.columns` retrieve a list of columns in the dataframe"
      ]
    },
    {
      "cell_type": "code",
      "execution_count": null,
      "metadata": {
        "id": "2B4Dr2_Xovv0"
      },
      "outputs": [],
      "source": [
        "customers = pd.read_csv('https://raw.githubusercontent.com/mafudge/datasets/master/customers/customers.csv')\n",
        "len(customers)"
      ]
    },
    {
      "cell_type": "code",
      "source": [
        "customers.info()"
      ],
      "metadata": {
        "id": "hv2pkF_X0MHK"
      },
      "execution_count": null,
      "outputs": []
    },
    {
      "cell_type": "code",
      "source": [
        "customers.sample(n=1)"
      ],
      "metadata": {
        "id": "Pp9YyM4mz7aV"
      },
      "execution_count": null,
      "outputs": []
    },
    {
      "cell_type": "code",
      "source": [
        "customers.columns"
      ],
      "metadata": {
        "id": "gqUrQCvTbP92"
      },
      "execution_count": null,
      "outputs": []
    },
    {
      "cell_type": "markdown",
      "metadata": {
        "id": "ynqucVdvovv1"
      },
      "source": [
        "### Selecting Rows and Columns\n",
        "\n",
        "We can pair down the output of a dataframe by using:\n",
        "\n",
        "- a `list` of column names to select columns.\n",
        "- a `boolean index` to select matching rows."
      ]
    },
    {
      "cell_type": "code",
      "execution_count": null,
      "metadata": {
        "id": "E7MWLFLsovv1"
      },
      "outputs": [],
      "source": [
        "data_dict = {\n",
        "    'Name':  ['Allen','Bob','Chris','Dave','Ed','Frank','Gus'],\n",
        "    'GPA': [4.0, np.nan, 3.4, 2.8, 2.5, 3.8, 3.0],\n",
        "    'Year' : ['So', 'Fr', 'Fr', 'Jr', 'Sr', 'Sr', 'Fr'] }\n",
        "students = pd.DataFrame( data_dict )\n",
        "students"
      ]
    },
    {
      "cell_type": "markdown",
      "metadata": {
        "id": "JjXeZwo-ovv2"
      },
      "source": [
        "### Selecting Columns\n",
        "\n",
        "This example just gets the name and GPA columns"
      ]
    },
    {
      "cell_type": "code",
      "execution_count": null,
      "metadata": {
        "id": "1ll37NZ1ovv3"
      },
      "outputs": [],
      "source": [
        "columns_to_show = ['Name', 'GPA']\n",
        "students[columns_to_show]"
      ]
    },
    {
      "cell_type": "markdown",
      "metadata": {
        "id": "sZF2K7Ruovv3"
      },
      "source": [
        "#### Getting the freshmen using a boolean index\n",
        "\n",
        "consider the following:"
      ]
    },
    {
      "cell_type": "code",
      "execution_count": null,
      "metadata": {
        "id": "FdEOUgfCovv4"
      },
      "outputs": [],
      "source": [
        "students['Year'] == 'Fr'"
      ]
    },
    {
      "cell_type": "markdown",
      "metadata": {
        "id": "yEXRgsPgovv4"
      },
      "source": [
        "This it called a `boolean index`. The boolean expression is evaluted for each index in the dataframe.\n",
        "\n",
        "When we apply the boolean index to the dataframe, only the rows where the index == True are returned."
      ]
    },
    {
      "cell_type": "code",
      "execution_count": null,
      "metadata": {
        "id": "LvpS7v_Govv4"
      },
      "outputs": [],
      "source": [
        "students[students['Year'] == 'Fr']"
      ]
    },
    {
      "cell_type": "markdown",
      "metadata": {
        "id": "k_rUx_wvovv5"
      },
      "source": [
        "Likewise we can assign these variables for clarity"
      ]
    },
    {
      "cell_type": "code",
      "execution_count": null,
      "metadata": {
        "id": "QXLv_GfFovv5"
      },
      "outputs": [],
      "source": [
        "only_freshmen_index = students['Year'] == 'Fr'\n",
        "only_freshmen = students[only_freshmen_index]\n",
        "only_freshmen"
      ]
    },
    {
      "cell_type": "markdown",
      "metadata": {
        "id": "r412fmDlovwG"
      },
      "source": [
        "#### And Or and Not with Boolean indexes\n",
        "\n",
        "What if we want freshmen or seniors? We cannot use `or` in this case, instead we must use the python bitwise or operator. This is because the series contains multiple values.\n",
        "\n",
        "**Bitwise Operators**\n",
        "\n",
        "- and `&`\n",
        "- or `|`\n",
        "- not `~`\n",
        "\n",
        "Note: `()` are required between each bitwise operator.\n"
      ]
    },
    {
      "cell_type": "code",
      "execution_count": null,
      "metadata": {
        "id": "3zo_mJ3DovwH"
      },
      "outputs": [],
      "source": [
        "# freshmen and seniors\n",
        "only_freshmen_seniors = (students['Year'] == 'Fr') | (students['Year'] == 'Sr')\n",
        "students[only_freshmen_seniors]"
      ]
    },
    {
      "cell_type": "markdown",
      "metadata": {
        "id": "XuCAkY2CovwI"
      },
      "source": [
        "### Putting it Together\n",
        "\n",
        "Get the name and GPA of onlt freshmen with a GPA"
      ]
    },
    {
      "cell_type": "code",
      "execution_count": null,
      "metadata": {
        "id": "p4fetkPzovwI"
      },
      "outputs": [],
      "source": [
        "cols = ['Name', 'GPA']\n",
        "fr_with_gpa = (students['Year'] == 'Fr') & (students['GPA'].notna())\n",
        "students[fr_with_gpa][cols]"
      ]
    }
  ],
  "metadata": {
    "kernelspec": {
      "display_name": "Python 3",
      "language": "python",
      "name": "python3"
    },
    "language_info": {
      "codemirror_mode": {
        "name": "ipython",
        "version": 3
      },
      "file_extension": ".py",
      "mimetype": "text/x-python",
      "name": "python",
      "nbconvert_exporter": "python",
      "pygments_lexer": "ipython3",
      "version": "3.12.6"
    },
    "colab": {
      "provenance": [],
      "toc_visible": true
    }
  },
  "nbformat": 4,
  "nbformat_minor": 0
}