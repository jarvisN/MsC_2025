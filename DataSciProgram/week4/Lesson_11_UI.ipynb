{
  "cells": [
    {
      "cell_type": "markdown",
      "metadata": {
        "id": "NwbHfTps_KnM"
      },
      "source": [
        "# Lesson 11: Ipywidgets and Interact\n"
      ]
    },
    {
      "cell_type": "markdown",
      "metadata": {
        "id": "Ol_raL5L_Kng"
      },
      "source": [
        "## Notebook widgets:  ipywidgets\n",
        "\n",
        "The jupyter notebook widgets create better UI interactions in notebooks. This is called the ipywidgets library. There is a lot to this library but we will keep our interactions simple:\n",
        "\n",
        "To replace `input()` statements we use the `interact_manual` decorator function. Like a hat decorates your head, decorator function adds code to another function.\n",
        "\n",
        "`interact_manual` decorator does the following:\n",
        "\n",
        "- generates a *textbox* for any string input\n",
        "- generates a *slider* for any int/float input\n",
        "- generates a *dropdown* for any list input\n",
        "- generates a *button* titled \"Run interact\"\n",
        "\n",
        "When the **button is clicked** the code inside the decorated function is executed and the widget values are used as input. Use `display()` instead of `print()` for output."
      ]
    },
    {
      "cell_type": "code",
      "execution_count": null,
      "metadata": {
        "id": "FRzyYmFv_Knk"
      },
      "outputs": [],
      "source": [
        "# Necessary imports to make this work\n",
        "from IPython.display import display\n",
        "from ipywidgets import interact_manual"
      ]
    },
    {
      "cell_type": "code",
      "execution_count": null,
      "metadata": {
        "id": "dABlw19J_Knp"
      },
      "outputs": [],
      "source": [
        "# Example:\n",
        "vals = [ 'red', 'white', 'blue'] # this is a list type, it will generate a dropdown widget\n",
        "min, max, step = 0, 20, 0.5      # this is the range of the slider, and the steps\n",
        "text = \"testing\"                 # this is a string type, it will generate a textbox\n",
        "\n",
        "@interact_manual(color=vals, grade=(min,max,step), name=text) # DECORATOR function with values\n",
        "def on_click(color, grade, name):                             # DECORATED function. This code\n",
        "    display(color)                                            # runs when the button is clicked\n",
        "    display(grade)                                            # (thus the name on_click)\n",
        "    display(name)"
      ]
    },
    {
      "cell_type": "markdown",
      "metadata": {
        "id": "kkWFzDZh_Knv"
      },
      "source": [
        "## Exercise 1\n",
        "\n",
        "Let's create a simple widget interaction for display student status for their GPA:\n",
        "\n",
        "inputs:\n",
        "\n",
        "- student name\n",
        "- major: one of \"IMT\", \"IST\", or \"DAS\"\n",
        "- gpa between 0.0 and 4.0\n",
        "\n",
        "process:\n",
        "\n",
        "- when gpa < 1.8 then status is \"probation\"\n",
        "- when gpa > 3.4 then status is \"deans list\"\n",
        "- else status is \"no list\"\n",
        "\n",
        "output:\n",
        "\n",
        "- display the following statement:\n",
        "    \"NAME in MAJOR with GPA is on STATUS\""
      ]
    },
    {
      "cell_type": "code",
      "execution_count": null,
      "metadata": {
        "id": "_GgOMagw_Kny"
      },
      "outputs": [],
      "source": [
        "\n",
        "from IPython.display import display\n",
        "from ipywidgets import interact_manual\n",
        "\n",
        "@ interact_manual(name='', major=[\"IMT\", \"IST\", \"DAS\"], gpa = (0.0, 4.0, 0.05))\n",
        "#your code\n"
      ]
    },
    {
      "cell_type": "markdown",
      "metadata": {
        "id": "IR8h_L8e_Kn0"
      },
      "source": [
        "# Exercise 2\n",
        "https://raw.githubusercontent.com/mafudge/datasets/master/superhero/superhero-movie-dataset-1978-2012-header.csv\n",
        "\n",
        "- Explore the data with info(), describe(), head()\\\n",
        "- How many DC? Marvel? value_counts()\n",
        "- Highest Rated imdb movie? Lowest?\n",
        "- dropping NaN values\n",
        "\n",
        "\n",
        "\n"
      ]
    },
    {
      "cell_type": "code",
      "source": [
        "import pandas as pd\n",
        "\n",
        "sh = pd.read_csv(\"https://raw.githubusercontent.com/mafudge/datasets/master/superhero/superhero-movie-dataset-1978-2012-header.csv\")\n",
        "sh.info()"
      ],
      "metadata": {
        "id": "ONo8DpjAE5PO"
      },
      "execution_count": null,
      "outputs": []
    },
    {
      "cell_type": "code",
      "source": [
        "sh.describe()\n"
      ],
      "metadata": {
        "id": "g-GgAbnFFeTQ"
      },
      "execution_count": null,
      "outputs": []
    },
    {
      "cell_type": "code",
      "source": [
        "#look at some of the data\n",
        "sh.head()"
      ],
      "metadata": {
        "id": "-NGHQi94FiaX"
      },
      "execution_count": null,
      "outputs": []
    },
    {
      "cell_type": "code",
      "source": [
        "# are they all DC comics? Try a random same of 10\n",
        "sh.sample(n=10)"
      ],
      "metadata": {
        "id": "ge2w8B2gFqd8"
      },
      "execution_count": null,
      "outputs": []
    },
    {
      "cell_type": "code",
      "source": [
        "## Who has more movies in the dataset? DC or Marvel?\n",
        "sh['Comic'].value_counts()"
      ],
      "metadata": {
        "id": "U6TUze5lF2gx"
      },
      "execution_count": null,
      "outputs": []
    },
    {
      "cell_type": "code",
      "source": [
        "## let's see that as a percentage of the total\n",
        "sh['Comic'].value_counts(normalize=True)"
      ],
      "metadata": {
        "id": "QilwdRpEGTH2"
      },
      "execution_count": null,
      "outputs": []
    },
    {
      "cell_type": "code",
      "source": [
        "## what are the ratios in the last 10 years of data ?\n",
        "sh[ sh['Year'] >2002]['Comic'].value_counts(normalize=True)"
      ],
      "metadata": {
        "id": "exrAfKcPGjMe"
      },
      "execution_count": null,
      "outputs": []
    },
    {
      "cell_type": "code",
      "source": [
        "# what about the first 10 years of data? 1978 - 1987?\n",
        "sh[ sh['Year'] < 1988]['Comic'].value_counts(normalize=True)"
      ],
      "metadata": {
        "id": "KZZwQnxrG3fj"
      },
      "execution_count": null,
      "outputs": []
    },
    {
      "cell_type": "code",
      "source": [
        "sh.head()\n"
      ],
      "metadata": {
        "id": "1SlLCWp-HEQZ"
      },
      "execution_count": null,
      "outputs": []
    },
    {
      "cell_type": "code",
      "source": [
        "## skip nulls in analysis\n",
        "sh2 = sh.dropna()\n",
        "sh2.head()"
      ],
      "metadata": {
        "id": "Y-A7BwTcHNwE"
      },
      "execution_count": null,
      "outputs": []
    },
    {
      "cell_type": "code",
      "source": [
        "# Movie with the best IMDB score?\n"
      ],
      "metadata": {
        "id": "v13AOk6vHY4t"
      },
      "execution_count": null,
      "outputs": []
    },
    {
      "cell_type": "code",
      "source": [
        "best_imdb = sh2['IMDB Score'].max()\n",
        "best_imdb\n"
      ],
      "metadata": {
        "id": "MvwMTMEAHvBK"
      },
      "execution_count": null,
      "outputs": []
    },
    {
      "cell_type": "code",
      "source": [
        "sh2[ sh2['IMDB Score'] == best_imdb ]\n"
      ],
      "metadata": {
        "id": "REUHIXEqHyE_"
      },
      "execution_count": null,
      "outputs": []
    },
    {
      "cell_type": "code",
      "source": [
        "# Save\n",
        "sh2.to_csv(\"superhero2.csv\", header=True, index=False)"
      ],
      "metadata": {
        "id": "9Qa2LqFmTWZJ"
      },
      "execution_count": null,
      "outputs": []
    },
    {
      "cell_type": "markdown",
      "source": [
        "Building a Data Product from superhero2.csv\n",
        "\n",
        "UI to search for a title\n",
        "Select a range for the Composite score.\n",
        "Output the Results"
      ],
      "metadata": {
        "id": "ZUkKzr9TEvIZ"
      }
    },
    {
      "cell_type": "code",
      "source": [
        "# Figure out data frame\n",
        "from ipywidgets import interact_manual, widgets\n",
        "from IPython.display import display\n",
        "import pandas as pd\n",
        "import numpy as np\n",
        "sh = pd.read_csv(\"superhero2.csv\")"
      ],
      "metadata": {
        "id": "vyRBbxVWJNAo"
      },
      "execution_count": null,
      "outputs": []
    },
    {
      "cell_type": "code",
      "source": [
        "sh.head()['Title']\n"
      ],
      "metadata": {
        "id": "keeO62X_JbJb"
      },
      "execution_count": null,
      "outputs": []
    },
    {
      "cell_type": "code",
      "source": [
        "sh.head()['Title'].str.find(\"Duck\")>=0\n"
      ],
      "metadata": {
        "id": "YMrTnQmUJi0P"
      },
      "execution_count": null,
      "outputs": []
    },
    {
      "cell_type": "code",
      "source": [
        "#build the range slider\n",
        "min_comp = sh['Composite Score'].min()\n",
        "max_comp = sh['Composite Score'].max()\n",
        "print(min_comp, max_comp)"
      ],
      "metadata": {
        "id": "XMpSiLBiJpf_"
      },
      "execution_count": null,
      "outputs": []
    },
    {
      "cell_type": "code",
      "source": [
        "score = widgets.FloatRangeSlider(\n",
        "    value=[min_comp, max_comp],\n",
        "    min=min_comp,\n",
        "    max=max_comp,\n",
        "    step=0.1,\n",
        "    description='Composite:',\n",
        "    disabled=False,\n",
        "    continuous_update=False,\n",
        "    orientation='horizontal',\n",
        "    readout=True,\n",
        "    readout_format='.1f',\n",
        ")\n",
        "score"
      ],
      "metadata": {
        "id": "k6zFsHHnJw92"
      },
      "execution_count": null,
      "outputs": []
    },
    {
      "cell_type": "code",
      "source": [
        "# your code\n",
        "from ipywidgets import interact_manual, widgets\n",
        "from IPython.display import display\n",
        "import pandas as pd\n",
        "import numpy as np\n",
        "sh = pd.read_csv(\"superhero2.csv\")\n",
        "min_comp = sh['Composite Score'].min()\n",
        "max_comp = sh['Composite Score'].max()\n",
        "score = widgets.FloatRangeSlider(\n",
        "    value=[min_comp, max_comp],\n",
        "    min=min_comp,\n",
        "    max=max_comp,\n",
        "    step=0.5,\n",
        "    description='Composite:',\n",
        "    disabled=False,\n",
        "    continuous_update=False,\n",
        "    orientation='horizontal',\n",
        "    readout=True,\n",
        "    readout_format='.1f',\n",
        ")\n",
        "@interact_manual(title=\"\",score=score)\n",
        "# your code\n",
        ""
      ],
      "metadata": {
        "id": "3-c9BpluC_AH"
      },
      "execution_count": null,
      "outputs": []
    }
  ],
  "metadata": {
    "kernelspec": {
      "display_name": "Python 3",
      "language": "python",
      "name": "python3"
    },
    "language_info": {
      "codemirror_mode": {
        "name": "ipython",
        "version": 3
      },
      "file_extension": ".py",
      "mimetype": "text/x-python",
      "name": "python",
      "nbconvert_exporter": "python",
      "pygments_lexer": "ipython3",
      "version": "3.11.0"
    },
    "colab": {
      "provenance": [],
      "toc_visible": true
    }
  },
  "nbformat": 4,
  "nbformat_minor": 0
}