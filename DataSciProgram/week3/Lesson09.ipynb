{
  "cells": [
    {
      "cell_type": "markdown",
      "metadata": {
        "id": "F7cnDr4_rwwQ"
      },
      "source": [
        "# Lesson 09 Dictionaries"
      ]
    },
    {
      "cell_type": "markdown",
      "metadata": {
        "id": "4I8SIekorwwT"
      },
      "source": [
        "# Dictionaries\n",
        "\n",
        "- The **dict** type is designed to store key-value pairs. In Python this is known as a **mapping type**.  \n",
        "`font={'Name':'Arial','Size': 8}`\n",
        "- Python dictionaries are **mutable** which means you can change the values of the keys after they have been set.\n",
        "- Dictionary values are accessed by **key** not by **index**.  \n",
        "`font['Name'] = 'Courier'`  \n"
      ]
    },
    {
      "cell_type": "markdown",
      "metadata": {
        "id": "isOv9t6_rwwT"
      },
      "source": [
        "# Example 1\n",
        "\n",
        "### Dictionary Basics:\n",
        "- Create a dictionary\n",
        "- Update its value\n",
        "- Print it out\n",
        "- `KeyError`\n"
      ]
    },
    {
      "cell_type": "code",
      "source": [
        "student = {} # empty dictionary"
      ],
      "metadata": {
        "id": "diBTGJY5sGgA"
      },
      "execution_count": null,
      "outputs": []
    },
    {
      "cell_type": "code",
      "source": [
        "# set some values\n",
        "student['Name'] = 'Michael'\n",
        "student['GPA'] = 3.4\n",
        "student['KDAIschool'] = True\n",
        "\n",
        "print(student)"
      ],
      "metadata": {
        "id": "QZKlVf78sTvI"
      },
      "execution_count": null,
      "outputs": []
    },
    {
      "cell_type": "code",
      "source": [
        "# mutable\n",
        "student['GPA'] = 4.0\n",
        "print(student['Name'], student['GPA'])"
      ],
      "metadata": {
        "id": "bxKIgZ2ysjQn"
      },
      "execution_count": null,
      "outputs": []
    },
    {
      "cell_type": "code",
      "source": [
        "a = {\"a\": \"b\", \"x\": \"y\", \"2\": 3}\n",
        "\n",
        "print(a[\"2\"])"
      ],
      "metadata": {
        "id": "50iInDw5swyx"
      },
      "execution_count": null,
      "outputs": []
    },
    {
      "cell_type": "markdown",
      "metadata": {
        "id": "LMDuOsaArwwT"
      },
      "source": [
        "# Dictionary Methods\n",
        "\n",
        "- Like **str** and **list**, the **dict** type has its own set of built-in functions.\n",
        "- https://docs.python.org/3/library/stdtypes.html#mapping-types-dict\n",
        "- Don't forget our helper functions `dir()` and `help()`\n"
      ]
    },
    {
      "cell_type": "markdown",
      "metadata": {
        "id": "_Nn5SDevrwwT"
      },
      "source": [
        "# Example 2\n",
        "\n",
        "### Dictionary Methods:\n",
        "- Handling `KeyError`\n",
        "- using `get()`  to avoid `KeyError`\n",
        "- `values()`\n",
        "- `keys()`\n",
        "- delete a key with `del`\n"
      ]
    },
    {
      "cell_type": "code",
      "source": [
        "student = { 'Name' : 'Michael', 'GPA': 3.2, 'Ischool' : True }\n",
        "print(student)"
      ],
      "metadata": {
        "id": "uDwCbJVxtGE-"
      },
      "execution_count": null,
      "outputs": []
    },
    {
      "cell_type": "code",
      "source": [
        "# KeyError, keys must match exactly\n",
        "student['gpa']"
      ],
      "metadata": {
        "id": "YL0O05qftb0X"
      },
      "execution_count": null,
      "outputs": []
    },
    {
      "cell_type": "code",
      "source": [
        "try:\n",
        "    print(student['Age'])\n",
        "except KeyError:\n",
        "    print('The key \"Age\" does not exist.')"
      ],
      "metadata": {
        "id": "bTCMl2Jxtoj_"
      },
      "execution_count": null,
      "outputs": []
    },
    {
      "cell_type": "code",
      "source": [
        "list(student.values())\n"
      ],
      "metadata": {
        "id": "EYx2ZOh5txvO"
      },
      "execution_count": null,
      "outputs": []
    },
    {
      "cell_type": "code",
      "source": [
        "list(student.keys())"
      ],
      "metadata": {
        "id": "hHDXKwAyt3ZL"
      },
      "execution_count": null,
      "outputs": []
    },
    {
      "cell_type": "code",
      "source": [
        "for key in student.keys():\n",
        "    print(student[key])"
      ],
      "metadata": {
        "id": "bcBd3Qi-t8m_"
      },
      "execution_count": null,
      "outputs": []
    },
    {
      "cell_type": "code",
      "source": [
        "del student['GPA']\n",
        "print(student)"
      ],
      "metadata": {
        "id": "lwSUxJb8uCq9"
      },
      "execution_count": null,
      "outputs": []
    },
    {
      "cell_type": "markdown",
      "metadata": {
        "id": "B2dDh3v0rwwT"
      },
      "source": [
        "# Exercise 1\n",
        "\n",
        "- What is the output on line 2?\n"
      ]
    },
    {
      "cell_type": "code",
      "execution_count": null,
      "metadata": {
        "id": "Fb15DpzlrwwT"
      },
      "outputs": [],
      "source": [
        "x = { 'a' : 'b', 'b' : 2, '2' : 6}\n",
        "x['b']"
      ]
    },
    {
      "cell_type": "markdown",
      "metadata": {
        "id": "BUUBBXmIrwwT"
      },
      "source": [
        "A. `2`  \n",
        "B.`'2'`  \n",
        "C. `6`   \n",
        "D. `KeyError`  \n"
      ]
    },
    {
      "cell_type": "markdown",
      "metadata": {
        "id": "k8BJEaB0rwwT"
      },
      "source": [
        "# Exercise 2\n",
        "\n",
        "- What is the output on line 2?\n"
      ]
    },
    {
      "cell_type": "code",
      "execution_count": null,
      "metadata": {
        "id": "eD4uhFcsrwwT"
      },
      "outputs": [],
      "source": [
        "x = { 'a' : 'b', 'b' : 2, '2' : 6}\n",
        "print(x.get('d', 6)) # 6 (C)\n",
        "x['d']  # Keyerror (D)"
      ]
    },
    {
      "cell_type": "markdown",
      "metadata": {
        "id": "g6GQUvBZrwwU"
      },
      "source": [
        "A. `2`  \n",
        "B.`'2'`  \n",
        "C. `6`   \n",
        "D. `KeyError`  \n"
      ]
    },
    {
      "cell_type": "markdown",
      "metadata": {
        "id": "_vwjcsKnrwwU"
      },
      "source": [
        "# Dictionaries or Lists?\n",
        "\n",
        "When do you use a Python **list** versus a **dict**?   \n",
        "\n",
        "As a best practice:  \n",
        "\n",
        "- **Lists** are for **multiple versions** or **collections** of the **same type**.   \n",
        "Ex: Student GPA's  \n",
        "`[3.4,2.8,4.0]`\n",
        "- **Dictionaries** are for **single versions** or **records** of **different types**.  \n",
        "Ex: One Student's Name, GPA and Major    \n",
        "`{ 'Name' : 'bob', 'GPA' : 3.4 }`\n"
      ]
    },
    {
      "cell_type": "markdown",
      "metadata": {
        "id": "D8hgoaOyrwwU"
      },
      "source": [
        "# Python's List of Dictionary\n",
        "\n",
        "#### For representing complex data structures…\n",
        "\n"
      ]
    },
    {
      "cell_type": "code",
      "execution_count": null,
      "metadata": {
        "id": "LziU2mU3rwwU"
      },
      "outputs": [],
      "source": [
        "students = [\n",
        "    { 'Name':'bob','GPA':3.4 },\n",
        "    { 'Name':'sue','GPA':2.8 },\n",
        "    { 'Name':'kent','GPA':4.0 }\n",
        "]\n",
        "\n",
        "#chaining\n",
        "students[0]['Name']"
      ]
    },
    {
      "cell_type": "markdown",
      "metadata": {
        "id": "LHL0nd-7rwwU"
      },
      "source": [
        "# Example 3\n",
        "\n",
        "### List of Dictionary:\n",
        "\n",
        "- Using `type()`\n",
        "- chaining methods / operators to access values of complex types\n",
        "- `KeyError` versus `IndexError`\n"
      ]
    },
    {
      "cell_type": "code",
      "source": [
        "students = [\n",
        " { 'Name':'bob','GPA':3.4, 'Ischool' : True },\n",
        " { 'Name':'sue','GPA':2.8, 'Ischool' : True },\n",
        " { 'Name':'kent','GPA':4.0, 'Ischool' : False }\n",
        "]\n",
        "print(students)"
      ],
      "metadata": {
        "id": "Bw91jiq7v1WD"
      },
      "execution_count": null,
      "outputs": []
    },
    {
      "cell_type": "code",
      "source": [
        "type(students)"
      ],
      "metadata": {
        "id": "oB5f6HFqwEW-"
      },
      "execution_count": null,
      "outputs": []
    },
    {
      "cell_type": "code",
      "source": [
        "students[-1]"
      ],
      "metadata": {
        "id": "oeVYltyXwJkk"
      },
      "execution_count": null,
      "outputs": []
    },
    {
      "cell_type": "code",
      "source": [
        "type(students[-1])"
      ],
      "metadata": {
        "id": "G2aPKit-wR5a"
      },
      "execution_count": null,
      "outputs": []
    },
    {
      "cell_type": "code",
      "source": [
        "print(students[-1])"
      ],
      "metadata": {
        "id": "mQGfXjjDwYv7"
      },
      "execution_count": null,
      "outputs": []
    },
    {
      "cell_type": "code",
      "source": [
        "# print names and GPA's of just ischool students:\n",
        "for student in students:    # list\n",
        "    if student['Ischool']:  # == True is not necessary\n",
        "        print(student['Name'], student['GPA'])"
      ],
      "metadata": {
        "id": "yHxEFcp-weYF"
      },
      "execution_count": null,
      "outputs": []
    },
    {
      "cell_type": "code",
      "source": [
        "students = [\n",
        "    {\"Name\": \"bob\", \"age\": 18, \"grades\": [70, 80, 30]},\n",
        "    {\"Name\": \"Tom\", \"age\": 20, \"grades\": [70, 80, 30]},\n",
        "    {\"Name\": \"Jerry\", \"age\": 19, \"grades\": [70, 80, 30]}\n",
        "]\n",
        "\n",
        "for student in students:\n",
        "    print(\"Grades for: \" + student[\"Name\"])\n",
        "    for grade in student[\"grades\"]:\n",
        "        print(grade)\n"
      ],
      "metadata": {
        "id": "J6AQ5a5PwmLj"
      },
      "execution_count": null,
      "outputs": []
    },
    {
      "cell_type": "markdown",
      "metadata": {
        "id": "XsK5fKy4rwwU"
      },
      "source": [
        "# Exercise 3\n",
        "\n",
        "Given the following Python code, match the Python Expression to it's answer:   \n",
        "`s[0]['c']`\n"
      ]
    },
    {
      "cell_type": "code",
      "execution_count": null,
      "metadata": {
        "id": "rU90wKV-rwwU"
      },
      "outputs": [],
      "source": [
        "s = [ { 'a':'bob','b':3.4 },\n",
        "      { 'a':'sue','b':2.8 },\n",
        "      { 'a':'kent','b':4.0 } ]\n",
        "\n",
        "s[0]['c']"
      ]
    },
    {
      "cell_type": "markdown",
      "metadata": {
        "id": "kapLyR8UrwwV"
      },
      "source": [
        "A. `3.4`  \n",
        "B. `KeyError`  \n",
        "C. `IndexError`  \n",
        "D. `'sue'  \n"
      ]
    },
    {
      "cell_type": "markdown",
      "metadata": {
        "id": "OE61UG6VrwwV"
      },
      "source": [
        "# Exercise 4\n",
        "\n",
        "Given the following Python code, match the Python Expression to it's answer\n",
        "\n",
        "`s[3]['a']`"
      ]
    },
    {
      "cell_type": "code",
      "execution_count": null,
      "metadata": {
        "id": "m_k5VtAUrwwV"
      },
      "outputs": [],
      "source": [
        "s = [ { 'a':'bob','b':3.4 },\n",
        "      { 'a':'sue','b':2.8 },\n",
        "      { 'a':'kent','b':4.0 } ]\n",
        "\n",
        "s[0]['b']"
      ]
    },
    {
      "cell_type": "markdown",
      "metadata": {
        "id": "sbf176OerwwV"
      },
      "source": [
        "A. `3.4`  \n",
        "B. `KeyError`  \n",
        "C. `IndexError`  \n",
        "D. `'sue'  \n"
      ]
    },
    {
      "cell_type": "markdown",
      "metadata": {
        "id": "bGJ6Vv7CrwwV"
      },
      "source": [
        "# JSON and Python Dictionaries\n",
        "\n",
        "- JSON (**JavaScript Object Notation**) is a standard, human-readable  data format. It's a popular format for data on the web.\n",
        "- JSON Can be easily converted to lists of dictionaries using Python's **json** module.\n",
        "- Transferring a JSON string to Python is known as **de-serializing**.\n",
        "- Transferring Python to a JSON string is known as **serializing**.\n",
        "- **<font color='red'>This is easy to do in Python but challenging to do in most other languages.</font>**\n"
      ]
    },
    {
      "cell_type": "markdown",
      "metadata": {
        "id": "MmRk9uB1rwwV"
      },
      "source": [
        "\n",
        "\n",
        "# Example 4\n",
        "\n",
        "- Let's look at JSON Data\n",
        "- `import json`\n",
        "- Decode JSON Data\n",
        "- Load into List of Dictionary\n",
        "- Access data to obtain output\n"
      ]
    },
    {
      "cell_type": "code",
      "source": [
        "# Serialize a python object as json\n",
        "import json\n",
        "grades = { 'IS101' : [100,80,70], 'IS205' : [100,80,100] }\n",
        "with open(\"grades.json\", \"w\") as f:\n",
        "    json.dump(grades, f, indent=4) # write grades to file as JSON"
      ],
      "metadata": {
        "id": "nePz1g0xvkLm"
      },
      "execution_count": null,
      "outputs": []
    },
    {
      "cell_type": "code",
      "source": [
        "!cat grades.json"
      ],
      "metadata": {
        "colab": {
          "base_uri": "https://localhost:8080/"
        },
        "id": "0vOOleIqScyU",
        "outputId": "b93a7926-d231-40cf-d162-11ee20a0fec4"
      },
      "execution_count": null,
      "outputs": [
        {
          "output_type": "stream",
          "name": "stdout",
          "text": [
            "cat: grades.json: No such file or directory\n"
          ]
        }
      ]
    },
    {
      "cell_type": "code",
      "source": [
        "# de-serialize some json\n",
        "file = \"stocks.json\"\n",
        "with open(file, \"r\") as f:\n",
        "    stocks = json.load(f)\n",
        "\n",
        "# stocks is a python object\n",
        "# Deserialized from text!\n",
        "for stock in stocks:\n",
        "    print(stock['symbol'])"
      ],
      "metadata": {
        "id": "cflAZXxNSowt"
      },
      "execution_count": null,
      "outputs": []
    },
    {
      "cell_type": "markdown",
      "source": [
        "# Exercise 5\n",
        "\n",
        "Write a program to read in a string of students and gpas in one input statement like this:\n",
        "\n",
        "mike 3.4, noel 3.2, obby 3.5, peta 3.4\n",
        "\n",
        "and write out JSON like this:\n",
        "\n",
        "[\n",
        "\n",
        "    { \"name\" : \"mike\", \"gpa\" : 3.4 },\n",
        "    { \"name\" : \"noel\", \"gpa\" : 3.2 },\n",
        "    { \"name\" : \"obby\", \"gpa\" : 3.5 },\n",
        "    { \"name\" : \"peta\", \"gpa\" : 3.4 }\n",
        "]\n",
        "\n",
        "Suggested approach:\n",
        "\n",
        "1. input text\n",
        "2. for each student split on \",\" from the text\n",
        "3.    split the student into name and gpa\n",
        "4.    parse the gpa so its a float\n",
        "5.    add the name and gpa to the list\n",
        "6. write the list to students.json as JSON"
      ],
      "metadata": {
        "id": "B2KfFuINUhgg"
      }
    },
    {
      "cell_type": "code",
      "source": [
        "#your code\n",
        "import json\n",
        "\n",
        "text = input(\"Enter names and grades: \")\n",
        "students = []\n",
        "for student in text.split(\",\"):\n",
        "    name, grade = student.strip().split()\n",
        "    grade = float(grade)\n",
        "    students.append({\"name\": name, \"grade\": grade})\n",
        "\n",
        "with open(\"students.json\", \"w\") as file:\n",
        "    json.dump(students, file)\n"
      ],
      "metadata": {
        "id": "tIELIOHvTV8H"
      },
      "execution_count": null,
      "outputs": []
    },
    {
      "cell_type": "code",
      "source": [
        "! cat students.json"
      ],
      "metadata": {
        "id": "z6Lm4UkcdyN3"
      },
      "execution_count": null,
      "outputs": []
    }
  ],
  "metadata": {
    "celltoolbar": "Slideshow",
    "kernelspec": {
      "display_name": "Python 3 (ipykernel)",
      "language": "python",
      "name": "python3"
    },
    "language_info": {
      "codemirror_mode": {
        "name": "ipython",
        "version": 3
      },
      "file_extension": ".py",
      "mimetype": "text/x-python",
      "name": "python",
      "nbconvert_exporter": "python",
      "pygments_lexer": "ipython3",
      "version": "3.11.7"
    },
    "toc": {
      "base_numbering": 1,
      "nav_menu": {},
      "number_sections": false,
      "sideBar": false,
      "skip_h1_title": false,
      "title_cell": "Table of Contents",
      "title_sidebar": "Contents",
      "toc_cell": false,
      "toc_position": {},
      "toc_section_display": false,
      "toc_window_display": false
    },
    "varInspector": {
      "cols": {
        "lenName": 16,
        "lenType": 16,
        "lenVar": 40
      },
      "kernels_config": {
        "python": {
          "delete_cmd_postfix": "",
          "delete_cmd_prefix": "del ",
          "library": "var_list.py",
          "varRefreshCmd": "print(var_dic_list())"
        },
        "r": {
          "delete_cmd_postfix": ") ",
          "delete_cmd_prefix": "rm(",
          "library": "var_list.r",
          "varRefreshCmd": "cat(var_dic_list()) "
        }
      },
      "types_to_exclude": [
        "module",
        "function",
        "builtin_function_or_method",
        "instance",
        "_Feature"
      ],
      "window_display": false
    },
    "colab": {
      "provenance": []
    }
  },
  "nbformat": 4,
  "nbformat_minor": 0
}