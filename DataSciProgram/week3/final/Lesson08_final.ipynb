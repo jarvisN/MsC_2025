{
  "cells": [
    {
      "cell_type": "markdown",
      "metadata": {
        "id": "7rcPO9eNh4yd"
      },
      "source": [
        "# Lesson 08 Lists\n"
      ]
    },
    {
      "cell_type": "markdown",
      "metadata": {
        "id": "kVdpO1ZIh4yg"
      },
      "source": [
        "# Connect Activity\n",
        "\n",
        "For `x = [0,1,2,3,4,5]` what is  `x[2:4]` ?  \n",
        "    \n",
        "A. `[2,3]`  \n",
        "B. `[1,2,3]`  \n",
        "C. `[1,2]`  \n",
        "D. `[2,3,4,5]`\n",
        "\n"
      ]
    },
    {
      "cell_type": "code",
      "source": [
        "x = [0,1,2,3,4,5]"
      ],
      "metadata": {
        "id": "OAlQsALpiVh8"
      },
      "execution_count": 1,
      "outputs": []
    },
    {
      "cell_type": "code",
      "source": [
        "x[2:4]"
      ],
      "metadata": {
        "id": "RO4B0vHqiqTW",
        "colab": {
          "base_uri": "https://localhost:8080/"
        },
        "outputId": "33998ca6-9d1b-4e57-a78f-f0f4f2b87896"
      },
      "execution_count": 2,
      "outputs": [
        {
          "output_type": "execute_result",
          "data": {
            "text/plain": [
              "[2, 3]"
            ]
          },
          "metadata": {},
          "execution_count": 2
        }
      ]
    },
    {
      "cell_type": "markdown",
      "metadata": {
        "id": "XspU3_9Sh4yg"
      },
      "source": [
        "# Lists are Mutable Sequence Types\n",
        "\n",
        "- Python **lists** are variables which hold a collection of values. They are actually ***sequences of values***.\n",
        "- Like strings, you can **index lists** and use **slice notation**.\n",
        "- Unlike strings, lists are **mutable** which means *they can be changed*.\n",
        "- In Python, type **list** is a ***sequence type***.\n"
      ]
    },
    {
      "cell_type": "markdown",
      "metadata": {
        "id": "z9C4zVvUh4yg"
      },
      "source": [
        "# Purpose of Lists\n",
        "\n",
        "- Store collections of things. Stocks, grades, emails, words, etc...\n",
        "- Easier to manipulate than a string or file (no need to tokenize/parse).\n",
        "- Stored in the computer's memory, which is faster than files."
      ]
    },
    {
      "cell_type": "markdown",
      "metadata": {
        "id": "i9_Ej0HHh4yh"
      },
      "source": [
        "# Example 1\n",
        "\n",
        "###  List Enumeration and Aggregates\n",
        "- Definite Loops\n",
        "- Indexes / Slices\n",
        "- List mutation\n",
        "- Aggregations\n"
      ]
    },
    {
      "cell_type": "code",
      "source": [
        "quizzes = [5,5,4,2,2,4,5,3]"
      ],
      "metadata": {
        "id": "6RaXEvhvkOD7"
      },
      "execution_count": 3,
      "outputs": []
    },
    {
      "cell_type": "code",
      "source": [
        "# definiate loop\n",
        "for quiz in quizzes:\n",
        "    print(\"Grade:\", quiz)"
      ],
      "metadata": {
        "id": "nB67lmeEksG4",
        "colab": {
          "base_uri": "https://localhost:8080/"
        },
        "outputId": "0993d9fd-8be6-4c2b-da2c-32d9808928af"
      },
      "execution_count": 4,
      "outputs": [
        {
          "output_type": "stream",
          "name": "stdout",
          "text": [
            "Grade: 5\n",
            "Grade: 5\n",
            "Grade: 4\n",
            "Grade: 2\n",
            "Grade: 2\n",
            "Grade: 4\n",
            "Grade: 5\n",
            "Grade: 3\n"
          ]
        }
      ]
    },
    {
      "cell_type": "code",
      "source": [
        "# definite loop with indexes\n",
        "print(len(quizzes))\n",
        "for i in range(len(quizzes)):\n",
        "    print(\"Quiz %d Grade: %d\" %( i, quizzes[i]))"
      ],
      "metadata": {
        "id": "yRLz53e-kv-S",
        "colab": {
          "base_uri": "https://localhost:8080/"
        },
        "outputId": "78f875b6-d467-4ea4-b60b-08815476e54c"
      },
      "execution_count": 5,
      "outputs": [
        {
          "output_type": "stream",
          "name": "stdout",
          "text": [
            "8\n",
            "Quiz 0 Grade: 5\n",
            "Quiz 1 Grade: 5\n",
            "Quiz 2 Grade: 4\n",
            "Quiz 3 Grade: 2\n",
            "Quiz 4 Grade: 2\n",
            "Quiz 5 Grade: 4\n",
            "Quiz 6 Grade: 5\n",
            "Quiz 7 Grade: 3\n"
          ]
        }
      ]
    },
    {
      "cell_type": "code",
      "source": [
        "# indexes\n",
        "print(quizzes[0]) # first\n",
        "print(quizzes[-1]) # last"
      ],
      "metadata": {
        "id": "Y6Ki54ZvXy-w",
        "colab": {
          "base_uri": "https://localhost:8080/"
        },
        "outputId": "0d3d8437-90ec-41c3-e255-f6f061222739"
      },
      "execution_count": 6,
      "outputs": [
        {
          "output_type": "stream",
          "name": "stdout",
          "text": [
            "5\n",
            "3\n"
          ]
        }
      ]
    },
    {
      "cell_type": "code",
      "source": [
        "# indexes\n",
        "\n",
        "print(quizzes)\n",
        "# mutable\n",
        "quizzes[1] = 0\n",
        "print(quizzes)\n",
        "\n",
        "#slices\n",
        "print(quizzes[0:3])\n",
        "print(quizzes[3:])"
      ],
      "metadata": {
        "id": "SkQ774l-k8lD",
        "colab": {
          "base_uri": "https://localhost:8080/"
        },
        "outputId": "d9a74b11-7e96-4bf1-cb0c-519a25414262"
      },
      "execution_count": 7,
      "outputs": [
        {
          "output_type": "stream",
          "name": "stdout",
          "text": [
            "[5, 5, 4, 2, 2, 4, 5, 3]\n",
            "[5, 0, 4, 2, 2, 4, 5, 3]\n",
            "[5, 0, 4]\n",
            "[2, 2, 4, 5, 3]\n"
          ]
        }
      ]
    },
    {
      "cell_type": "code",
      "source": [
        "# aggregations\n",
        "print(\"Count\",len(quizzes))\n",
        "print(\"Total\", sum(quizzes))\n",
        "print(\"Average\", sum(quizzes)/len(quizzes))"
      ],
      "metadata": {
        "id": "s-BbZ4YplLGu",
        "colab": {
          "base_uri": "https://localhost:8080/"
        },
        "outputId": "089c81ec-f04b-41a6-dc41-c0899dc37bf3"
      },
      "execution_count": 10,
      "outputs": [
        {
          "output_type": "stream",
          "name": "stdout",
          "text": [
            "Count 8\n",
            "Total 25\n",
            "Average 3.125\n"
          ]
        }
      ]
    },
    {
      "cell_type": "code",
      "source": [
        "grades = [\"A\", \"B+\", \"A\", \"C+\", \"B-\"]\n",
        "grades[:2]"
      ],
      "metadata": {
        "id": "P7U5ibc6lURc",
        "colab": {
          "base_uri": "https://localhost:8080/"
        },
        "outputId": "1a5f7731-4df0-46ce-e628-6e4049506dbc"
      },
      "execution_count": 11,
      "outputs": [
        {
          "output_type": "execute_result",
          "data": {
            "text/plain": [
              "['A', 'B+']"
            ]
          },
          "metadata": {},
          "execution_count": 11
        }
      ]
    },
    {
      "cell_type": "code",
      "source": [
        "print(grades)"
      ],
      "metadata": {
        "id": "Y4DsaGpIlfVP",
        "colab": {
          "base_uri": "https://localhost:8080/"
        },
        "outputId": "bd39fd90-acc9-4b1c-d3bc-87dbc45ba35d"
      },
      "execution_count": 12,
      "outputs": [
        {
          "output_type": "stream",
          "name": "stdout",
          "text": [
            "['A', 'B+', 'A', 'C+', 'B-']\n"
          ]
        }
      ]
    },
    {
      "cell_type": "code",
      "source": [
        "grades.append('')"
      ],
      "metadata": {
        "id": "H3FWAUF4lrbc"
      },
      "execution_count": 13,
      "outputs": []
    },
    {
      "cell_type": "code",
      "source": [
        "print(grades)"
      ],
      "metadata": {
        "id": "Vk9MKlOmlxb1",
        "colab": {
          "base_uri": "https://localhost:8080/"
        },
        "outputId": "8399be94-28d9-4f08-9feb-d666acd89e23"
      },
      "execution_count": 14,
      "outputs": [
        {
          "output_type": "stream",
          "name": "stdout",
          "text": [
            "['A', 'B+', 'A', 'C+', 'B-', '']\n"
          ]
        }
      ]
    },
    {
      "cell_type": "markdown",
      "metadata": {
        "id": "Z_R4ulX0h4yh"
      },
      "source": [
        "# Exercise 1\n",
        "\n",
        "- What is the value of the expression on line 2?\n",
        "    \n"
      ]
    },
    {
      "cell_type": "code",
      "execution_count": 9,
      "metadata": {
        "id": "jpic2ZE8h4yh",
        "colab": {
          "base_uri": "https://localhost:8080/"
        },
        "outputId": "b0e5498b-2ec1-465f-9a2d-db30b3c11e2b"
      },
      "outputs": [
        {
          "output_type": "execute_result",
          "data": {
            "text/plain": [
              "['A', 'B+']"
            ]
          },
          "metadata": {},
          "execution_count": 9
        }
      ],
      "source": [
        "grades = ['A', 'B+','A','C+','B-']\n",
        "grades[:2]"
      ]
    },
    {
      "cell_type": "markdown",
      "metadata": {
        "id": "vLkv7ZCCh4yh"
      },
      "source": [
        "A. `['A','B+','A']`  \n",
        "B. `['A','B+']`  \n",
        "C. `['B+','A']`  \n",
        "D. `['A']`  \n"
      ]
    },
    {
      "cell_type": "markdown",
      "source": [
        "## Answer : B"
      ],
      "metadata": {
        "id": "LRgkSeVTNPHI"
      }
    },
    {
      "cell_type": "markdown",
      "metadata": {
        "id": "LAnNVCcah4yh"
      },
      "source": [
        "# List Operations\n",
        "\n",
        "Use the `+` operator to append combine two lists.\n",
        "\n",
        "Note this does appends them - it does not remove duplicates or sort the list."
      ]
    },
    {
      "cell_type": "code",
      "execution_count": 8,
      "metadata": {
        "id": "u0Fr1DElh4yh",
        "colab": {
          "base_uri": "https://localhost:8080/"
        },
        "outputId": "ae978ddb-259f-44de-b01d-6df4aea550d6"
      },
      "outputs": [
        {
          "output_type": "execute_result",
          "data": {
            "text/plain": [
              "[1, 2, 3, 4, 5, 3]"
            ]
          },
          "metadata": {},
          "execution_count": 8
        }
      ],
      "source": [
        "#List operators\n",
        "x = [1,2,3]\n",
        "y = [4,5,3]\n",
        "z = x+y\n",
        "z"
      ]
    },
    {
      "cell_type": "markdown",
      "metadata": {
        "id": "tqSwuSWbh4yi"
      },
      "source": [
        "# Built-In List Functions\n",
        "\n",
        "- Like strings, Python lists have an assortment of built in functions for ***mutable sequence types***:\n",
        "\n",
        "- For your reference:\n",
        "https://docs.python.org/3/library/stdtypes.html?highlight=list#mutable-sequence-types\n",
        "\n",
        "- Use your friends `dir()` and `help()`, too!\n"
      ]
    },
    {
      "cell_type": "markdown",
      "metadata": {
        "id": "j14Elm_bh4yi"
      },
      "source": [
        "# Example 2\n",
        "\n",
        "### List Basics\n",
        "- Empty Lists\n",
        "- List Item Management\n",
        "- Methods: append, remove, index\n"
      ]
    },
    {
      "cell_type": "code",
      "source": [
        "colors = [] #empty list"
      ],
      "metadata": {
        "id": "pL_c88umm-Rf"
      },
      "execution_count": 15,
      "outputs": []
    },
    {
      "cell_type": "code",
      "source": [
        "type(colors)"
      ],
      "metadata": {
        "id": "YBIJ80renTn4",
        "colab": {
          "base_uri": "https://localhost:8080/"
        },
        "outputId": "f942bb22-5ba7-4598-dde9-c1f7a768fde8"
      },
      "execution_count": 16,
      "outputs": [
        {
          "output_type": "execute_result",
          "data": {
            "text/plain": [
              "list"
            ]
          },
          "metadata": {},
          "execution_count": 16
        }
      ]
    },
    {
      "cell_type": "code",
      "source": [
        "dir(colors)"
      ],
      "metadata": {
        "id": "rsHG1de5ncDb",
        "colab": {
          "base_uri": "https://localhost:8080/"
        },
        "outputId": "f3eaf239-d9ba-475d-b5c1-28ecfebf6b6d"
      },
      "execution_count": 17,
      "outputs": [
        {
          "output_type": "execute_result",
          "data": {
            "text/plain": [
              "['__add__',\n",
              " '__class__',\n",
              " '__class_getitem__',\n",
              " '__contains__',\n",
              " '__delattr__',\n",
              " '__delitem__',\n",
              " '__dir__',\n",
              " '__doc__',\n",
              " '__eq__',\n",
              " '__format__',\n",
              " '__ge__',\n",
              " '__getattribute__',\n",
              " '__getitem__',\n",
              " '__getstate__',\n",
              " '__gt__',\n",
              " '__hash__',\n",
              " '__iadd__',\n",
              " '__imul__',\n",
              " '__init__',\n",
              " '__init_subclass__',\n",
              " '__iter__',\n",
              " '__le__',\n",
              " '__len__',\n",
              " '__lt__',\n",
              " '__mul__',\n",
              " '__ne__',\n",
              " '__new__',\n",
              " '__reduce__',\n",
              " '__reduce_ex__',\n",
              " '__repr__',\n",
              " '__reversed__',\n",
              " '__rmul__',\n",
              " '__setattr__',\n",
              " '__setitem__',\n",
              " '__sizeof__',\n",
              " '__str__',\n",
              " '__subclasshook__',\n",
              " 'append',\n",
              " 'clear',\n",
              " 'copy',\n",
              " 'count',\n",
              " 'extend',\n",
              " 'index',\n",
              " 'insert',\n",
              " 'pop',\n",
              " 'remove',\n",
              " 'reverse',\n",
              " 'sort']"
            ]
          },
          "metadata": {},
          "execution_count": 17
        }
      ]
    },
    {
      "cell_type": "code",
      "source": [
        "help(colors.index)"
      ],
      "metadata": {
        "id": "P7WyZlnvno2c",
        "colab": {
          "base_uri": "https://localhost:8080/"
        },
        "outputId": "4b215bc7-688e-41e6-d00c-e36abf5b365f"
      },
      "execution_count": 18,
      "outputs": [
        {
          "output_type": "stream",
          "name": "stdout",
          "text": [
            "Help on built-in function index:\n",
            "\n",
            "index(value, start=0, stop=9223372036854775807, /) method of builtins.list instance\n",
            "    Return first index of value.\n",
            "    \n",
            "    Raises ValueError if the value is not present.\n",
            "\n"
          ]
        }
      ]
    },
    {
      "cell_type": "code",
      "source": [
        "colors.append(\"orange\")\n",
        "colors.append(\"blue\")\n",
        "colors.append(\"green\")\n",
        "colors.append(\"white\")\n",
        "print(colors)\n",
        "print(len(colors))"
      ],
      "metadata": {
        "id": "VrFHeH7WnwJn",
        "colab": {
          "base_uri": "https://localhost:8080/"
        },
        "outputId": "ab9ea342-f9b1-4bf1-e981-cb69c29cb518"
      },
      "execution_count": 19,
      "outputs": [
        {
          "output_type": "stream",
          "name": "stdout",
          "text": [
            "['orange', 'blue', 'green', 'white']\n",
            "4\n"
          ]
        }
      ]
    },
    {
      "cell_type": "code",
      "source": [
        "colors.remove(\"green\")\n",
        "print(colors)"
      ],
      "metadata": {
        "id": "m6Nf0C6-n3X3",
        "colab": {
          "base_uri": "https://localhost:8080/"
        },
        "outputId": "3faf11d7-a3ad-4e7f-e9b9-05ea6c859f14"
      },
      "execution_count": 20,
      "outputs": [
        {
          "output_type": "stream",
          "name": "stdout",
          "text": [
            "['orange', 'blue', 'white']\n"
          ]
        }
      ]
    },
    {
      "cell_type": "code",
      "source": [
        "#lists are mutable\n",
        "colors.reverse()\n",
        "colors"
      ],
      "metadata": {
        "id": "EZvKzFo_n-Kv",
        "colab": {
          "base_uri": "https://localhost:8080/"
        },
        "outputId": "44c6a9ef-2ec1-4216-c275-78d87514ac19"
      },
      "execution_count": 21,
      "outputs": [
        {
          "output_type": "execute_result",
          "data": {
            "text/plain": [
              "['white', 'blue', 'orange']"
            ]
          },
          "metadata": {},
          "execution_count": 21
        }
      ]
    },
    {
      "cell_type": "code",
      "source": [
        "index = colors.index('blue')\n",
        "print(index)"
      ],
      "metadata": {
        "id": "70QaMjpVoEmt",
        "colab": {
          "base_uri": "https://localhost:8080/"
        },
        "outputId": "c4b5bb4c-06d1-4f1e-82b3-28328aa24424"
      },
      "execution_count": 22,
      "outputs": [
        {
          "output_type": "stream",
          "name": "stdout",
          "text": [
            "1\n"
          ]
        }
      ]
    },
    {
      "cell_type": "code",
      "source": [
        "colors.index('brown') # ValueError"
      ],
      "metadata": {
        "id": "ssKQzrtgoMBN",
        "colab": {
          "base_uri": "https://localhost:8080/",
          "height": 144
        },
        "outputId": "9d77c7fa-faa6-420d-d039-1e3857a20963"
      },
      "execution_count": 23,
      "outputs": [
        {
          "output_type": "error",
          "ename": "ValueError",
          "evalue": "'brown' is not in list",
          "traceback": [
            "\u001b[0;31m---------------------------------------------------------------------------\u001b[0m",
            "\u001b[0;31mValueError\u001b[0m                                Traceback (most recent call last)",
            "\u001b[0;32m/tmp/ipython-input-23-1407397811.py\u001b[0m in \u001b[0;36m<cell line: 0>\u001b[0;34m()\u001b[0m\n\u001b[0;32m----> 1\u001b[0;31m \u001b[0mcolors\u001b[0m\u001b[0;34m.\u001b[0m\u001b[0mindex\u001b[0m\u001b[0;34m(\u001b[0m\u001b[0;34m'brown'\u001b[0m\u001b[0;34m)\u001b[0m \u001b[0;31m# ValueError\u001b[0m\u001b[0;34m\u001b[0m\u001b[0;34m\u001b[0m\u001b[0m\n\u001b[0m",
            "\u001b[0;31mValueError\u001b[0m: 'brown' is not in list"
          ]
        }
      ]
    },
    {
      "cell_type": "markdown",
      "metadata": {
        "id": "misXnpxPh4yi"
      },
      "source": [
        "# Exercise 2\n",
        "\n",
        "That is the value of `items` printed on line 6?\n"
      ]
    },
    {
      "cell_type": "code",
      "execution_count": null,
      "metadata": {
        "id": "j-e8L8Smh4yi"
      },
      "outputs": [],
      "source": [
        "items = ['a','b','c','d']\n",
        "items.append('w')\n",
        "items.remove('c')\n",
        "items.insert(0,'x')\n",
        "items.pop(1)\n",
        "print(items)"
      ]
    },
    {
      "cell_type": "markdown",
      "metadata": {
        "id": "V60DUBrRh4yi"
      },
      "source": [
        "A. `['a','b','c','d', 'w']`       \n",
        "B. `['a','b','d', 'w']`  \n",
        "C. `['x', 'b', 'd', 'w']`   \n",
        "D. `['i','dont','know']`   \n",
        "\n"
      ]
    },
    {
      "cell_type": "markdown",
      "source": [
        "## Answer : C"
      ],
      "metadata": {
        "id": "97kpWgHwONsP"
      }
    },
    {
      "cell_type": "markdown",
      "source": [
        "# Exercise 3\n",
        "Write a controlled loop to input a string until \"quit\" is entered. add each string to a list only when the string is not already in the list print the list each time in the loop."
      ],
      "metadata": {
        "id": "4JMwJdST8Fph"
      }
    },
    {
      "cell_type": "code",
      "source": [
        "# your code\n",
        "save = []\n",
        "\n",
        "while True :\n",
        "  data = input(\"enter string : \")\n",
        "  if data == 'quit':\n",
        "    break\n",
        "  if data not in save:\n",
        "    save.append(data)\n",
        "    print(f\"{data} : added to the list\")\n",
        "  else:\n",
        "    print(\"already in list\")\n",
        "print(f\"show data in list : {save}\")"
      ],
      "metadata": {
        "id": "k1os6qWJ8IH2",
        "colab": {
          "base_uri": "https://localhost:8080/"
        },
        "outputId": "bec70ff4-552c-4c58-ab46-04759dbb626f"
      },
      "execution_count": 32,
      "outputs": [
        {
          "output_type": "stream",
          "name": "stdout",
          "text": [
            "enter string : a\n",
            "a : added to the list\n",
            "enter string : a\n",
            "already in list\n",
            "enter string : a\n",
            "already in list\n",
            "enter string : b\n",
            "b : added to the list\n",
            "enter string : c\n",
            "c : added to the list\n",
            "enter string : quit\n",
            "show data in list : ['a', 'b', 'c']\n"
          ]
        }
      ]
    },
    {
      "cell_type": "code",
      "source": [],
      "metadata": {
        "id": "uaQD35XzQWo7"
      },
      "execution_count": null,
      "outputs": []
    }
  ],
  "metadata": {
    "celltoolbar": "Slideshow",
    "kernelspec": {
      "display_name": "Python 3 (ipykernel)",
      "language": "python",
      "name": "python3"
    },
    "language_info": {
      "codemirror_mode": {
        "name": "ipython",
        "version": 3
      },
      "file_extension": ".py",
      "mimetype": "text/x-python",
      "name": "python",
      "nbconvert_exporter": "python",
      "pygments_lexer": "ipython3",
      "version": "3.11.7"
    },
    "toc": {
      "base_numbering": 1,
      "nav_menu": {},
      "number_sections": false,
      "sideBar": false,
      "skip_h1_title": false,
      "title_cell": "Table of Contents",
      "title_sidebar": "Contents",
      "toc_cell": false,
      "toc_position": {},
      "toc_section_display": false,
      "toc_window_display": false
    },
    "varInspector": {
      "cols": {
        "lenName": 16,
        "lenType": 16,
        "lenVar": 40
      },
      "kernels_config": {
        "python": {
          "delete_cmd_postfix": "",
          "delete_cmd_prefix": "del ",
          "library": "var_list.py",
          "varRefreshCmd": "print(var_dic_list())"
        },
        "r": {
          "delete_cmd_postfix": ") ",
          "delete_cmd_prefix": "rm(",
          "library": "var_list.r",
          "varRefreshCmd": "cat(var_dic_list()) "
        }
      },
      "types_to_exclude": [
        "module",
        "function",
        "builtin_function_or_method",
        "instance",
        "_Feature"
      ],
      "window_display": false
    },
    "colab": {
      "provenance": []
    }
  },
  "nbformat": 4,
  "nbformat_minor": 0
}