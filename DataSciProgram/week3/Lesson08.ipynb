{
  "cells": [
    {
      "cell_type": "markdown",
      "metadata": {
        "id": "7rcPO9eNh4yd"
      },
      "source": [
        "# Lesson 08 Lists\n"
      ]
    },
    {
      "cell_type": "markdown",
      "metadata": {
        "id": "kVdpO1ZIh4yg"
      },
      "source": [
        "# Connect Activity\n",
        "\n",
        "For `x = [0,1,2,3,4,5]` what is  `x[2:4]` ?  \n",
        "    \n",
        "A. `[2,3]`  \n",
        "B. `[1,2,3]`  \n",
        "C. `[1,2]`  \n",
        "D. `[2,3,4,5]`\n",
        "\n"
      ]
    },
    {
      "cell_type": "code",
      "source": [
        "x = [0,1,2,3,4,5]"
      ],
      "metadata": {
        "id": "OAlQsALpiVh8"
      },
      "execution_count": null,
      "outputs": []
    },
    {
      "cell_type": "code",
      "source": [
        "x[2:4]"
      ],
      "metadata": {
        "id": "RO4B0vHqiqTW"
      },
      "execution_count": null,
      "outputs": []
    },
    {
      "cell_type": "markdown",
      "metadata": {
        "id": "XspU3_9Sh4yg"
      },
      "source": [
        "# Lists are Mutable Sequence Types\n",
        "\n",
        "- Python **lists** are variables which hold a collection of values. They are actually ***sequences of values***.\n",
        "- Like strings, you can **index lists** and use **slice notation**.\n",
        "- Unlike strings, lists are **mutable** which means *they can be changed*.\n",
        "- In Python, type **list** is a ***sequence type***.\n"
      ]
    },
    {
      "cell_type": "markdown",
      "metadata": {
        "id": "z9C4zVvUh4yg"
      },
      "source": [
        "# Purpose of Lists\n",
        "\n",
        "- Store collections of things. Stocks, grades, emails, words, etc...\n",
        "- Easier to manipulate than a string or file (no need to tokenize/parse).\n",
        "- Stored in the computer's memory, which is faster than files."
      ]
    },
    {
      "cell_type": "markdown",
      "metadata": {
        "id": "i9_Ej0HHh4yh"
      },
      "source": [
        "# Example 1\n",
        "\n",
        "###  List Enumeration and Aggregates\n",
        "- Definite Loops\n",
        "- Indexes / Slices\n",
        "- List mutation\n",
        "- Aggregations\n"
      ]
    },
    {
      "cell_type": "code",
      "source": [
        "quizzes = [5,5,4,2,2,4,5,3]"
      ],
      "metadata": {
        "id": "6RaXEvhvkOD7"
      },
      "execution_count": null,
      "outputs": []
    },
    {
      "cell_type": "code",
      "source": [
        "# definiate loop\n",
        "for quiz in quizzes:\n",
        "    print(\"Grade:\", quiz)"
      ],
      "metadata": {
        "id": "nB67lmeEksG4"
      },
      "execution_count": null,
      "outputs": []
    },
    {
      "cell_type": "code",
      "source": [
        "# definite loop with indexes\n",
        "print(len(quizzes))\n",
        "for i in range(len(quizzes)):\n",
        "    print(\"Quiz %d Grade: %d\" %( i, quizzes[i]))"
      ],
      "metadata": {
        "id": "yRLz53e-kv-S"
      },
      "execution_count": null,
      "outputs": []
    },
    {
      "cell_type": "code",
      "source": [
        "# indexes\n",
        "print(quizzes[0]) # first\n",
        "print(quizzes[-1]) # last"
      ],
      "metadata": {
        "id": "Y6Ki54ZvXy-w"
      },
      "execution_count": null,
      "outputs": []
    },
    {
      "cell_type": "code",
      "source": [
        "# indexes\n",
        "\n",
        "print(quizzes)\n",
        "# mutable\n",
        "quizzes[1] = 0\n",
        "print(quizzes)\n",
        "\n",
        "#slices\n",
        "print(quizzes[0:3])\n",
        "print(quizzes[3:])"
      ],
      "metadata": {
        "id": "SkQ774l-k8lD"
      },
      "execution_count": null,
      "outputs": []
    },
    {
      "cell_type": "code",
      "source": [
        "# aggregations\n",
        "print(\"Count\",len(quizzes))\n",
        "print(\"Total\", sum(quizzes))\n",
        "print(\"Average\", sum(quizzes)/len(quizzes))"
      ],
      "metadata": {
        "id": "s-BbZ4YplLGu"
      },
      "execution_count": null,
      "outputs": []
    },
    {
      "cell_type": "code",
      "source": [
        "grades = [\"A\", \"B+\", \"A\", \"C+\", \"B-\"]\n",
        "grades[:2]"
      ],
      "metadata": {
        "id": "P7U5ibc6lURc"
      },
      "execution_count": null,
      "outputs": []
    },
    {
      "cell_type": "code",
      "source": [
        "print(grades)"
      ],
      "metadata": {
        "id": "Y4DsaGpIlfVP"
      },
      "execution_count": null,
      "outputs": []
    },
    {
      "cell_type": "code",
      "source": [
        "grades.append('')"
      ],
      "metadata": {
        "id": "H3FWAUF4lrbc"
      },
      "execution_count": null,
      "outputs": []
    },
    {
      "cell_type": "code",
      "source": [
        "print(grades)"
      ],
      "metadata": {
        "id": "Vk9MKlOmlxb1"
      },
      "execution_count": null,
      "outputs": []
    },
    {
      "cell_type": "markdown",
      "metadata": {
        "id": "Z_R4ulX0h4yh"
      },
      "source": [
        "# Exercise 1\n",
        "\n",
        "- What is the value of the expression on line 2?\n",
        "    \n"
      ]
    },
    {
      "cell_type": "code",
      "execution_count": null,
      "metadata": {
        "id": "jpic2ZE8h4yh"
      },
      "outputs": [],
      "source": [
        "grades = ['A', 'B+','A','C+','B-']\n",
        "grades[:2]"
      ]
    },
    {
      "cell_type": "markdown",
      "metadata": {
        "id": "vLkv7ZCCh4yh"
      },
      "source": [
        "A. `['A','B+','A']`  \n",
        "B. `['A','B+']`  \n",
        "C. `['B+','A']`  \n",
        "D. `['A']`  \n"
      ]
    },
    {
      "cell_type": "markdown",
      "metadata": {
        "id": "LAnNVCcah4yh"
      },
      "source": [
        "# List Operations\n",
        "\n",
        "Use the `+` operator to append combine two lists.\n",
        "\n",
        "Note this does appends them - it does not remove duplicates or sort the list."
      ]
    },
    {
      "cell_type": "code",
      "execution_count": null,
      "metadata": {
        "id": "u0Fr1DElh4yh"
      },
      "outputs": [],
      "source": [
        "#List operators\n",
        "x = [1,2,3]\n",
        "y = [4,5,3]\n",
        "z = x+y\n",
        "z"
      ]
    },
    {
      "cell_type": "markdown",
      "metadata": {
        "id": "tqSwuSWbh4yi"
      },
      "source": [
        "# Built-In List Functions\n",
        "\n",
        "- Like strings, Python lists have an assortment of built in functions for ***mutable sequence types***:\n",
        "\n",
        "- For your reference:\n",
        "https://docs.python.org/3/library/stdtypes.html?highlight=list#mutable-sequence-types\n",
        "\n",
        "- Use your friends `dir()` and `help()`, too!\n"
      ]
    },
    {
      "cell_type": "markdown",
      "metadata": {
        "id": "j14Elm_bh4yi"
      },
      "source": [
        "# Example 2\n",
        "\n",
        "### List Basics\n",
        "- Empty Lists\n",
        "- List Item Management\n",
        "- Methods: append, remove, index\n"
      ]
    },
    {
      "cell_type": "code",
      "source": [
        "colors = [] #empty list"
      ],
      "metadata": {
        "id": "pL_c88umm-Rf"
      },
      "execution_count": null,
      "outputs": []
    },
    {
      "cell_type": "code",
      "source": [
        "type(colors)"
      ],
      "metadata": {
        "id": "YBIJ80renTn4"
      },
      "execution_count": null,
      "outputs": []
    },
    {
      "cell_type": "code",
      "source": [
        "dir(colors)"
      ],
      "metadata": {
        "id": "rsHG1de5ncDb"
      },
      "execution_count": null,
      "outputs": []
    },
    {
      "cell_type": "code",
      "source": [
        "help(colors.index)"
      ],
      "metadata": {
        "id": "P7WyZlnvno2c"
      },
      "execution_count": null,
      "outputs": []
    },
    {
      "cell_type": "code",
      "source": [
        "colors.append(\"orange\")\n",
        "colors.append(\"blue\")\n",
        "colors.append(\"green\")\n",
        "colors.append(\"white\")\n",
        "print(colors)\n",
        "print(len(colors))"
      ],
      "metadata": {
        "id": "VrFHeH7WnwJn"
      },
      "execution_count": null,
      "outputs": []
    },
    {
      "cell_type": "code",
      "source": [
        "colors.remove(\"green\")\n",
        "print(colors)"
      ],
      "metadata": {
        "id": "m6Nf0C6-n3X3"
      },
      "execution_count": null,
      "outputs": []
    },
    {
      "cell_type": "code",
      "source": [
        "#lists are mutable\n",
        "colors.reverse()\n",
        "colors"
      ],
      "metadata": {
        "id": "EZvKzFo_n-Kv"
      },
      "execution_count": null,
      "outputs": []
    },
    {
      "cell_type": "code",
      "source": [
        "index = colors.index('blue')\n",
        "print(index)"
      ],
      "metadata": {
        "id": "70QaMjpVoEmt"
      },
      "execution_count": null,
      "outputs": []
    },
    {
      "cell_type": "code",
      "source": [
        "colors.index('brown') # ValueError"
      ],
      "metadata": {
        "id": "ssKQzrtgoMBN"
      },
      "execution_count": null,
      "outputs": []
    },
    {
      "cell_type": "markdown",
      "metadata": {
        "id": "misXnpxPh4yi"
      },
      "source": [
        "# Exercise 2\n",
        "\n",
        "That is the value of `items` printed on line 6?\n"
      ]
    },
    {
      "cell_type": "code",
      "execution_count": null,
      "metadata": {
        "id": "j-e8L8Smh4yi"
      },
      "outputs": [],
      "source": [
        "items = ['a','b','c','d']\n",
        "items.append('w')\n",
        "items.remove('c')\n",
        "items.insert(0,'x')\n",
        "items.pop(1)\n",
        "print(items)"
      ]
    },
    {
      "cell_type": "markdown",
      "metadata": {
        "id": "V60DUBrRh4yi"
      },
      "source": [
        "A. `['a','b','c','d', 'w']`       \n",
        "B. `['a','b','d', 'w']`  \n",
        "C. `['x', 'b', 'd', 'w']`   \n",
        "D. `['i','dont','know']`   \n",
        "\n"
      ]
    },
    {
      "cell_type": "markdown",
      "source": [
        "# Exercise 3\n",
        "Write a controlled loop to input a string until \"quit\" is entered. add each string to a list only when the string is not already in the list print the list each time in the loop."
      ],
      "metadata": {
        "id": "4JMwJdST8Fph"
      }
    },
    {
      "cell_type": "code",
      "source": [
        "# your code\n"
      ],
      "metadata": {
        "id": "k1os6qWJ8IH2"
      },
      "execution_count": null,
      "outputs": []
    }
  ],
  "metadata": {
    "celltoolbar": "Slideshow",
    "kernelspec": {
      "display_name": "Python 3 (ipykernel)",
      "language": "python",
      "name": "python3"
    },
    "language_info": {
      "codemirror_mode": {
        "name": "ipython",
        "version": 3
      },
      "file_extension": ".py",
      "mimetype": "text/x-python",
      "name": "python",
      "nbconvert_exporter": "python",
      "pygments_lexer": "ipython3",
      "version": "3.11.7"
    },
    "toc": {
      "base_numbering": 1,
      "nav_menu": {},
      "number_sections": false,
      "sideBar": false,
      "skip_h1_title": false,
      "title_cell": "Table of Contents",
      "title_sidebar": "Contents",
      "toc_cell": false,
      "toc_position": {},
      "toc_section_display": false,
      "toc_window_display": false
    },
    "varInspector": {
      "cols": {
        "lenName": 16,
        "lenType": 16,
        "lenVar": 40
      },
      "kernels_config": {
        "python": {
          "delete_cmd_postfix": "",
          "delete_cmd_prefix": "del ",
          "library": "var_list.py",
          "varRefreshCmd": "print(var_dic_list())"
        },
        "r": {
          "delete_cmd_postfix": ") ",
          "delete_cmd_prefix": "rm(",
          "library": "var_list.r",
          "varRefreshCmd": "cat(var_dic_list()) "
        }
      },
      "types_to_exclude": [
        "module",
        "function",
        "builtin_function_or_method",
        "instance",
        "_Feature"
      ],
      "window_display": false
    },
    "colab": {
      "provenance": []
    }
  },
  "nbformat": 4,
  "nbformat_minor": 0
}