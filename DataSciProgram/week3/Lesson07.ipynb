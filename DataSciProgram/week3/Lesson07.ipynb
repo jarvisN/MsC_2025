{
  "cells": [
    {
      "cell_type": "markdown",
      "metadata": {
        "id": "z3k8I4w9zxRm"
      },
      "source": [
        "# Lesson 07 Files\n",
        "\n"
      ]
    },
    {
      "cell_type": "code",
      "source": [
        "from google.colab import drive\n",
        "drive.mount('/content/drive')"
      ],
      "metadata": {
        "id": "O2IDOnepE6es"
      },
      "execution_count": null,
      "outputs": []
    },
    {
      "cell_type": "markdown",
      "metadata": {
        "id": "08BOG5bPzxRs"
      },
      "source": [
        "# Files == Persistence\n",
        "\n",
        "- Files add a **Persistence Layer** to our computing environment where we can store our data  **after the program completes**.\n",
        "- **Think: Saving a game's progress or saving your work!**\n",
        "- When our program **Stores** data, we open the file for **writing**.\n",
        "- When our program **Reads** data, we open the file for **reading**.\n",
        "- To read or write a file we must first **open** it, which gives us a special variable called a **file handle**.\n",
        "- We then use the **file handle** to read or write from the file.\n",
        "- The **read()** function reads from the **write()** function writes to the file through the file handle."
      ]
    },
    {
      "cell_type": "markdown",
      "metadata": {
        "id": "0HHMYValzxRs"
      },
      "source": [
        "# Reading From a File\n",
        "\n",
        "Two approaches... that's it!"
      ]
    },
    {
      "cell_type": "code",
      "execution_count": null,
      "metadata": {
        "id": "T4iXNS5xzxRs"
      },
      "outputs": [],
      "source": [
        "# all at once\n",
        "with open(filename, 'r') as handle:\n",
        "    contents = handle.read()\n",
        "\n",
        "# a line at a time\n",
        "with open(filename, 'r') as handle:\n",
        "    for line in handle.readlines():\n",
        "        do_something_with_line"
      ]
    },
    {
      "cell_type": "markdown",
      "metadata": {
        "id": "TUB4o9MGzxRt"
      },
      "source": [
        "# Writing a To File\n"
      ]
    },
    {
      "cell_type": "code",
      "execution_count": null,
      "metadata": {
        "id": "R2hbiAZ3zxRt"
      },
      "outputs": [],
      "source": [
        "# write mode\n",
        "with open(filename, 'w') as handle:\n",
        "    handle.write(something)\n",
        "\n",
        "# append mode\n",
        "with open(filename, 'a') as handle:\n",
        "    handle.write(something)"
      ]
    },
    {
      "cell_type": "markdown",
      "metadata": {
        "id": "msxl6fdGzxRt"
      },
      "source": [
        "# Example 1\n",
        "\n",
        "### Let’s Write two programs.\n",
        "- Save a text message to a file.\n",
        "- Retrieve the text message from the file.\n"
      ]
    },
    {
      "cell_type": "markdown",
      "source": [
        "A simple example of reading and writing to a file."
      ],
      "metadata": {
        "id": "HoP2_pm207B0"
      }
    },
    {
      "cell_type": "code",
      "source": [
        "filename = \"Message.txt\""
      ],
      "metadata": {
        "id": "UknJOOSH09eF"
      },
      "execution_count": null,
      "outputs": []
    },
    {
      "cell_type": "code",
      "source": [
        "# Let's write to the file!\n",
        "message = input(\"Type a message and I'll write it to %s:\" % filename)\n",
        "with open (filename,'w') as file_out:\n",
        "    file_out.write(message)\n",
        "\n",
        "print(\"Done!\")"
      ],
      "metadata": {
        "id": "5OPqC1Xf1Wyr"
      },
      "execution_count": null,
      "outputs": []
    },
    {
      "cell_type": "code",
      "source": [
        "with open(filename, 'r') as file_in:\n",
        "    message = file_in.read()\n",
        "\n",
        "print(\"Here's the message in %s:  %s\" % (filename, message))"
      ],
      "metadata": {
        "id": "K8AQTqTT1s5y"
      },
      "execution_count": null,
      "outputs": []
    },
    {
      "cell_type": "markdown",
      "source": [
        "NOTE: Show this is really persistent.\n",
        "*   Locate Message.txt in the folder content in the tab \"Files\"\n",
        "*   Edit the message in Message.txt\n",
        "*   Re-run the program"
      ],
      "metadata": {
        "id": "utWh9fvzOFZZ"
      }
    },
    {
      "cell_type": "code",
      "source": [
        "def put_text_in_file(text):\n",
        "    with open(\"test-messages.txt\", 'a', encoding='utf-8') as dog:\n",
        "        dog.write(text + \"\\n\")\n",
        "\n",
        "def get_text_out_file():\n",
        "    with open(\"test-messages.txt\", 'r') as file:\n",
        "        contents = []\n",
        "        for line in file:\n",
        "            contents.append(line.strip())\n",
        "    return contents\n",
        "\n",
        "while True:\n",
        "    user_input = input(\"Please enter a message (Enter to view all messages)\")\n",
        "    if user_input == '':\n",
        "        break\n",
        "    put_text_in_file(user_input)\n",
        "\n",
        "messages = get_text_out_file()\n",
        "print(\", \".join(messages))"
      ],
      "metadata": {
        "id": "Gi3ssB8X8W1S"
      },
      "execution_count": null,
      "outputs": []
    },
    {
      "cell_type": "markdown",
      "metadata": {
        "id": "2m8T-kw5zxRt"
      },
      "source": [
        "# Exercise 1\n",
        "\n",
        "- Which line number creates the file handle?\n"
      ]
    },
    {
      "cell_type": "code",
      "execution_count": null,
      "metadata": {
        "id": "BZpXsNUfzxRt"
      },
      "outputs": [],
      "source": [
        "a = \"savename.txt\"\n",
        "with open(a,'w') as b:\n",
        "    c = input(\"Enter your name: \")\n",
        "    b.write(c)"
      ]
    },
    {
      "cell_type": "markdown",
      "metadata": {
        "id": "s83FiFYazxRu"
      },
      "source": [
        "# Example2\n",
        "\n",
        "Common patterns for reading and writing more than one item to a file.\n",
        "- Input a series of grades, write them to a file one line at a time.\n",
        "- Read in that file one line at a time, print average.\n"
      ]
    },
    {
      "cell_type": "markdown",
      "source": [
        "A simple example of reading and writing multiple lines of data to a file.\n"
      ],
      "metadata": {
        "id": "a2aoQ0RFto05"
      }
    },
    {
      "cell_type": "code",
      "source": [
        "filename = \"grades.txt\"\n",
        "count = 0\n",
        "\n",
        "grades = input(\"Enter grades: \").split()\n",
        "with open(filename, 'a', encoding=\"utf-8\") as f:\n",
        "    for grade in grades:\n",
        "        f.write(f\"{grade}\\n\")\n",
        "        print(f\"Appending {grade}\")"
      ],
      "metadata": {
        "id": "iIaX1DC2tzkz"
      },
      "execution_count": null,
      "outputs": []
    },
    {
      "cell_type": "code",
      "source": [
        "# read them in\n",
        "count = 0\n",
        "total = 0\n",
        "with open(filename,'r') as f:\n",
        "    for line in f.readlines():\n",
        "        grade = float(line)\n",
        "        total = total + grade\n",
        "        count = count + 1\n",
        "print(f\"Read in {count} grades. Average is {total/count:.2f} %\")"
      ],
      "metadata": {
        "id": "ErhZftzHyzAa"
      },
      "execution_count": null,
      "outputs": []
    },
    {
      "cell_type": "markdown",
      "source": [
        "The google colab files in /content are temporary.\n",
        "For persistence, you need to save them to your mounted google drive location.\n",
        "\n",
        "You need to mount google drive to your Colab session.\n",
        "\n",
        "To mount Google drive:"
      ],
      "metadata": {
        "id": "L9_iUTg8PmQP"
      }
    },
    {
      "cell_type": "code",
      "source": [
        "from google.colab import drive\n",
        "drive.mount('/content/gdrive')"
      ],
      "metadata": {
        "id": "PCj-jxjl8csn"
      },
      "execution_count": null,
      "outputs": []
    },
    {
      "cell_type": "markdown",
      "source": [
        "Then you can write to google drive:"
      ],
      "metadata": {
        "id": "dlitoapbSOLg"
      }
    },
    {
      "cell_type": "code",
      "source": [
        "filename = \"/content/gdrive/MyDrive/grades.txt\"\n",
        "count = 0\n",
        "\n",
        "grades = input(\"Enter grades: \").split()\n",
        "with open(filename, 'a', encoding=\"utf-8\") as f:\n",
        "    for grade in grades:\n",
        "        f.write(f\"{grade}\\n\")\n",
        "        print(f\"Appending {grade}\")"
      ],
      "metadata": {
        "id": "J6q-02j_BLwy"
      },
      "execution_count": null,
      "outputs": []
    },
    {
      "cell_type": "code",
      "source": [
        "!cat grades.text"
      ],
      "metadata": {
        "id": "3Bk3fmKNZ5SQ"
      },
      "execution_count": null,
      "outputs": []
    },
    {
      "cell_type": "code",
      "source": [
        "!cat /content/gdrive/MyDrive/grades.txt"
      ],
      "metadata": {
        "id": "Y4oW0uaNaF28"
      },
      "execution_count": null,
      "outputs": []
    },
    {
      "cell_type": "markdown",
      "metadata": {
        "id": "aSZ0RWItzxRu"
      },
      "source": [
        "# Handling Errors with Try…Except\n",
        "\n",
        "- I/O is the ideal use case for exception handling.\n",
        "- Don't assume you can read a file!\n",
        "- Use try… except!\n"
      ]
    },
    {
      "cell_type": "code",
      "execution_count": null,
      "metadata": {
        "id": "7pJoNDn3zxRu"
      },
      "outputs": [],
      "source": [
        "try:\n",
        "    file = '/content/gdrive/MyDrive/data.txt'\n",
        "    with open(file,'r') as f:\n",
        "        print( f.read() )\n",
        "except FileNotFoundError:\n",
        "    print(f\"{file} was not found!\")"
      ]
    },
    {
      "cell_type": "markdown",
      "metadata": {
        "id": "9XXsTxpFzxRv"
      },
      "source": [
        "# Exercise 2\n",
        "\n",
        "What is wrong with the following code:"
      ]
    },
    {
      "cell_type": "code",
      "execution_count": null,
      "metadata": {
        "id": "ESJQjlsUzxRv"
      },
      "outputs": [],
      "source": [
        "file = \"a.txt\"\n",
        "with open(file,'w'):\n",
        "    file.write(\"Hello\")"
      ]
    },
    {
      "cell_type": "markdown",
      "metadata": {
        "id": "vnyex3v0zxRv"
      },
      "source": [
        "A. `No file handle`  \n",
        "B. `Cannot write - file opened for reading`  \n",
        "C. `File a.txt does not exist`  \n",
        "D. `Nothing is wrong!`  \n"
      ]
    },
    {
      "cell_type": "markdown",
      "source": [
        "# Exercise 3\n",
        "\n",
        "This Exercise uses a data file \"beer-calories.txt\" which contains calorie information for 254 popular beers. The calories are per 12 fluid ounces.\n",
        "\n",
        "The data file looks like this:\n",
        "\n",
        "...\n",
        "Abita Purple Haze,128\n",
        "\n",
        "Abita Restoration,167\n",
        "\n",
        "Abita Turbodog,168\n",
        "\n",
        "Amstel Light,99\n",
        "\n",
        "Anchor Porter,209\n",
        "\n",
        "...\n",
        "\n",
        "Let's write a program to search for a beer by name and retrieve the number of calories in 12 ounces.\n",
        "\n",
        "### Example Run:\n",
        "\n",
        "Enter a beer name: Stella\n",
        "\n",
        "Searching for Stella...\n",
        "\n",
        "Stella Artois has 154 calories per 12oz."
      ],
      "metadata": {
        "id": "cJRUF4bVpEYu"
      }
    },
    {
      "cell_type": "code",
      "source": [
        "# your code\n"
      ],
      "metadata": {
        "id": "5a4ivc4tpDEW"
      },
      "execution_count": null,
      "outputs": []
    }
  ],
  "metadata": {
    "celltoolbar": "Slideshow",
    "kernelspec": {
      "display_name": "Python 3 (ipykernel)",
      "language": "python",
      "name": "python3"
    },
    "language_info": {
      "codemirror_mode": {
        "name": "ipython",
        "version": 3
      },
      "file_extension": ".py",
      "mimetype": "text/x-python",
      "name": "python",
      "nbconvert_exporter": "python",
      "pygments_lexer": "ipython3",
      "version": "3.11.7"
    },
    "toc": {
      "base_numbering": 1,
      "nav_menu": {},
      "number_sections": false,
      "sideBar": false,
      "skip_h1_title": false,
      "title_cell": "Table of Contents",
      "title_sidebar": "Contents",
      "toc_cell": false,
      "toc_position": {},
      "toc_section_display": false,
      "toc_window_display": false
    },
    "varInspector": {
      "cols": {
        "lenName": 16,
        "lenType": 16,
        "lenVar": 40
      },
      "kernels_config": {
        "python": {
          "delete_cmd_postfix": "",
          "delete_cmd_prefix": "del ",
          "library": "var_list.py",
          "varRefreshCmd": "print(var_dic_list())"
        },
        "r": {
          "delete_cmd_postfix": ") ",
          "delete_cmd_prefix": "rm(",
          "library": "var_list.r",
          "varRefreshCmd": "cat(var_dic_list()) "
        }
      },
      "types_to_exclude": [
        "module",
        "function",
        "builtin_function_or_method",
        "instance",
        "_Feature"
      ],
      "window_display": false
    },
    "colab": {
      "provenance": []
    }
  },
  "nbformat": 4,
  "nbformat_minor": 0
}